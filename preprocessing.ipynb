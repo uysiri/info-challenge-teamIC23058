{
 "cells": [
  {
   "cell_type": "markdown",
   "id": "1a617cf4-c349-4f8b-93e2-9fc660af4b46",
   "metadata": {},
   "source": [
    "## Use this notebook to clean demographic data "
   ]
  },
  {
   "cell_type": "code",
   "execution_count": 1,
   "id": "fec8c36f-27ed-41dc-95fa-80621bc254cf",
   "metadata": {
    "tags": []
   },
   "outputs": [],
   "source": [
    "import pandas as pd\n",
    "import numpy as np"
   ]
  },
  {
   "cell_type": "code",
   "execution_count": 151,
   "id": "319468ae-300c-4d89-9f2b-a2dfdee2f0ee",
   "metadata": {
    "tags": []
   },
   "outputs": [],
   "source": [
    "cen = pd.read_csv(\"cc-est2021-alldata-53.csv\")\n",
    "income = pd.read_csv(\"median_household_income_estimates.csv\")"
   ]
  },
  {
   "cell_type": "markdown",
   "id": "73889b9e-9168-4d08-9101-22de806cb6da",
   "metadata": {
    "jp-MarkdownHeadingCollapsed": true,
    "tags": []
   },
   "source": [
    "Source URL: https://www.ofm.wa.gov/washington-data-research/economy-and-labor-force/median-household-income-estimates\n",
    "\n",
    "\n",
    "- Money income, as defined by the Bureau of the Census, includes wage or salary income, self-employment income, interest, dividend, rental income, social security or other public assistance income, retirement, and disability income; etc.\t\t\n",
    "\n",
    "---\n",
    "Source URL: https://www2.census.gov/programs-surveys/popest/technical-documentation/file-layouts/2020-2021/\n",
    "\n",
    "- The estimates are developed from a base that incorporates the 2020 Census, Vintage 2020 estimates, and 2020 Demographic Analysis estimates"
   ]
  },
  {
   "cell_type": "code",
   "execution_count": 152,
   "id": "2fc9499b-a261-4848-8e8d-b0df8a2dfd25",
   "metadata": {
    "tags": []
   },
   "outputs": [],
   "source": [
    "income.rename(columns={'Unnamed: 0':'County','Unnamed: 1':'medinc19','Unnamed: 2':'estinc2020','Unnamed: 3':'estinc2021'}, inplace=True)\n",
    "\n",
    "income.drop(index=income.index[:4],inplace=True)\n",
    "income.drop(income.iloc[:, 4:37], axis=1, inplace = True)"
   ]
  },
  {
   "cell_type": "code",
   "execution_count": 154,
   "id": "855fe512-f601-4f67-8bf7-1dbf51aee015",
   "metadata": {
    "tags": []
   },
   "outputs": [],
   "source": [
    "income.dropna(axis=0, inplace=True)"
   ]
  },
  {
   "cell_type": "code",
   "execution_count": 155,
   "id": "89d0e203-b29c-4d02-84b7-465a9507e30c",
   "metadata": {
    "tags": []
   },
   "outputs": [],
   "source": [
    "income[['medinc19','estinc2020','estinc2021']] = income[['medinc19','estinc2020','estinc2021']].replace(',', '', regex=True).astype(int)"
   ]
  },
  {
   "cell_type": "code",
   "execution_count": 156,
   "id": "d29abe49-2e8a-43b5-b86e-82073a9fb2c4",
   "metadata": {
    "tags": []
   },
   "outputs": [],
   "source": [
    "# counties we want\n",
    "\n",
    "counties = ['Franklin', 'Pierce', 'Grant', 'Yakima', 'King', 'Snohomish', 'Spokane', 'Mason']\n",
    "\n",
    "income = income.loc[income['County'].isin(counties)]"
   ]
  },
  {
   "cell_type": "code",
   "execution_count": 160,
   "id": "fcf0497e-3742-49ea-8e60-e757886eedda",
   "metadata": {
    "tags": []
   },
   "outputs": [],
   "source": [
    "income.to_csv(\"med_income_washco.csv\")"
   ]
  },
  {
   "cell_type": "code",
   "execution_count": 81,
   "id": "f0b03dc5-b51f-45e1-98b7-46476e2e0ed4",
   "metadata": {
    "tags": []
   },
   "outputs": [],
   "source": [
    "cen['CTYNAME'] = cen['CTYNAME'].replace(r'(\\s*)County', '', regex=True)"
   ]
  },
  {
   "cell_type": "code",
   "execution_count": 82,
   "id": "3a69c9a1-f6a0-47e8-9007-8aa970e10cdb",
   "metadata": {
    "tags": []
   },
   "outputs": [],
   "source": [
    "# counties we want\n",
    "\n",
    "counties = ['Franklin', 'Pierce', 'Grant', 'Yakima', 'King', 'Snohomish', 'Spokane', 'Mason']\n",
    "\n",
    "target = cen.loc[cen['CTYNAME'].isin(counties)]"
   ]
  },
  {
   "cell_type": "code",
   "execution_count": 83,
   "id": "6b3a68be-8dce-41e0-aa0b-8047e6133a30",
   "metadata": {
    "tags": []
   },
   "outputs": [],
   "source": [
    "# year = 4/1/2020\n",
    "\n",
    "target = target.loc[target['YEAR']==2] "
   ]
  },
  {
   "cell_type": "code",
   "execution_count": 90,
   "id": "4ec11ad4-3aff-4c74-957d-6f8548ff7961",
   "metadata": {
    "tags": []
   },
   "outputs": [],
   "source": [
    "colname = ['NHWA_MALE', 'NHWA_FEMALE', 'NHBA_MALE', 'NHBA_FEMALE', 'NHIA_MALE','NHIA_FEMALE', 'NHAA_MALE', 'NHAA_FEMALE', 'NHNA_MALE', 'NHNA_FEMALE', 'H_MALE', 'H_FEMALE', 'NHTOM_MALE', 'NHTOM_FEMALE']\n",
    "sumlist = target[colname].sum(axis=1)"
   ]
  },
  {
   "cell_type": "code",
   "execution_count": 101,
   "id": "82c112aa-18b6-4518-943f-19ab1ca290e2",
   "metadata": {
    "tags": []
   },
   "outputs": [],
   "source": [
    "target.drop(target.iloc[:, 10:34], axis=1, inplace=True)"
   ]
  },
  {
   "cell_type": "code",
   "execution_count": 115,
   "id": "8a6859d8-1bdf-4121-8a4a-25d5acc340fe",
   "metadata": {
    "tags": []
   },
   "outputs": [],
   "source": [
    "target.drop(target.iloc[:, 22:32], axis=1, inplace=True)"
   ]
  },
  {
   "cell_type": "code",
   "execution_count": 129,
   "id": "16a98212-f787-4255-92d6-a5eaed304d9a",
   "metadata": {
    "tags": []
   },
   "outputs": [],
   "source": [
    "target.drop(target.iloc[:, 24:46], axis=1, inplace=True)"
   ]
  },
  {
   "cell_type": "code",
   "execution_count": 131,
   "id": "a4d9a117-b9b9-4036-9d3e-a3dade4df31d",
   "metadata": {
    "tags": []
   },
   "outputs": [],
   "source": [
    "colname = ['NHWA_MALE', 'NHWA_FEMALE', 'NHBA_MALE', 'NHBA_FEMALE', 'NHIA_MALE','NHIA_FEMALE', 'NHAA_MALE', 'NHAA_FEMALE', 'NHNA_MALE', 'NHNA_FEMALE', 'H_MALE', 'H_FEMALE', 'NHTOM_MALE', 'NHTOM_FEMALE']\n",
    "sumlist = target[colname].sum(axis=1)"
   ]
  },
  {
   "cell_type": "code",
   "execution_count": 137,
   "id": "03a14706-4c13-43b5-9324-6b1a77078a66",
   "metadata": {
    "tags": []
   },
   "outputs": [],
   "source": [
    "target['totalWA'] = target[['NHWA_MALE', 'NHWA_FEMALE']].sum(axis=1)\n",
    "target['totalBA'] = target[['NHBA_MALE', 'NHBA_FEMALE']].sum(axis=1)\n",
    "target['totalIA'] = target[['NHIA_MALE', 'NHIA_FEMALE']].sum(axis=1)\n",
    "target['totalAA'] = target[['NHAA_MALE', 'NHAA_FEMALE']].sum(axis=1)\n",
    "target['totalNA'] = target[['NHNA_MALE', 'NHNA_FEMALE']].sum(axis=1)\n",
    "target['totalH'] = target[['H_MALE', 'H_FEMALE']].sum(axis=1)\n",
    "target['totalTOM'] = target[['NHTOM_MALE', 'NHTOM_FEMALE']].sum(axis=1)"
   ]
  },
  {
   "cell_type": "code",
   "execution_count": 139,
   "id": "8aa7f00d-361f-4407-b739-1eeebfb1ae06",
   "metadata": {
    "tags": []
   },
   "outputs": [],
   "source": [
    "target.drop(['NHWA_MALE', 'NHWA_FEMALE', 'NHBA_MALE', 'NHBA_FEMALE', 'NHIA_MALE','NHIA_FEMALE', 'NHAA_MALE', 'NHAA_FEMALE', 'NHNA_MALE', 'NHNA_FEMALE', 'H_MALE', 'H_FEMALE', 'NHTOM_MALE', 'NHTOM_FEMALE'], axis=1, inplace=True)"
   ]
  },
  {
   "cell_type": "code",
   "execution_count": 143,
   "id": "16332d17-bc69-47dd-a6ee-c5aa518cbd2d",
   "metadata": {
    "tags": []
   },
   "outputs": [],
   "source": [
    "target.to_csv(\"highriskdemographics.csv\")"
   ]
  },
  {
   "cell_type": "markdown",
   "id": "0bf07472-d438-4159-8652-13c75e1877ef",
   "metadata": {},
   "source": [
    "1, 2, 3 = 0-14 (can't drive)\n",
    "\n",
    "4, 5, 6 = 15-29 (young, can drive)\n",
    "\n",
    "7, 8, 9 = 30-44 \n",
    "\n",
    "10, 11, 12 = 45-59\n",
    "\n",
    "13, 14, 15 = 60-74 \n",
    "\n",
    "16, 17, 18 = 70+"
   ]
  },
  {
   "cell_type": "code",
   "execution_count": 132,
   "id": "4f1c567b-e412-4643-addc-404251d3f2ed",
   "metadata": {
    "tags": []
   },
   "outputs": [
    {
     "data": {
      "text/plain": [
       "589     97076\n",
       "590      8140\n",
       "591      8691\n",
       "592      9138\n",
       "593      8045\n",
       "        ...  \n",
       "2199    11670\n",
       "2200     9611\n",
       "2201     6444\n",
       "2202     4053\n",
       "2203     3922\n",
       "Length: 152, dtype: int64"
      ]
     },
     "execution_count": 132,
     "metadata": {},
     "output_type": "execute_result"
    }
   ],
   "source": [
    "sumlist"
   ]
  }
 ],
 "metadata": {
  "kernelspec": {
   "display_name": "Python 3 (ipykernel)",
   "language": "python",
   "name": "python3"
  },
  "language_info": {
   "codemirror_mode": {
    "name": "ipython",
    "version": 3
   },
   "file_extension": ".py",
   "mimetype": "text/x-python",
   "name": "python",
   "nbconvert_exporter": "python",
   "pygments_lexer": "ipython3",
   "version": "3.9.15"
  }
 },
 "nbformat": 4,
 "nbformat_minor": 5
}
