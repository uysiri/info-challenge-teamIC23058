{
 "cells": [
  {
   "cell_type": "code",
   "execution_count": 2,
   "id": "54332a8d-b93c-4d9e-ade5-1ef5570c94d0",
   "metadata": {},
   "outputs": [],
   "source": [
    "import pandas as pd\n",
    "import numpy as np\n",
    "\n",
    "df = pd.read_csv(\"Data_Washington Fatal Crash Survey.csv\", low_memory=False)\n",
    "zips = pd.read_csv(\"US%20Zip%20Codes%20from%202013%20Government%20Data.txt\")"
   ]
  },
  {
   "cell_type": "markdown",
   "id": "f65c3e44-475b-406c-af17-9e132b72608d",
   "metadata": {},
   "source": [
    "\n",
    "\n",
    "#'methdrug', 'drugsts', drugtst1-12, drugres1-12, 'alcres', 'alcsts', 'alctst'\n",
    "#ejectpath alcmeth\n",
    "#investjur repjur\n",
    "\n",
    "We will drop all columns that are more than 90% NANs because there are not enough values for them to be significant. We'll also drop columns that are not relevant to the problem statement: ['hosp_tm','arr_tm','not_tm','investjur','repjur','lab','methdrug','alcmeth','drugsts','drugtst1']"
   ]
  },
  {
   "cell_type": "markdown",
   "id": "3885be53-5f36-4bab-ba8f-9c95ea827faf",
   "metadata": {},
   "source": [
    "## Notes\n",
    "- Before COVID -- seattle has lots of commuters every day\n",
    "- Since COVID -- people moving farther away from city centers\n",
    "- Relevant for rural areas + out of staters as well\n",
    "\n",
    "\n",
    "- how to prevent fatal crashes? \n",
    "- Are the people causing crashes the ones that live there? \n",
    "- Is it the zipcode one over?or nearby? --> use haversine distance!\n",
    "- Are there certain zipcodes that PRODUCE high risk drivers? (age, intox, race)\n",
    "- Who's involved? Cars/bikes/trucks/people --> we look at the **driver**\n",
    "- also matters: average speed limit of area\n",
    "\n",
    "\n",
    "- are we allowed to pull external data such as economic status/median income/median home price\n",
    "- reverse geocoding ! \n",
    "- hmmmmm could we find the home address of the drivers lol \n",
    "\n",
    "\n",
    "- crash zip codes (crash level)--> maybe 3+ drivers from diff places involved in the crash... but who's at fault? that's what matters\n",
    "- census data \n",
    "- rubric criteria: add additional data -- income data \n",
    "- there's a freeway exit in WASH that's notorious for crashes because high speed lim + narrow curve \n",
    "- 5 years of data 2017-2021 -- west coast hit by covid first 2019-2020 investigate changes in commuting patterns, increase in substance abuse, people driving faster because less people on the road "
   ]
  },
  {
   "cell_type": "markdown",
   "id": "f2b79ff6-6d32-4462-a6d0-5ce81aebd348",
   "metadata": {},
   "source": [
    "### Derive zip code fro crashes "
   ]
  },
  {
   "cell_type": "code",
   "execution_count": null,
   "id": "89dc6e22-d725-41f8-8e62-2c2850a49915",
   "metadata": {},
   "outputs": [],
   "source": [
    "# long : x\n",
    "# lat : y\n",
    "\n",
    "# driver zip code : dzip "
   ]
  },
  {
   "cell_type": "code",
   "execution_count": 3,
   "id": "4f1c9ee8-72d7-4983-a136-bf6ca7cd1822",
   "metadata": {},
   "outputs": [],
   "source": [
    "# zips data is super long\n",
    "# keep just what we need\n",
    "\n",
    "zips = zips[zips[\"LAT\"].between(44, 79)]"
   ]
  },
  {
   "cell_type": "code",
   "execution_count": 5,
   "id": "26c810bd-6cf4-4900-855a-041dda18a732",
   "metadata": {},
   "outputs": [],
   "source": [
    "# find the nearest zip code for crash lat long \n",
    "# compute haversine distance \n",
    "\n",
    "from math import radians, cos, sin, asin, sqrt\n",
    "def dist(lat1, long1, lat2, long2):\n",
    "\n",
    "    # convert decimal degrees to radians \n",
    "    lat1, long1, lat2, long2 = map(radians, [lat1, long1, lat2, long2])\n",
    "    # haversine formula \n",
    "    dlon = long2 - long1 \n",
    "    dlat = lat2 - lat1 \n",
    "    a = sin(dlat/2)**2 + cos(lat1) * cos(lat2) * sin(dlon/2)**2\n",
    "    c = 2 * asin(sqrt(a)) \n",
    "    # Radius of earth in kilometers is 6371\n",
    "    km = 6371* c\n",
    "    return km\n",
    "\n",
    "def find_nearest(lat, long):\n",
    "    distances = zips.apply(\n",
    "        lambda row: dist(lat, long, row['LAT'], row['LNG']), \n",
    "        axis=1)\n",
    "    return zips.loc[distances.idxmin(), 'ZIP']"
   ]
  },
  {
   "cell_type": "code",
   "execution_count": 6,
   "id": "5e11ba36-c363-473d-8103-3d5b6b83d2ba",
   "metadata": {
    "tags": []
   },
   "outputs": [],
   "source": [
    "# czip is the nearest matching zip based on coordinates\n",
    "\n",
    "df['czip'] = df.apply(\n",
    "    lambda row: find_nearest(row['y'], row['x']), \n",
    "    axis=1)"
   ]
  },
  {
   "cell_type": "code",
   "execution_count": 225,
   "id": "a48ab9b9-5cb8-408b-827f-0449d5deda4a",
   "metadata": {},
   "outputs": [],
   "source": [
    "df.to_csv(\"crashdata.csv\")"
   ]
  },
  {
   "cell_type": "code",
   "execution_count": 227,
   "id": "e553b456-b01a-422d-8e70-217372207e92",
   "metadata": {},
   "outputs": [],
   "source": [
    "df[\"crash_dt\"]= pd.to_datetime(df[\"crash_dt\"])"
   ]
  },
  {
   "cell_type": "code",
   "execution_count": 248,
   "id": "b293c867-0ee1-49a7-af5f-72fc5a9bea7d",
   "metadata": {},
   "outputs": [],
   "source": [
    "# df = df.loc[:, df.isnull().mean() < .9]"
   ]
  },
  {
   "cell_type": "markdown",
   "id": "baa42eb7-5b2f-4da4-91dd-c69c25202f2f",
   "metadata": {},
   "source": [
    "drf1-4 (before 2010) distract1-6 (post 2010) --> merge columns into 1 "
   ]
  }
 ],
 "metadata": {
  "kernelspec": {
   "display_name": "Python 3 (ipykernel)",
   "language": "python",
   "name": "python3"
  },
  "language_info": {
   "codemirror_mode": {
    "name": "ipython",
    "version": 3
   },
   "file_extension": ".py",
   "mimetype": "text/x-python",
   "name": "python",
   "nbconvert_exporter": "python",
   "pygments_lexer": "ipython3",
   "version": "3.9.15"
  }
 },
 "nbformat": 4,
 "nbformat_minor": 5
}
