{
 "cells": [
  {
   "cell_type": "code",
   "execution_count": 4,
   "id": "54332a8d-b93c-4d9e-ade5-1ef5570c94d0",
   "metadata": {},
   "outputs": [],
   "source": [
    "import pandas as pd\n",
    "import numpy as np\n",
    "\n",
    "df = pd.read_csv(\"Data_Washington Fatal Crash Survey.csv\", low_memory=False)\n",
    "zips = pd.read_csv(\"US%20Zip%20Codes%20from%202013%20Government%20Data.txt\")"
   ]
  },
  {
   "cell_type": "code",
   "execution_count": 9,
   "id": "1e75be15-7142-4d6d-83b5-1098794e651e",
   "metadata": {
    "tags": []
   },
   "outputs": [],
   "source": [
    "from arcgis.geocoding import reverse_geocode\n",
    "from arcgis.geometry import Geometry\n",
    "from arcgis.gis import GIS"
   ]
  },
  {
   "cell_type": "markdown",
   "id": "f65c3e44-475b-406c-af17-9e132b72608d",
   "metadata": {},
   "source": [
    "\n",
    "\n",
    "#'methdrug', 'drugsts', drugtst1-12, drugres1-12, 'alcres', 'alcsts', 'alctst'\n",
    "#ejectpath alcmeth\n",
    "#investjur repjur\n",
    "\n",
    "We will drop all columns that are more than 90% NANs because there are not enough values for them to be significant. We'll also drop columns that are not relevant to the problem statement: ['hosp_tm','arr_tm','not_tm','investjur','repjur','lab','methdrug','alcmeth','drugsts','drugtst1']"
   ]
  },
  {
   "cell_type": "markdown",
   "id": "f2b79ff6-6d32-4462-a6d0-5ce81aebd348",
   "metadata": {},
   "source": [
    "## Derive zip code for crashes \n",
    "\n",
    "Method: Reverse geocoding with ArcGIS and impute any missing zipcode values"
   ]
  },
  {
   "cell_type": "code",
   "execution_count": 10,
   "id": "89dc6e22-d725-41f8-8e62-2c2850a49915",
   "metadata": {},
   "outputs": [],
   "source": [
    "# long : x\n",
    "# lat : y\n",
    "\n",
    "# driver zip code : dzip \n",
    "df.rename(columns={'x': 'lon', 'y': 'lat'}, inplace=True)"
   ]
  },
  {
   "cell_type": "code",
   "execution_count": 12,
   "id": "f9ad8493-b0d6-4f70-94f9-fa6b0f80d198",
   "metadata": {
    "tags": []
   },
   "outputs": [],
   "source": [
    "gis = GIS(api_key=\"AAPK206d8c337d5a416ca8a7824330c0ca7bkQWmIxSD8K5_qxX1ly5btaWLcl36cVX_1iDwCQxl_IgY56Zh6TN-Usx26i4oM77l\")\n",
    "# exposed for now\n",
    "\n",
    "def get_zip(df,lon_field, lat_field):\n",
    "    location = reverse_geocode((Geometry({\"x\":float(df[lon_field]),\"y\":float(df[lat_field]), \"spatialReference\":{\"wkid\":4326}})))\n",
    "    return location['address']['Postal']\n",
    "\n",
    "df['crashzip'] = df.apply(get_zip, axis=1, lat_field='lat', lon_field='lon')"
   ]
  },
  {
   "cell_type": "code",
   "execution_count": 83,
   "id": "57b56a83-4307-4b84-9625-c72e887a1932",
   "metadata": {
    "tags": []
   },
   "outputs": [],
   "source": [
    "# update missing crash zip values in df \n",
    "# case 78 03/18/2020 in county 45(Pacific) --> crash lat long improperly recorded  78.304936,  -778.304936 impossible! city = unincorporated\n",
    "# FOREST SERVICES RD 2300 is not an actual road... should we drop the row?\n",
    "# case 349 09/12/2021 in county 5 --> zip: 99352 could not be identified by arcGIS identified using haversine distance\n",
    "# case 638 09/05/2021 in county 19(Ferry) --> lat long recorded as 78.304936,  -778.304936 impossible! city = unincorporated\n",
    "# Ferry county is on a reservation in the middle of nowhere next to a natl forest far northeast of WA \n",
    "# crash occurred on BRIDGE CREEK RD in Ferry County --> brute force zip: 99138\n",
    "\n",
    "df.loc[3690,\"crashzip\"] = 99352\n",
    "df.loc[4128,\"crashzip\"] = 99138"
   ]
  },
  {
   "cell_type": "code",
   "execution_count": 84,
   "id": "b450cc18-6ada-4893-bc97-0bcaa93b07a7",
   "metadata": {
    "tags": []
   },
   "outputs": [],
   "source": [
    "# saved because computationally expensive \n",
    "# don't want to call API every time we run the code \n",
    "# DONT RUN THAT PART \n",
    "\n",
    "df.to_csv('crashdata_updated.csv') # import THIS data set"
   ]
  },
  {
   "cell_type": "markdown",
   "id": "3859a4a7-7da7-48cf-a71c-bd0ad1b33a35",
   "metadata": {},
   "source": [
    "## What proportion of drivers involved in fatal crashes crash in communities where they live?\n",
    "\n",
    "Method: Calculate proportion mathematically"
   ]
  },
  {
   "cell_type": "code",
   "execution_count": 313,
   "id": "d57c1031-6f55-453a-a458-41691f5155b8",
   "metadata": {
    "tags": []
   },
   "outputs": [],
   "source": [
    "# start from here\n",
    "\n",
    "data = pd.read_csv(\"crashdata_updated.csv\", low_memory=False) # some cols have mixed dtypes...\n",
    "data[\"crash_dt\"]= pd.to_datetime(data[\"crash_dt\"])\n",
    "data[\"licstate\"]= data[\"licstate\"].astype(str)\n",
    "\n",
    "# Among drivers involved in fatal crashes, what proportion are involved in crashes in communities where they live?\n",
    "\n",
    "# How do we want to define \"community\"? Zip code should be fine... \n",
    "data['dzip'] = data['dzip'].astype(str)\n",
    "# get rid of the trailing zeros\n",
    "data['dzip'] = data['dzip'].replace(r'\\.0$', '', regex=True)"
   ]
  },
  {
   "cell_type": "code",
   "execution_count": 314,
   "id": "e71e433d-e59e-4e5f-8709-4c8017fb9ec1",
   "metadata": {
    "tags": []
   },
   "outputs": [],
   "source": [
    "# In order for this calculation to be accurate, we need to remove the rows where BOTH zip code and state is \"unknown\" or \"not reported\" because the driver zip for each of these rows won't match the crash zip but we have no way validating where the driver is ACTUALLY from-- we cannot assume that the driver is from out of state/country \n",
    "\n",
    "# Answers hinge on the assumption that the driver's zip code for each observation is accurate \n",
    "for index, row in data.iterrows():\n",
    "    if row['dzip']=='99999' and row['licstate']=='99':\n",
    "        data.drop(index, inplace=True)\n",
    "    if row['dzip']=='99999' and row['licstate']=='98':\n",
    "        data.drop(index, inplace=True)"
   ]
  },
  {
   "cell_type": "code",
   "execution_count": 326,
   "id": "f7e122cb-17ad-43f2-a0db-1968fc6ebe6f",
   "metadata": {
    "tags": []
   },
   "outputs": [],
   "source": [
    "# should be done\n",
    "\n",
    "data.reset_index(inplace=True)"
   ]
  },
  {
   "cell_type": "code",
   "execution_count": 333,
   "id": "8fc7e138-507f-45b5-935f-df55d3751151",
   "metadata": {
    "tags": []
   },
   "outputs": [
    {
     "name": "stdout",
     "output_type": "stream",
     "text": [
      "licstate        1\n",
      "dzip        99999\n",
      "Name: 1359, dtype: object State/Country=Alabama\n",
      "licstate       95\n",
      "dzip        99999\n",
      "Name: 984, dtype: object State/Country = Canada\n"
     ]
    }
   ],
   "source": [
    "# For the crashes where driver's zip is \"unknown\" (99999) but state is known --> ok to keep since they are out of state\n",
    "print(data[['licstate','dzip']].iloc[1359], \"State/Country=Alabama\") # index 1359 licstate = 1 (ALABAMA) \n",
    "print(data[['licstate','dzip']].iloc[984], \"State/Country = Canada\") # index 984 licstate = 95 (CANADA) No ZIP "
   ]
  },
  {
   "cell_type": "code",
   "execution_count": 336,
   "id": "53a66785-d275-4da9-a07f-a1f13ff40bef",
   "metadata": {
    "tags": []
   },
   "outputs": [
    {
     "name": "stdout",
     "output_type": "stream",
     "text": [
      "The proportion of drivers involved in fatal crashes where they don't live = 0.75736568457539\n"
     ]
    }
   ],
   "source": [
    "print(\"The proportion of drivers involved in fatal crashes where they don't live = {}\".format(len(data.query('dzip != crashzip'))/len(data)))"
   ]
  },
  {
   "cell_type": "code",
   "execution_count": 337,
   "id": "69c1e108-189b-4830-a514-57fc4bf4527c",
   "metadata": {
    "tags": []
   },
   "outputs": [
    {
     "name": "stdout",
     "output_type": "stream",
     "text": [
      "The proportion of drivers involved in fatal crashes where they live = 0.24263431542461006\n"
     ]
    }
   ],
   "source": [
    "print(\"The proportion of drivers involved in fatal crashes where they live = {}\".format(len(data.query('dzip == crashzip'))/len(data)))"
   ]
  },
  {
   "cell_type": "markdown",
   "id": "6295fa35-cbb1-4748-990c-8cf97804e479",
   "metadata": {},
   "source": [
    "- Calculate the same proportions for before Spring 2020 and after Spring 2020\n",
    "- Represent these 3 proportions in a horizontal stacked bar chart "
   ]
  },
  {
   "cell_type": "code",
   "execution_count": null,
   "id": "57ade299-656f-4147-a1ed-c17b40263db9",
   "metadata": {},
   "outputs": [],
   "source": [
    "df = df.loc[:, df.isnull().mean() < .9]"
   ]
  },
  {
   "cell_type": "markdown",
   "id": "0ecb966c-cdda-4ff3-888e-1b06d6a5b3b4",
   "metadata": {
    "tags": []
   },
   "source": [
    "## Is there a difference between types of crashes and behavior factors among residents vs visitors?\n",
    "\n",
    "Method: Chi-Squared Test for Homogeneity between crashes among residents and visitors\n",
    "\n",
    "- null hypothesis: Visitor and Resident populations are homogeneous regarding the proportions of categories of categorical variables (crash/behavior factors)"
   ]
  },
  {
   "cell_type": "code",
   "execution_count": 338,
   "id": "22a9c54f-8031-4660-9db7-3f47d5832e4d",
   "metadata": {
    "tags": []
   },
   "outputs": [],
   "source": [
    "# Create a categorical variable to represent whether driver is local resident or visitor\n",
    "# \"resident\" = local resident\n",
    "# \"visitor\" = out of town\n",
    "\n",
    "drive_res = [] # set empty list \n",
    "for index, row in data.iterrows():\n",
    "    if row['dzip']==row['crashzip']:\n",
    "        drive_res.append(\"resident\") # if equal add \"resident\" to list\n",
    "    else:\n",
    "        drive_res.append(\"visitor\") # else add \"visitor\"\n",
    "        \n",
    "data[\"d_res\"] = drive_res # cast list as df column"
   ]
  },
  {
   "cell_type": "code",
   "execution_count": 203,
   "id": "920b26dc-87b3-4889-b984-907a111777a7",
   "metadata": {
    "tags": []
   },
   "outputs": [],
   "source": [
    "# method: chi-squared test of homogeneity \n",
    "\n",
    "# Is there a difference between the types of crashes among residents vs visitors?\n",
    "# Is there a difference between the behavior factors among residents vs visitors?"
   ]
  },
  {
   "cell_type": "code",
   "execution_count": 339,
   "id": "723acf52-dc3c-4c4b-8835-53b5eccf7410",
   "metadata": {
    "tags": []
   },
   "outputs": [],
   "source": [
    "# experimental crosstabs to look at the data lol\n",
    "\n",
    "# crash level\n",
    "crash_tab = pd.crosstab([data.numfatal,data.roadclass,data.pv_inv,data.ped_inv,data.ht_inv,data.bike_inv,data.mc_inv],data.d_res, rownames = [\"Fatalities\", \"RoadClass\",\"PV_inv\",\"PED_inv\",\"HT_inv\",\"Bike_inv\", \"MC_inv\"],colnames = [\"Driver\"],margins=True, margins_name=\"Total\")\n",
    "\n",
    "crashtype = pd.crosstab([data.numfatal,data.crashtype],data.d_res, rownames = [\"Fatalities\", \"Crashtype\"],colnames = [\"Driver\"],margins=True, margins_name=\"Total\")\n",
    "\n",
    "# driver behavior level\n",
    "behav_tab = pd.crosstab([data.dd_inv,data.speed_inv,data.drowsy_inv,data.drdist_inv],data.d_res, rownames = [\"Drinking\",\"Speeding\",\"Drowsy\",\"Distract\"],colnames = [\"Driver\"],margins=True, margins_name=\"Total\")"
   ]
  },
  {
   "cell_type": "code",
   "execution_count": 340,
   "id": "db514eff-ce0e-4370-bef8-be223f077e17",
   "metadata": {
    "tags": []
   },
   "outputs": [
    {
     "data": {
      "text/html": [
       "<div>\n",
       "<style scoped>\n",
       "    .dataframe tbody tr th:only-of-type {\n",
       "        vertical-align: middle;\n",
       "    }\n",
       "\n",
       "    .dataframe tbody tr th {\n",
       "        vertical-align: top;\n",
       "    }\n",
       "\n",
       "    .dataframe thead th {\n",
       "        text-align: right;\n",
       "    }\n",
       "</style>\n",
       "<table border=\"1\" class=\"dataframe\">\n",
       "  <thead>\n",
       "    <tr style=\"text-align: right;\">\n",
       "      <th></th>\n",
       "      <th>Driver</th>\n",
       "      <th>resident</th>\n",
       "      <th>visitor</th>\n",
       "      <th>Total</th>\n",
       "    </tr>\n",
       "    <tr>\n",
       "      <th>Fatalities</th>\n",
       "      <th>Crashtype</th>\n",
       "      <th></th>\n",
       "      <th></th>\n",
       "      <th></th>\n",
       "    </tr>\n",
       "  </thead>\n",
       "  <tbody>\n",
       "    <tr>\n",
       "      <th rowspan=\"5\" valign=\"top\">1</th>\n",
       "      <th>0</th>\n",
       "      <td>4</td>\n",
       "      <td>15</td>\n",
       "      <td>19</td>\n",
       "    </tr>\n",
       "    <tr>\n",
       "      <th>1</th>\n",
       "      <td>89</td>\n",
       "      <td>234</td>\n",
       "      <td>323</td>\n",
       "    </tr>\n",
       "    <tr>\n",
       "      <th>2</th>\n",
       "      <td>34</td>\n",
       "      <td>91</td>\n",
       "      <td>125</td>\n",
       "    </tr>\n",
       "    <tr>\n",
       "      <th>3</th>\n",
       "      <td>1</td>\n",
       "      <td>1</td>\n",
       "      <td>2</td>\n",
       "    </tr>\n",
       "    <tr>\n",
       "      <th>5</th>\n",
       "      <td>1</td>\n",
       "      <td>1</td>\n",
       "      <td>2</td>\n",
       "    </tr>\n",
       "    <tr>\n",
       "      <th>...</th>\n",
       "      <th>...</th>\n",
       "      <td>...</td>\n",
       "      <td>...</td>\n",
       "      <td>...</td>\n",
       "    </tr>\n",
       "    <tr>\n",
       "      <th rowspan=\"4\" valign=\"top\">4</th>\n",
       "      <th>50</th>\n",
       "      <td>0</td>\n",
       "      <td>1</td>\n",
       "      <td>1</td>\n",
       "    </tr>\n",
       "    <tr>\n",
       "      <th>51</th>\n",
       "      <td>1</td>\n",
       "      <td>0</td>\n",
       "      <td>1</td>\n",
       "    </tr>\n",
       "    <tr>\n",
       "      <th>86</th>\n",
       "      <td>0</td>\n",
       "      <td>1</td>\n",
       "      <td>1</td>\n",
       "    </tr>\n",
       "    <tr>\n",
       "      <th>87</th>\n",
       "      <td>0</td>\n",
       "      <td>1</td>\n",
       "      <td>1</td>\n",
       "    </tr>\n",
       "    <tr>\n",
       "      <th>Total</th>\n",
       "      <th></th>\n",
       "      <td>980</td>\n",
       "      <td>3059</td>\n",
       "      <td>4039</td>\n",
       "    </tr>\n",
       "  </tbody>\n",
       "</table>\n",
       "<p>115 rows × 3 columns</p>\n",
       "</div>"
      ],
      "text/plain": [
       "Driver                resident  visitor  Total\n",
       "Fatalities Crashtype                          \n",
       "1          0                 4       15     19\n",
       "           1                89      234    323\n",
       "           2                34       91    125\n",
       "           3                 1        1      2\n",
       "           5                 1        1      2\n",
       "...                        ...      ...    ...\n",
       "4          50                0        1      1\n",
       "           51                1        0      1\n",
       "           86                0        1      1\n",
       "           87                0        1      1\n",
       "Total                      980     3059   4039\n",
       "\n",
       "[115 rows x 3 columns]"
      ]
     },
     "execution_count": 340,
     "metadata": {},
     "output_type": "execute_result"
    }
   ],
   "source": [
    "crashtype"
   ]
  },
  {
   "cell_type": "code",
   "execution_count": 341,
   "id": "23373035-f6a2-4196-8076-69f07e9697b9",
   "metadata": {
    "tags": []
   },
   "outputs": [
    {
     "data": {
      "text/html": [
       "<div>\n",
       "<style scoped>\n",
       "    .dataframe tbody tr th:only-of-type {\n",
       "        vertical-align: middle;\n",
       "    }\n",
       "\n",
       "    .dataframe tbody tr th {\n",
       "        vertical-align: top;\n",
       "    }\n",
       "\n",
       "    .dataframe thead th {\n",
       "        text-align: right;\n",
       "    }\n",
       "</style>\n",
       "<table border=\"1\" class=\"dataframe\">\n",
       "  <thead>\n",
       "    <tr style=\"text-align: right;\">\n",
       "      <th></th>\n",
       "      <th></th>\n",
       "      <th></th>\n",
       "      <th>Driver</th>\n",
       "      <th>resident</th>\n",
       "      <th>visitor</th>\n",
       "      <th>Total</th>\n",
       "    </tr>\n",
       "    <tr>\n",
       "      <th>Drinking</th>\n",
       "      <th>Speeding</th>\n",
       "      <th>Drowsy</th>\n",
       "      <th>Distract</th>\n",
       "      <th></th>\n",
       "      <th></th>\n",
       "      <th></th>\n",
       "    </tr>\n",
       "  </thead>\n",
       "  <tbody>\n",
       "    <tr>\n",
       "      <th rowspan=\"7\" valign=\"top\">0</th>\n",
       "      <th rowspan=\"4\" valign=\"top\">0</th>\n",
       "      <th rowspan=\"2\" valign=\"top\">0</th>\n",
       "      <th>0</th>\n",
       "      <td>355</td>\n",
       "      <td>1124</td>\n",
       "      <td>1479</td>\n",
       "    </tr>\n",
       "    <tr>\n",
       "      <th>1</th>\n",
       "      <td>149</td>\n",
       "      <td>408</td>\n",
       "      <td>557</td>\n",
       "    </tr>\n",
       "    <tr>\n",
       "      <th rowspan=\"2\" valign=\"top\">1</th>\n",
       "      <th>0</th>\n",
       "      <td>15</td>\n",
       "      <td>35</td>\n",
       "      <td>50</td>\n",
       "    </tr>\n",
       "    <tr>\n",
       "      <th>1</th>\n",
       "      <td>0</td>\n",
       "      <td>3</td>\n",
       "      <td>3</td>\n",
       "    </tr>\n",
       "    <tr>\n",
       "      <th rowspan=\"3\" valign=\"top\">1</th>\n",
       "      <th rowspan=\"2\" valign=\"top\">0</th>\n",
       "      <th>0</th>\n",
       "      <td>124</td>\n",
       "      <td>491</td>\n",
       "      <td>615</td>\n",
       "    </tr>\n",
       "    <tr>\n",
       "      <th>1</th>\n",
       "      <td>15</td>\n",
       "      <td>64</td>\n",
       "      <td>79</td>\n",
       "    </tr>\n",
       "    <tr>\n",
       "      <th>1</th>\n",
       "      <th>0</th>\n",
       "      <td>2</td>\n",
       "      <td>4</td>\n",
       "      <td>6</td>\n",
       "    </tr>\n",
       "    <tr>\n",
       "      <th rowspan=\"5\" valign=\"top\">1</th>\n",
       "      <th rowspan=\"3\" valign=\"top\">0</th>\n",
       "      <th rowspan=\"2\" valign=\"top\">0</th>\n",
       "      <th>0</th>\n",
       "      <td>126</td>\n",
       "      <td>452</td>\n",
       "      <td>578</td>\n",
       "    </tr>\n",
       "    <tr>\n",
       "      <th>1</th>\n",
       "      <td>46</td>\n",
       "      <td>101</td>\n",
       "      <td>147</td>\n",
       "    </tr>\n",
       "    <tr>\n",
       "      <th>1</th>\n",
       "      <th>0</th>\n",
       "      <td>2</td>\n",
       "      <td>6</td>\n",
       "      <td>8</td>\n",
       "    </tr>\n",
       "    <tr>\n",
       "      <th rowspan=\"2\" valign=\"top\">1</th>\n",
       "      <th rowspan=\"2\" valign=\"top\">0</th>\n",
       "      <th>0</th>\n",
       "      <td>137</td>\n",
       "      <td>329</td>\n",
       "      <td>466</td>\n",
       "    </tr>\n",
       "    <tr>\n",
       "      <th>1</th>\n",
       "      <td>9</td>\n",
       "      <td>42</td>\n",
       "      <td>51</td>\n",
       "    </tr>\n",
       "    <tr>\n",
       "      <th>Total</th>\n",
       "      <th></th>\n",
       "      <th></th>\n",
       "      <th></th>\n",
       "      <td>980</td>\n",
       "      <td>3059</td>\n",
       "      <td>4039</td>\n",
       "    </tr>\n",
       "  </tbody>\n",
       "</table>\n",
       "</div>"
      ],
      "text/plain": [
       "Driver                             resident  visitor  Total\n",
       "Drinking Speeding Drowsy Distract                          \n",
       "0        0        0      0              355     1124   1479\n",
       "                         1              149      408    557\n",
       "                  1      0               15       35     50\n",
       "                         1                0        3      3\n",
       "         1        0      0              124      491    615\n",
       "                         1               15       64     79\n",
       "                  1      0                2        4      6\n",
       "1        0        0      0              126      452    578\n",
       "                         1               46      101    147\n",
       "                  1      0                2        6      8\n",
       "         1        0      0              137      329    466\n",
       "                         1                9       42     51\n",
       "Total                                   980     3059   4039"
      ]
     },
     "execution_count": 341,
     "metadata": {},
     "output_type": "execute_result"
    }
   ],
   "source": [
    "behav_tab"
   ]
  },
  {
   "cell_type": "markdown",
   "id": "e5b0f30a-6dea-445d-a8c9-2a6ec31d7e5d",
   "metadata": {},
   "source": [
    "## Are there specific resident ZIP Codes that tend to produce higher-risk drivers that are involved in fatal crashes at a higher rate?\n",
    "\n",
    "- Keywords: produce... tend... and rate...\n",
    "\n",
    "- For simplicity we'll just assume that \"high risk\" = all of these drivers since they all killed at least 1 person \n",
    "- Calculate: # of high risk drivers/total population of zip code"
   ]
  },
  {
   "cell_type": "code",
   "execution_count": null,
   "id": "129954e7-7a74-43bc-8c65-c41d144ffc21",
   "metadata": {},
   "outputs": [],
   "source": [
    "# 99301:47 --> Pasco, WA covers an extremely large amt of land for a zipcode 464.98\tsq mi less than average pop density (total pop 68,191)\n",
    "\n",
    "# 98444: 43 --> Tacoma, WA covers less than avg land 6.73 sqmi very dense (5047 people/sqmi total pop 33956)\n",
    "\n",
    "# 98387 --> "
   ]
  },
  {
   "cell_type": "code",
   "execution_count": 348,
   "id": "85e01775-0c82-48bd-a02f-e07d86217b1e",
   "metadata": {
    "tags": []
   },
   "outputs": [
    {
     "data": {
      "text/plain": [
       "99301    47\n",
       "98444    43\n",
       "98387    35\n",
       "98391    32\n",
       "98404    32\n",
       "         ..\n",
       "33478     1\n",
       "95377     1\n",
       "72712     1\n",
       "98035     1\n",
       "85602     1\n",
       "Name: dzip, Length: 701, dtype: int64"
      ]
     },
     "execution_count": 348,
     "metadata": {},
     "output_type": "execute_result"
    }
   ],
   "source": [
    "data['dzip'].value_counts()"
   ]
  }
 ],
 "metadata": {
  "kernelspec": {
   "display_name": "Python 3 (ipykernel)",
   "language": "python",
   "name": "python3"
  },
  "language_info": {
   "codemirror_mode": {
    "name": "ipython",
    "version": 3
   },
   "file_extension": ".py",
   "mimetype": "text/x-python",
   "name": "python",
   "nbconvert_exporter": "python",
   "pygments_lexer": "ipython3",
   "version": "3.9.15"
  }
 },
 "nbformat": 4,
 "nbformat_minor": 5
}
