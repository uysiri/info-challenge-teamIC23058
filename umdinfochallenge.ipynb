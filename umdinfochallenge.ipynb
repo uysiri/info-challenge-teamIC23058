{
 "cells": [
  {
   "cell_type": "code",
   "execution_count": 4,
   "id": "54332a8d-b93c-4d9e-ade5-1ef5570c94d0",
   "metadata": {},
   "outputs": [],
   "source": [
    "import pandas as pd\n",
    "import numpy as np\n",
    "\n",
    "df = pd.read_csv(\"Data_Washington Fatal Crash Survey.csv\", low_memory=False)\n",
    "zips = pd.read_csv(\"US%20Zip%20Codes%20from%202013%20Government%20Data.txt\")"
   ]
  },
  {
   "cell_type": "code",
   "execution_count": 9,
   "id": "1e75be15-7142-4d6d-83b5-1098794e651e",
   "metadata": {
    "tags": []
   },
   "outputs": [],
   "source": [
    "from arcgis.geocoding import reverse_geocode\n",
    "from arcgis.geometry import Geometry\n",
    "from arcgis.gis import GIS"
   ]
  },
  {
   "cell_type": "markdown",
   "id": "f65c3e44-475b-406c-af17-9e132b72608d",
   "metadata": {},
   "source": [
    "\n",
    "\n",
    "#'methdrug', 'drugsts', drugtst1-12, drugres1-12, 'alcres', 'alcsts', 'alctst'\n",
    "#ejectpath alcmeth\n",
    "#investjur repjur\n",
    "\n",
    "We will drop all columns that are more than 90% NANs because there are not enough values for them to be significant. We'll also drop columns that are not relevant to the problem statement: ['hosp_tm','arr_tm','not_tm','investjur','repjur','lab','methdrug','alcmeth','drugsts','drugtst1']"
   ]
  },
  {
   "cell_type": "markdown",
   "id": "3885be53-5f36-4bab-ba8f-9c95ea827faf",
   "metadata": {},
   "source": [
    "## Notes\n",
    "- Before COVID -- seattle has lots of commuters every day\n",
    "- Since COVID -- people moving farther away from city centers\n",
    "- Relevant for rural areas + out of staters as well\n",
    "\n",
    "\n",
    "- how to prevent fatal crashes? \n",
    "- Are the people causing crashes the ones that live there? \n",
    "- Is it the zipcode one over?or nearby? --> use haversine distance!\n",
    "- Are there certain zipcodes that PRODUCE high risk drivers? (age, intox, race)\n",
    "- Who's involved? Cars/bikes/trucks/people --> we look at the **driver**\n",
    "- also matters: average speed limit of area\n",
    "\n",
    "\n",
    "- are we allowed to pull external data such as economic status/median income/median home price\n",
    "- reverse geocoding ! \n",
    "- hmmmmm could we find the home address of the drivers lol \n",
    "\n",
    "\n",
    "- crash zip codes (crash level)--> maybe 3+ drivers from diff places involved in the crash... but who's at fault? that's what matters\n",
    "- census data \n",
    "- rubric criteria: add additional data -- income data \n",
    "- there's a freeway exit in WASH that's notorious for crashes because high speed lim + narrow curve \n",
    "- 5 years of data 2017-2021 -- west coast hit by covid first 2019-2020 investigate changes in commuting patterns, increase in substance abuse, people driving faster because less people on the road "
   ]
  },
  {
   "cell_type": "markdown",
   "id": "f2b79ff6-6d32-4462-a6d0-5ce81aebd348",
   "metadata": {},
   "source": [
    "### Derive zip code for crashes "
   ]
  },
  {
   "cell_type": "code",
   "execution_count": 10,
   "id": "89dc6e22-d725-41f8-8e62-2c2850a49915",
   "metadata": {},
   "outputs": [],
   "source": [
    "# long : x\n",
    "# lat : y\n",
    "\n",
    "# driver zip code : dzip \n",
    "df.rename(columns={'x': 'lon', 'y': 'lat'}, inplace=True)"
   ]
  },
  {
   "cell_type": "code",
   "execution_count": 12,
   "id": "f9ad8493-b0d6-4f70-94f9-fa6b0f80d198",
   "metadata": {
    "tags": []
   },
   "outputs": [],
   "source": [
    "gis = GIS(api_key=\"AAPK206d8c337d5a416ca8a7824330c0ca7bkQWmIxSD8K5_qxX1ly5btaWLcl36cVX_1iDwCQxl_IgY56Zh6TN-Usx26i4oM77l\")\n",
    "# exposed for now\n",
    "\n",
    "def get_zip(df,lon_field, lat_field):\n",
    "    location = reverse_geocode((Geometry({\"x\":float(df[lon_field]),\"y\":float(df[lat_field]), \"spatialReference\":{\"wkid\":4326}})))\n",
    "    return location['address']['Postal']\n",
    "\n",
    "df['crashzip'] = df.apply(get_zip, axis=1, lat_field='lat', lon_field='lon')"
   ]
  },
  {
   "cell_type": "code",
   "execution_count": 83,
   "id": "57b56a83-4307-4b84-9625-c72e887a1932",
   "metadata": {
    "tags": []
   },
   "outputs": [],
   "source": [
    "# update missing crash zip values in df \n",
    "# case 78 03/18/2020 in county 45(Pacific) --> crash lat long improperly recorded  78.304936,  -778.304936 impossible! city = unincorporated\n",
    "# FOREST SERVICES RD 2300 is not an actual road... should we drop the row?\n",
    "# case 349 09/12/2021 in county 5 --> zip: 99352 could not be identified by arcGIS identified using haversine distance\n",
    "# case 638 09/05/2021 in county 19(Ferry) --> lat long recorded as 78.304936,  -778.304936 impossible! city = unincorporated\n",
    "# Ferry county is on a reservation in the middle of nowhere next to a natl forest far northeast of WA \n",
    "# crash occurred on BRIDGE CREEK RD in Ferry County --> brute force zip: 99138\n",
    "\n",
    "df.loc[3690,\"crashzip\"] = 99352\n",
    "df.loc[4128,\"crashzip\"] = 99138"
   ]
  },
  {
   "cell_type": "code",
   "execution_count": 84,
   "id": "b450cc18-6ada-4893-bc97-0bcaa93b07a7",
   "metadata": {
    "tags": []
   },
   "outputs": [],
   "source": [
    "# saved because computationally expensive \n",
    "# don't want to call API every time we run the code \n",
    "# DONT RUN THAT PART \n",
    "\n",
    "df.to_csv('crashdata_updated.csv') # import THIS data set"
   ]
  },
  {
   "cell_type": "code",
   "execution_count": 85,
   "id": "d57c1031-6f55-453a-a458-41691f5155b8",
   "metadata": {
    "tags": []
   },
   "outputs": [],
   "source": [
    "# start from here\n",
    "\n",
    "data = pd.read_csv(\"crashdata_updated.csv\", low_memory=False) # some cols have mixed dtypes...\n",
    "data[\"crash_dt\"]= pd.to_datetime(data[\"crash_dt\"])"
   ]
  },
  {
   "cell_type": "code",
   "execution_count": 248,
   "id": "b293c867-0ee1-49a7-af5f-72fc5a9bea7d",
   "metadata": {},
   "outputs": [],
   "source": [
    "# df = df.loc[:, df.isnull().mean() < .9]"
   ]
  },
  {
   "cell_type": "code",
   "execution_count": 98,
   "id": "65e84b30-0f5f-4d63-a639-ebd55356501b",
   "metadata": {
    "tags": []
   },
   "outputs": [],
   "source": [
    "# Among drivers involved in fatal crashes, what proportion are involved in crashes in communities where they live?\n",
    "\n",
    "# How do we want to define \"community\"? Zip code should be fine... \n",
    "\n",
    "data['dzip'] = data['dzip'].astype(str)\n",
    "# get rid of the trailing zeros\n",
    "data['dzip'] = data['dzip'].replace(r'\\.0$', '', regex=True)"
   ]
  },
  {
   "cell_type": "code",
   "execution_count": 110,
   "id": "53a66785-d275-4da9-a07f-a1f13ff40bef",
   "metadata": {
    "tags": []
   },
   "outputs": [
    {
     "name": "stdout",
     "output_type": "stream",
     "text": [
      "The proportion of drivers involved in fatal crashes where they don't live = 0.7628267182962246\n"
     ]
    }
   ],
   "source": [
    "print(\"The proportion of drivers involved in fatal crashes where they don't live = {}\".format(len(data.query('dzip != crashzip'))/len(data)))"
   ]
  },
  {
   "cell_type": "code",
   "execution_count": 109,
   "id": "69c1e108-189b-4830-a514-57fc4bf4527c",
   "metadata": {
    "tags": []
   },
   "outputs": [
    {
     "name": "stdout",
     "output_type": "stream",
     "text": [
      "The proportion of drivers involved in fatal crashes where they live = 0.2371732817037754\n"
     ]
    }
   ],
   "source": [
    "print(\"The proportion of drivers involved in fatal crashes where they live = {}\".format(len(data.query('dzip == crashzip'))/len(data)))"
   ]
  }
 ],
 "metadata": {
  "kernelspec": {
   "display_name": "Python 3 (ipykernel)",
   "language": "python",
   "name": "python3"
  },
  "language_info": {
   "codemirror_mode": {
    "name": "ipython",
    "version": 3
   },
   "file_extension": ".py",
   "mimetype": "text/x-python",
   "name": "python",
   "nbconvert_exporter": "python",
   "pygments_lexer": "ipython3",
   "version": "3.9.15"
  }
 },
 "nbformat": 4,
 "nbformat_minor": 5
}
