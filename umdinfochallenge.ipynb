{
 "cells": [
  {
   "cell_type": "markdown",
   "id": "366928e6-81bb-479c-814d-1092af5319f4",
   "metadata": {},
   "source": [
    "## Import Packages and Dataset"
   ]
  },
  {
   "cell_type": "code",
   "execution_count": 65,
   "id": "54332a8d-b93c-4d9e-ade5-1ef5570c94d0",
   "metadata": {},
   "outputs": [],
   "source": [
    "# Import statements (make sure all packages intalled prior to running)\n",
    "import pandas as pd\n",
    "import numpy as np\n",
    "from scipy.stats import chi2_contingency\n",
    "import matplotlib.pyplot as plt\n",
    "import plotly.express as px"
   ]
  },
  {
   "cell_type": "code",
   "execution_count": null,
   "id": "0f1e4aec-7060-46cb-ba7a-064cbb33e74f",
   "metadata": {},
   "outputs": [],
   "source": [
    "df = pd.read_csv(\"Data_Washington Fatal Crash Survey.csv\", low_memory=False)"
   ]
  },
  {
   "cell_type": "code",
   "execution_count": null,
   "id": "1e75be15-7142-4d6d-83b5-1098794e651e",
   "metadata": {
    "tags": []
   },
   "outputs": [],
   "source": [
    "from arcgis.geocoding import reverse_geocode\n",
    "from arcgis.geometry import Geometry\n",
    "from arcgis.gis import GIS\n"
   ]
  },
  {
   "cell_type": "markdown",
   "id": "f2b79ff6-6d32-4462-a6d0-5ce81aebd348",
   "metadata": {},
   "source": [
    "## Derive zip code for crashes \n",
    "\n",
    "Method: Reverse geocoding with ArcGIS and impute any missing zipcode values"
   ]
  },
  {
   "cell_type": "code",
   "execution_count": null,
   "id": "89dc6e22-d725-41f8-8e62-2c2850a49915",
   "metadata": {},
   "outputs": [],
   "source": [
    "# long : x\n",
    "# lat : y\n",
    "\n",
    "# driver zip code : dzip \n",
    "df.rename(columns={'x': 'lon', 'y': 'lat'}, inplace=True)"
   ]
  },
  {
   "cell_type": "code",
   "execution_count": null,
   "id": "f9ad8493-b0d6-4f70-94f9-fa6b0f80d198",
   "metadata": {
    "tags": []
   },
   "outputs": [],
   "source": [
    "gis = GIS(api_key=\"AAPK206d8c337d5a416ca8a7824330c0ca7bkQWmIxSD8K5_qxX1ly5btaWLcl36cVX_1iDwCQxl_IgY56Zh6TN-Usx26i4oM77l\")\n",
    "# exposed for now\n",
    "\n",
    "def get_zip(df,lon_field, lat_field):\n",
    "    location = reverse_geocode((Geometry({\"x\":float(df[lon_field]),\"y\":float(df[lat_field]), \"spatialReference\":{\"wkid\":4326}})))\n",
    "    return location['address']['Postal']\n",
    "\n",
    "df['crashzip'] = df.apply(get_zip, axis=1, lat_field='lat', lon_field='lon')"
   ]
  },
  {
   "cell_type": "code",
   "execution_count": null,
   "id": "57b56a83-4307-4b84-9625-c72e887a1932",
   "metadata": {
    "tags": []
   },
   "outputs": [],
   "source": [
    "# update missing crash zip values in df \n",
    "# case 78 03/18/2020 in county 45(Pacific) --> crash lat long improperly recorded  78.304936,  -778.304936 impossible! city = unincorporated\n",
    "# FOREST SERVICES RD 2300 is not an actual road... should we drop the row?\n",
    "# case 349 09/12/2021 in county 5 --> zip: 99352 could not be identified by arcGIS identified using haversine distance\n",
    "# case 638 09/05/2021 in county 19(Ferry) --> lat long recorded as 78.304936,  -778.304936 impossible! city = unincorporated\n",
    "# Ferry county is on a reservation in the middle of nowhere next to a natl forest far northeast of WA \n",
    "# crash occurred on BRIDGE CREEK RD in Ferry County --> brute force zip: 99138\n",
    "\n",
    "df.loc[3690,\"crashzip\"] = 99352\n",
    "df.loc[4128,\"crashzip\"] = 99138"
   ]
  },
  {
   "cell_type": "code",
   "execution_count": null,
   "id": "b450cc18-6ada-4893-bc97-0bcaa93b07a7",
   "metadata": {
    "tags": []
   },
   "outputs": [],
   "source": [
    "# saved because computationally expensive \n",
    "# don't want to call API every time we run the code \n",
    "# DONT RUN THAT PART \n",
    "\n",
    "df.to_csv('crashdata_updated.csv') # import THIS data set"
   ]
  },
  {
   "cell_type": "markdown",
   "id": "3859a4a7-7da7-48cf-a71c-bd0ad1b33a35",
   "metadata": {},
   "source": [
    "## What proportion of drivers are involved in fatal crashes crash in communities where they live?\n",
    "\n",
    "Method: Calculate proportion mathematically"
   ]
  },
  {
   "cell_type": "code",
   "execution_count": 2,
   "id": "d57c1031-6f55-453a-a458-41691f5155b8",
   "metadata": {
    "tags": []
   },
   "outputs": [],
   "source": [
    "# start running code from here\n",
    "\n",
    "data = pd.read_csv(\"crashdata_updated.csv\", low_memory=False) # some cols have mixed dtypes...\n",
    "data[\"crash_dt\"]= pd.to_datetime(data[\"crash_dt\"])\n",
    "data[\"licstate\"]= data[\"licstate\"].astype(str)\n",
    "\n",
    "# Among drivers involved in fatal crashes, what proportion are involved in crashes in communities where they live?\n",
    "\n",
    "# How do we want to define \"community\"? Let's start with zip codes\n",
    "data['dzip'] = data['dzip'].astype(str)\n",
    "# get rid of the trailing zeros\n",
    "data['dzip'] = data['dzip'].replace(r'\\.0$', '', regex=True)"
   ]
  },
  {
   "cell_type": "code",
   "execution_count": 3,
   "id": "d91e67bc-88a6-499f-9e06-e76872953256",
   "metadata": {
    "tags": []
   },
   "outputs": [
    {
     "data": {
      "text/html": [
       "<div>\n",
       "<style scoped>\n",
       "    .dataframe tbody tr th:only-of-type {\n",
       "        vertical-align: middle;\n",
       "    }\n",
       "\n",
       "    .dataframe tbody tr th {\n",
       "        vertical-align: top;\n",
       "    }\n",
       "\n",
       "    .dataframe thead th {\n",
       "        text-align: right;\n",
       "    }\n",
       "</style>\n",
       "<table border=\"1\" class=\"dataframe\">\n",
       "  <thead>\n",
       "    <tr style=\"text-align: right;\">\n",
       "      <th></th>\n",
       "      <th>Unnamed: 0</th>\n",
       "      <th>year</th>\n",
       "      <th>case</th>\n",
       "      <th>par</th>\n",
       "      <th>repjur</th>\n",
       "      <th>crash_dt</th>\n",
       "      <th>crash_tm</th>\n",
       "      <th>accday</th>\n",
       "      <th>accmon</th>\n",
       "      <th>holiday</th>\n",
       "      <th>...</th>\n",
       "      <th>lab</th>\n",
       "      <th>isedtcase</th>\n",
       "      <th>crf1</th>\n",
       "      <th>crf2</th>\n",
       "      <th>crf3</th>\n",
       "      <th>CoRoadName</th>\n",
       "      <th>CoMP</th>\n",
       "      <th>IntCoRoadName</th>\n",
       "      <th>IntCoMP</th>\n",
       "      <th>crashzip</th>\n",
       "    </tr>\n",
       "  </thead>\n",
       "  <tbody>\n",
       "    <tr>\n",
       "      <th>0</th>\n",
       "      <td>0</td>\n",
       "      <td>2017</td>\n",
       "      <td>1</td>\n",
       "      <td>E628946</td>\n",
       "      <td>2.0</td>\n",
       "      <td>2017-01-01</td>\n",
       "      <td>2:12</td>\n",
       "      <td>1</td>\n",
       "      <td>1</td>\n",
       "      <td>1.0</td>\n",
       "      <td>...</td>\n",
       "      <td>NaN</td>\n",
       "      <td>NaN</td>\n",
       "      <td>NaN</td>\n",
       "      <td>NaN</td>\n",
       "      <td>NaN</td>\n",
       "      <td>NaN</td>\n",
       "      <td>NaN</td>\n",
       "      <td>NaN</td>\n",
       "      <td>NaN</td>\n",
       "      <td>98201</td>\n",
       "    </tr>\n",
       "    <tr>\n",
       "      <th>1</th>\n",
       "      <td>1</td>\n",
       "      <td>2017</td>\n",
       "      <td>2</td>\n",
       "      <td>E627989</td>\n",
       "      <td>26.0</td>\n",
       "      <td>2017-01-02</td>\n",
       "      <td>17:14</td>\n",
       "      <td>2</td>\n",
       "      <td>1</td>\n",
       "      <td>1.0</td>\n",
       "      <td>...</td>\n",
       "      <td>NaN</td>\n",
       "      <td>NaN</td>\n",
       "      <td>NaN</td>\n",
       "      <td>NaN</td>\n",
       "      <td>NaN</td>\n",
       "      <td>NaN</td>\n",
       "      <td>NaN</td>\n",
       "      <td>NaN</td>\n",
       "      <td>NaN</td>\n",
       "      <td>98359</td>\n",
       "    </tr>\n",
       "    <tr>\n",
       "      <th>2</th>\n",
       "      <td>2</td>\n",
       "      <td>2017</td>\n",
       "      <td>4</td>\n",
       "      <td>3747633</td>\n",
       "      <td>263.0</td>\n",
       "      <td>2017-01-01</td>\n",
       "      <td>18:47</td>\n",
       "      <td>1</td>\n",
       "      <td>1</td>\n",
       "      <td>1.0</td>\n",
       "      <td>...</td>\n",
       "      <td>NaN</td>\n",
       "      <td>NaN</td>\n",
       "      <td>NaN</td>\n",
       "      <td>NaN</td>\n",
       "      <td>NaN</td>\n",
       "      <td>NaN</td>\n",
       "      <td>NaN</td>\n",
       "      <td>NaN</td>\n",
       "      <td>NaN</td>\n",
       "      <td>98103</td>\n",
       "    </tr>\n",
       "    <tr>\n",
       "      <th>3</th>\n",
       "      <td>3</td>\n",
       "      <td>2017</td>\n",
       "      <td>5</td>\n",
       "      <td>E628691</td>\n",
       "      <td>4.0</td>\n",
       "      <td>2017-01-01</td>\n",
       "      <td>3:50</td>\n",
       "      <td>1</td>\n",
       "      <td>1</td>\n",
       "      <td>1.0</td>\n",
       "      <td>...</td>\n",
       "      <td>NaN</td>\n",
       "      <td>NaN</td>\n",
       "      <td>NaN</td>\n",
       "      <td>NaN</td>\n",
       "      <td>NaN</td>\n",
       "      <td>NaN</td>\n",
       "      <td>NaN</td>\n",
       "      <td>NaN</td>\n",
       "      <td>NaN</td>\n",
       "      <td>99224</td>\n",
       "    </tr>\n",
       "    <tr>\n",
       "      <th>4</th>\n",
       "      <td>4</td>\n",
       "      <td>2017</td>\n",
       "      <td>6</td>\n",
       "      <td>3746306</td>\n",
       "      <td>263.0</td>\n",
       "      <td>2017-01-05</td>\n",
       "      <td>9:53</td>\n",
       "      <td>5</td>\n",
       "      <td>1</td>\n",
       "      <td>0.0</td>\n",
       "      <td>...</td>\n",
       "      <td>NaN</td>\n",
       "      <td>NaN</td>\n",
       "      <td>NaN</td>\n",
       "      <td>NaN</td>\n",
       "      <td>NaN</td>\n",
       "      <td>NaN</td>\n",
       "      <td>NaN</td>\n",
       "      <td>NaN</td>\n",
       "      <td>NaN</td>\n",
       "      <td>98104</td>\n",
       "    </tr>\n",
       "    <tr>\n",
       "      <th>...</th>\n",
       "      <td>...</td>\n",
       "      <td>...</td>\n",
       "      <td>...</td>\n",
       "      <td>...</td>\n",
       "      <td>...</td>\n",
       "      <td>...</td>\n",
       "      <td>...</td>\n",
       "      <td>...</td>\n",
       "      <td>...</td>\n",
       "      <td>...</td>\n",
       "      <td>...</td>\n",
       "      <td>...</td>\n",
       "      <td>...</td>\n",
       "      <td>...</td>\n",
       "      <td>...</td>\n",
       "      <td>...</td>\n",
       "      <td>...</td>\n",
       "      <td>...</td>\n",
       "      <td>...</td>\n",
       "      <td>...</td>\n",
       "      <td>...</td>\n",
       "    </tr>\n",
       "    <tr>\n",
       "      <th>4127</th>\n",
       "      <td>4127</td>\n",
       "      <td>2021</td>\n",
       "      <td>636</td>\n",
       "      <td>Incid08</td>\n",
       "      <td>334.0</td>\n",
       "      <td>2021-08-08</td>\n",
       "      <td>9:38</td>\n",
       "      <td>8</td>\n",
       "      <td>8</td>\n",
       "      <td>NaN</td>\n",
       "      <td>...</td>\n",
       "      <td>NaN</td>\n",
       "      <td>0.0</td>\n",
       "      <td>0.0</td>\n",
       "      <td>NaN</td>\n",
       "      <td>NaN</td>\n",
       "      <td>NaN</td>\n",
       "      <td>NaN</td>\n",
       "      <td>NaN</td>\n",
       "      <td>NaN</td>\n",
       "      <td>99116</td>\n",
       "    </tr>\n",
       "    <tr>\n",
       "      <th>4128</th>\n",
       "      <td>4128</td>\n",
       "      <td>2021</td>\n",
       "      <td>638</td>\n",
       "      <td>Incid09</td>\n",
       "      <td>334.0</td>\n",
       "      <td>2021-09-05</td>\n",
       "      <td>1:36</td>\n",
       "      <td>5</td>\n",
       "      <td>9</td>\n",
       "      <td>NaN</td>\n",
       "      <td>...</td>\n",
       "      <td>NaN</td>\n",
       "      <td>0.0</td>\n",
       "      <td>0.0</td>\n",
       "      <td>NaN</td>\n",
       "      <td>NaN</td>\n",
       "      <td>NaN</td>\n",
       "      <td>NaN</td>\n",
       "      <td>NaN</td>\n",
       "      <td>NaN</td>\n",
       "      <td>99138</td>\n",
       "    </tr>\n",
       "    <tr>\n",
       "      <th>4129</th>\n",
       "      <td>4129</td>\n",
       "      <td>2021</td>\n",
       "      <td>639</td>\n",
       "      <td>EB48605</td>\n",
       "      <td>263.0</td>\n",
       "      <td>2021-04-21</td>\n",
       "      <td>17:32</td>\n",
       "      <td>21</td>\n",
       "      <td>4</td>\n",
       "      <td>NaN</td>\n",
       "      <td>...</td>\n",
       "      <td>NaN</td>\n",
       "      <td>0.0</td>\n",
       "      <td>0.0</td>\n",
       "      <td>NaN</td>\n",
       "      <td>NaN</td>\n",
       "      <td>NaN</td>\n",
       "      <td>NaN</td>\n",
       "      <td>NaN</td>\n",
       "      <td>NaN</td>\n",
       "      <td>98144</td>\n",
       "    </tr>\n",
       "    <tr>\n",
       "      <th>4130</th>\n",
       "      <td>4130</td>\n",
       "      <td>2021</td>\n",
       "      <td>639</td>\n",
       "      <td>EB48605</td>\n",
       "      <td>263.0</td>\n",
       "      <td>2021-04-21</td>\n",
       "      <td>17:32</td>\n",
       "      <td>21</td>\n",
       "      <td>4</td>\n",
       "      <td>NaN</td>\n",
       "      <td>...</td>\n",
       "      <td>NaN</td>\n",
       "      <td>0.0</td>\n",
       "      <td>0.0</td>\n",
       "      <td>NaN</td>\n",
       "      <td>NaN</td>\n",
       "      <td>NaN</td>\n",
       "      <td>NaN</td>\n",
       "      <td>NaN</td>\n",
       "      <td>NaN</td>\n",
       "      <td>98144</td>\n",
       "    </tr>\n",
       "    <tr>\n",
       "      <th>4131</th>\n",
       "      <td>4131</td>\n",
       "      <td>2021</td>\n",
       "      <td>640</td>\n",
       "      <td>Inciden</td>\n",
       "      <td>42.0</td>\n",
       "      <td>2021-10-15</td>\n",
       "      <td>14:55</td>\n",
       "      <td>15</td>\n",
       "      <td>10</td>\n",
       "      <td>NaN</td>\n",
       "      <td>...</td>\n",
       "      <td>NaN</td>\n",
       "      <td>0.0</td>\n",
       "      <td>0.0</td>\n",
       "      <td>NaN</td>\n",
       "      <td>NaN</td>\n",
       "      <td>NaN</td>\n",
       "      <td>NaN</td>\n",
       "      <td>NaN</td>\n",
       "      <td>NaN</td>\n",
       "      <td>98502</td>\n",
       "    </tr>\n",
       "  </tbody>\n",
       "</table>\n",
       "<p>4132 rows × 307 columns</p>\n",
       "</div>"
      ],
      "text/plain": [
       "      Unnamed: 0  year  case      par  repjur   crash_dt crash_tm  accday  \\\n",
       "0              0  2017     1  E628946     2.0 2017-01-01     2:12       1   \n",
       "1              1  2017     2  E627989    26.0 2017-01-02    17:14       2   \n",
       "2              2  2017     4  3747633   263.0 2017-01-01    18:47       1   \n",
       "3              3  2017     5  E628691     4.0 2017-01-01     3:50       1   \n",
       "4              4  2017     6  3746306   263.0 2017-01-05     9:53       5   \n",
       "...          ...   ...   ...      ...     ...        ...      ...     ...   \n",
       "4127        4127  2021   636  Incid08   334.0 2021-08-08     9:38       8   \n",
       "4128        4128  2021   638  Incid09   334.0 2021-09-05     1:36       5   \n",
       "4129        4129  2021   639  EB48605   263.0 2021-04-21    17:32      21   \n",
       "4130        4130  2021   639  EB48605   263.0 2021-04-21    17:32      21   \n",
       "4131        4131  2021   640  Inciden    42.0 2021-10-15    14:55      15   \n",
       "\n",
       "      accmon  holiday  ...  lab isedtcase  crf1  crf2  crf3  CoRoadName  CoMP  \\\n",
       "0          1      1.0  ...  NaN       NaN   NaN   NaN   NaN         NaN   NaN   \n",
       "1          1      1.0  ...  NaN       NaN   NaN   NaN   NaN         NaN   NaN   \n",
       "2          1      1.0  ...  NaN       NaN   NaN   NaN   NaN         NaN   NaN   \n",
       "3          1      1.0  ...  NaN       NaN   NaN   NaN   NaN         NaN   NaN   \n",
       "4          1      0.0  ...  NaN       NaN   NaN   NaN   NaN         NaN   NaN   \n",
       "...      ...      ...  ...  ...       ...   ...   ...   ...         ...   ...   \n",
       "4127       8      NaN  ...  NaN       0.0   0.0   NaN   NaN         NaN   NaN   \n",
       "4128       9      NaN  ...  NaN       0.0   0.0   NaN   NaN         NaN   NaN   \n",
       "4129       4      NaN  ...  NaN       0.0   0.0   NaN   NaN         NaN   NaN   \n",
       "4130       4      NaN  ...  NaN       0.0   0.0   NaN   NaN         NaN   NaN   \n",
       "4131      10      NaN  ...  NaN       0.0   0.0   NaN   NaN         NaN   NaN   \n",
       "\n",
       "      IntCoRoadName  IntCoMP  crashzip  \n",
       "0               NaN      NaN     98201  \n",
       "1               NaN      NaN     98359  \n",
       "2               NaN      NaN     98103  \n",
       "3               NaN      NaN     99224  \n",
       "4               NaN      NaN     98104  \n",
       "...             ...      ...       ...  \n",
       "4127            NaN      NaN     99116  \n",
       "4128            NaN      NaN     99138  \n",
       "4129            NaN      NaN     98144  \n",
       "4130            NaN      NaN     98144  \n",
       "4131            NaN      NaN     98502  \n",
       "\n",
       "[4132 rows x 307 columns]"
      ]
     },
     "execution_count": 3,
     "metadata": {},
     "output_type": "execute_result"
    }
   ],
   "source": [
    "data"
   ]
  },
  {
   "cell_type": "code",
   "execution_count": 4,
   "id": "e71e433d-e59e-4e5f-8709-4c8017fb9ec1",
   "metadata": {
    "tags": []
   },
   "outputs": [],
   "source": [
    "# In order for this calculation to be accurate, we need to remove the rows where BOTH zip code and state is \"unknown\" or \"not reported\" because the driver zip for each of these rows won't match the crash zip but we have no way validating where the driver is ACTUALLY from-- we cannot assume that the driver is from out of state/country \n",
    "\n",
    "# Answers hinge on the assumption that the driver's zip code for each observation is accurate \n",
    "for index, row in data.iterrows():\n",
    "    if row['dzip']=='99999' and row['licstate']=='99':\n",
    "        data.drop(index, inplace=True)\n",
    "    if row['dzip']=='99999' and row['licstate']=='98':\n",
    "        data.drop(index, inplace=True)\n",
    "    if row['dzip']=='99998' and row['licstate']=='99':\n",
    "        data.drop(index, inplace=True)\n",
    "    if row['dzip']=='99998' and row['licstate']=='98':\n",
    "        data.drop(index, inplace=True)\n",
    "    if row['dzip']=='99998' and row['licstate']=='53':\n",
    "        data.drop(index, inplace=True)"
   ]
  },
  {
   "cell_type": "code",
   "execution_count": 5,
   "id": "f7e122cb-17ad-43f2-a0db-1968fc6ebe6f",
   "metadata": {
    "tags": []
   },
   "outputs": [],
   "source": [
    "# should be done\n",
    "\n",
    "data.reset_index(inplace=True)"
   ]
  },
  {
   "cell_type": "code",
   "execution_count": 6,
   "id": "8fc7e138-507f-45b5-935f-df55d3751151",
   "metadata": {
    "tags": []
   },
   "outputs": [
    {
     "name": "stdout",
     "output_type": "stream",
     "text": [
      "licstate        1\n",
      "dzip        99999\n",
      "Name: 1359, dtype: object State/Country=Alabama\n",
      "licstate       95\n",
      "dzip        99999\n",
      "Name: 984, dtype: object State/Country = Canada\n"
     ]
    }
   ],
   "source": [
    "# For the crashes where driver's zip is \"unknown\" (99999) but state is known --> ok to keep since they are out of state\n",
    "print(data[['licstate','dzip']].iloc[1359], \"State/Country=Alabama\") # index 1359 licstate = 1 (ALABAMA) \n",
    "print(data[['licstate','dzip']].iloc[984], \"State/Country = Canada\") # index 984 licstate = 95 (CANADA) No ZIP "
   ]
  },
  {
   "cell_type": "markdown",
   "id": "f68ae76b-eb2b-4404-8b56-b62a133eb539",
   "metadata": {
    "tags": []
   },
   "source": [
    "## Recalculate proportions of drivers from outside community, but this time community = city"
   ]
  },
  {
   "cell_type": "code",
   "execution_count": 7,
   "id": "3725cebe-e290-4d9d-9542-847194d41452",
   "metadata": {
    "tags": []
   },
   "outputs": [],
   "source": [
    "# Source: https://github.com/scpike/us-state-county-zip\n",
    "citydata = pd.read_csv(\"geo-data.csv\")"
   ]
  },
  {
   "cell_type": "code",
   "execution_count": 8,
   "id": "20182128-81c6-488e-aa94-4061c84aecdb",
   "metadata": {
    "tags": []
   },
   "outputs": [],
   "source": [
    "# match city to zip codes\n",
    "\n",
    "def matchcity(df, dct):\n",
    "    dct = dict(zip(citydata['zipcode'], citydata['city']))\n",
    "    df['dcity']=df['dzip'].map(dct).fillna('00') # map over df \n",
    "    df['crashcity']=df['crashzip'].map(dct).fillna('00') # map over df \n",
    "    return df"
   ]
  },
  {
   "cell_type": "code",
   "execution_count": 9,
   "id": "adf7f841-3cc4-483e-9e76-390a3bd1809f",
   "metadata": {
    "tags": []
   },
   "outputs": [
    {
     "data": {
      "text/html": [
       "<div>\n",
       "<style scoped>\n",
       "    .dataframe tbody tr th:only-of-type {\n",
       "        vertical-align: middle;\n",
       "    }\n",
       "\n",
       "    .dataframe tbody tr th {\n",
       "        vertical-align: top;\n",
       "    }\n",
       "\n",
       "    .dataframe thead th {\n",
       "        text-align: right;\n",
       "    }\n",
       "</style>\n",
       "<table border=\"1\" class=\"dataframe\">\n",
       "  <thead>\n",
       "    <tr style=\"text-align: right;\">\n",
       "      <th></th>\n",
       "      <th>index</th>\n",
       "      <th>Unnamed: 0</th>\n",
       "      <th>year</th>\n",
       "      <th>case</th>\n",
       "      <th>par</th>\n",
       "      <th>repjur</th>\n",
       "      <th>crash_dt</th>\n",
       "      <th>crash_tm</th>\n",
       "      <th>accday</th>\n",
       "      <th>accmon</th>\n",
       "      <th>...</th>\n",
       "      <th>crf1</th>\n",
       "      <th>crf2</th>\n",
       "      <th>crf3</th>\n",
       "      <th>CoRoadName</th>\n",
       "      <th>CoMP</th>\n",
       "      <th>IntCoRoadName</th>\n",
       "      <th>IntCoMP</th>\n",
       "      <th>crashzip</th>\n",
       "      <th>dcity</th>\n",
       "      <th>crashcity</th>\n",
       "    </tr>\n",
       "  </thead>\n",
       "  <tbody>\n",
       "    <tr>\n",
       "      <th>0</th>\n",
       "      <td>0</td>\n",
       "      <td>0</td>\n",
       "      <td>2017</td>\n",
       "      <td>1</td>\n",
       "      <td>E628946</td>\n",
       "      <td>2.0</td>\n",
       "      <td>2017-01-01</td>\n",
       "      <td>2:12</td>\n",
       "      <td>1</td>\n",
       "      <td>1</td>\n",
       "      <td>...</td>\n",
       "      <td>NaN</td>\n",
       "      <td>NaN</td>\n",
       "      <td>NaN</td>\n",
       "      <td>NaN</td>\n",
       "      <td>NaN</td>\n",
       "      <td>NaN</td>\n",
       "      <td>NaN</td>\n",
       "      <td>98201</td>\n",
       "      <td>Everett</td>\n",
       "      <td>Everett</td>\n",
       "    </tr>\n",
       "    <tr>\n",
       "      <th>1</th>\n",
       "      <td>1</td>\n",
       "      <td>1</td>\n",
       "      <td>2017</td>\n",
       "      <td>2</td>\n",
       "      <td>E627989</td>\n",
       "      <td>26.0</td>\n",
       "      <td>2017-01-02</td>\n",
       "      <td>17:14</td>\n",
       "      <td>2</td>\n",
       "      <td>1</td>\n",
       "      <td>...</td>\n",
       "      <td>NaN</td>\n",
       "      <td>NaN</td>\n",
       "      <td>NaN</td>\n",
       "      <td>NaN</td>\n",
       "      <td>NaN</td>\n",
       "      <td>NaN</td>\n",
       "      <td>NaN</td>\n",
       "      <td>98359</td>\n",
       "      <td>Tacoma</td>\n",
       "      <td>Olalla</td>\n",
       "    </tr>\n",
       "    <tr>\n",
       "      <th>2</th>\n",
       "      <td>2</td>\n",
       "      <td>2</td>\n",
       "      <td>2017</td>\n",
       "      <td>4</td>\n",
       "      <td>3747633</td>\n",
       "      <td>263.0</td>\n",
       "      <td>2017-01-01</td>\n",
       "      <td>18:47</td>\n",
       "      <td>1</td>\n",
       "      <td>1</td>\n",
       "      <td>...</td>\n",
       "      <td>NaN</td>\n",
       "      <td>NaN</td>\n",
       "      <td>NaN</td>\n",
       "      <td>NaN</td>\n",
       "      <td>NaN</td>\n",
       "      <td>NaN</td>\n",
       "      <td>NaN</td>\n",
       "      <td>98103</td>\n",
       "      <td>Seattle</td>\n",
       "      <td>Seattle</td>\n",
       "    </tr>\n",
       "    <tr>\n",
       "      <th>3</th>\n",
       "      <td>3</td>\n",
       "      <td>3</td>\n",
       "      <td>2017</td>\n",
       "      <td>5</td>\n",
       "      <td>E628691</td>\n",
       "      <td>4.0</td>\n",
       "      <td>2017-01-01</td>\n",
       "      <td>3:50</td>\n",
       "      <td>1</td>\n",
       "      <td>1</td>\n",
       "      <td>...</td>\n",
       "      <td>NaN</td>\n",
       "      <td>NaN</td>\n",
       "      <td>NaN</td>\n",
       "      <td>NaN</td>\n",
       "      <td>NaN</td>\n",
       "      <td>NaN</td>\n",
       "      <td>NaN</td>\n",
       "      <td>99224</td>\n",
       "      <td>Mead</td>\n",
       "      <td>Spokane</td>\n",
       "    </tr>\n",
       "    <tr>\n",
       "      <th>4</th>\n",
       "      <td>4</td>\n",
       "      <td>4</td>\n",
       "      <td>2017</td>\n",
       "      <td>6</td>\n",
       "      <td>3746306</td>\n",
       "      <td>263.0</td>\n",
       "      <td>2017-01-05</td>\n",
       "      <td>9:53</td>\n",
       "      <td>5</td>\n",
       "      <td>1</td>\n",
       "      <td>...</td>\n",
       "      <td>NaN</td>\n",
       "      <td>NaN</td>\n",
       "      <td>NaN</td>\n",
       "      <td>NaN</td>\n",
       "      <td>NaN</td>\n",
       "      <td>NaN</td>\n",
       "      <td>NaN</td>\n",
       "      <td>98104</td>\n",
       "      <td>Snoqualmie</td>\n",
       "      <td>Seattle</td>\n",
       "    </tr>\n",
       "    <tr>\n",
       "      <th>...</th>\n",
       "      <td>...</td>\n",
       "      <td>...</td>\n",
       "      <td>...</td>\n",
       "      <td>...</td>\n",
       "      <td>...</td>\n",
       "      <td>...</td>\n",
       "      <td>...</td>\n",
       "      <td>...</td>\n",
       "      <td>...</td>\n",
       "      <td>...</td>\n",
       "      <td>...</td>\n",
       "      <td>...</td>\n",
       "      <td>...</td>\n",
       "      <td>...</td>\n",
       "      <td>...</td>\n",
       "      <td>...</td>\n",
       "      <td>...</td>\n",
       "      <td>...</td>\n",
       "      <td>...</td>\n",
       "      <td>...</td>\n",
       "      <td>...</td>\n",
       "    </tr>\n",
       "    <tr>\n",
       "      <th>4026</th>\n",
       "      <td>4127</td>\n",
       "      <td>4127</td>\n",
       "      <td>2021</td>\n",
       "      <td>636</td>\n",
       "      <td>Incid08</td>\n",
       "      <td>334.0</td>\n",
       "      <td>2021-08-08</td>\n",
       "      <td>9:38</td>\n",
       "      <td>8</td>\n",
       "      <td>8</td>\n",
       "      <td>...</td>\n",
       "      <td>0.0</td>\n",
       "      <td>NaN</td>\n",
       "      <td>NaN</td>\n",
       "      <td>NaN</td>\n",
       "      <td>NaN</td>\n",
       "      <td>NaN</td>\n",
       "      <td>NaN</td>\n",
       "      <td>99116</td>\n",
       "      <td>Nespelem</td>\n",
       "      <td>Coulee dam</td>\n",
       "    </tr>\n",
       "    <tr>\n",
       "      <th>4027</th>\n",
       "      <td>4128</td>\n",
       "      <td>4128</td>\n",
       "      <td>2021</td>\n",
       "      <td>638</td>\n",
       "      <td>Incid09</td>\n",
       "      <td>334.0</td>\n",
       "      <td>2021-09-05</td>\n",
       "      <td>1:36</td>\n",
       "      <td>5</td>\n",
       "      <td>9</td>\n",
       "      <td>...</td>\n",
       "      <td>0.0</td>\n",
       "      <td>NaN</td>\n",
       "      <td>NaN</td>\n",
       "      <td>NaN</td>\n",
       "      <td>NaN</td>\n",
       "      <td>NaN</td>\n",
       "      <td>NaN</td>\n",
       "      <td>99138</td>\n",
       "      <td>Inchelium</td>\n",
       "      <td>Inchelium</td>\n",
       "    </tr>\n",
       "    <tr>\n",
       "      <th>4028</th>\n",
       "      <td>4129</td>\n",
       "      <td>4129</td>\n",
       "      <td>2021</td>\n",
       "      <td>639</td>\n",
       "      <td>EB48605</td>\n",
       "      <td>263.0</td>\n",
       "      <td>2021-04-21</td>\n",
       "      <td>17:32</td>\n",
       "      <td>21</td>\n",
       "      <td>4</td>\n",
       "      <td>...</td>\n",
       "      <td>0.0</td>\n",
       "      <td>NaN</td>\n",
       "      <td>NaN</td>\n",
       "      <td>NaN</td>\n",
       "      <td>NaN</td>\n",
       "      <td>NaN</td>\n",
       "      <td>NaN</td>\n",
       "      <td>98144</td>\n",
       "      <td>Lacey</td>\n",
       "      <td>Seattle</td>\n",
       "    </tr>\n",
       "    <tr>\n",
       "      <th>4029</th>\n",
       "      <td>4130</td>\n",
       "      <td>4130</td>\n",
       "      <td>2021</td>\n",
       "      <td>639</td>\n",
       "      <td>EB48605</td>\n",
       "      <td>263.0</td>\n",
       "      <td>2021-04-21</td>\n",
       "      <td>17:32</td>\n",
       "      <td>21</td>\n",
       "      <td>4</td>\n",
       "      <td>...</td>\n",
       "      <td>0.0</td>\n",
       "      <td>NaN</td>\n",
       "      <td>NaN</td>\n",
       "      <td>NaN</td>\n",
       "      <td>NaN</td>\n",
       "      <td>NaN</td>\n",
       "      <td>NaN</td>\n",
       "      <td>98144</td>\n",
       "      <td>Seattle</td>\n",
       "      <td>Seattle</td>\n",
       "    </tr>\n",
       "    <tr>\n",
       "      <th>4030</th>\n",
       "      <td>4131</td>\n",
       "      <td>4131</td>\n",
       "      <td>2021</td>\n",
       "      <td>640</td>\n",
       "      <td>Inciden</td>\n",
       "      <td>42.0</td>\n",
       "      <td>2021-10-15</td>\n",
       "      <td>14:55</td>\n",
       "      <td>15</td>\n",
       "      <td>10</td>\n",
       "      <td>...</td>\n",
       "      <td>0.0</td>\n",
       "      <td>NaN</td>\n",
       "      <td>NaN</td>\n",
       "      <td>NaN</td>\n",
       "      <td>NaN</td>\n",
       "      <td>NaN</td>\n",
       "      <td>NaN</td>\n",
       "      <td>98502</td>\n",
       "      <td>Olympia</td>\n",
       "      <td>Olympia</td>\n",
       "    </tr>\n",
       "  </tbody>\n",
       "</table>\n",
       "<p>4031 rows × 310 columns</p>\n",
       "</div>"
      ],
      "text/plain": [
       "      index  Unnamed: 0  year  case      par  repjur   crash_dt crash_tm  \\\n",
       "0         0           0  2017     1  E628946     2.0 2017-01-01     2:12   \n",
       "1         1           1  2017     2  E627989    26.0 2017-01-02    17:14   \n",
       "2         2           2  2017     4  3747633   263.0 2017-01-01    18:47   \n",
       "3         3           3  2017     5  E628691     4.0 2017-01-01     3:50   \n",
       "4         4           4  2017     6  3746306   263.0 2017-01-05     9:53   \n",
       "...     ...         ...   ...   ...      ...     ...        ...      ...   \n",
       "4026   4127        4127  2021   636  Incid08   334.0 2021-08-08     9:38   \n",
       "4027   4128        4128  2021   638  Incid09   334.0 2021-09-05     1:36   \n",
       "4028   4129        4129  2021   639  EB48605   263.0 2021-04-21    17:32   \n",
       "4029   4130        4130  2021   639  EB48605   263.0 2021-04-21    17:32   \n",
       "4030   4131        4131  2021   640  Inciden    42.0 2021-10-15    14:55   \n",
       "\n",
       "      accday  accmon  ...  crf1  crf2 crf3  CoRoadName  CoMP  IntCoRoadName  \\\n",
       "0          1       1  ...   NaN   NaN  NaN         NaN   NaN            NaN   \n",
       "1          2       1  ...   NaN   NaN  NaN         NaN   NaN            NaN   \n",
       "2          1       1  ...   NaN   NaN  NaN         NaN   NaN            NaN   \n",
       "3          1       1  ...   NaN   NaN  NaN         NaN   NaN            NaN   \n",
       "4          5       1  ...   NaN   NaN  NaN         NaN   NaN            NaN   \n",
       "...      ...     ...  ...   ...   ...  ...         ...   ...            ...   \n",
       "4026       8       8  ...   0.0   NaN  NaN         NaN   NaN            NaN   \n",
       "4027       5       9  ...   0.0   NaN  NaN         NaN   NaN            NaN   \n",
       "4028      21       4  ...   0.0   NaN  NaN         NaN   NaN            NaN   \n",
       "4029      21       4  ...   0.0   NaN  NaN         NaN   NaN            NaN   \n",
       "4030      15      10  ...   0.0   NaN  NaN         NaN   NaN            NaN   \n",
       "\n",
       "      IntCoMP  crashzip       dcity   crashcity  \n",
       "0         NaN     98201     Everett     Everett  \n",
       "1         NaN     98359      Tacoma      Olalla  \n",
       "2         NaN     98103     Seattle     Seattle  \n",
       "3         NaN     99224        Mead     Spokane  \n",
       "4         NaN     98104  Snoqualmie     Seattle  \n",
       "...       ...       ...         ...         ...  \n",
       "4026      NaN     99116    Nespelem  Coulee dam  \n",
       "4027      NaN     99138   Inchelium   Inchelium  \n",
       "4028      NaN     98144       Lacey     Seattle  \n",
       "4029      NaN     98144     Seattle     Seattle  \n",
       "4030      NaN     98502     Olympia     Olympia  \n",
       "\n",
       "[4031 rows x 310 columns]"
      ]
     },
     "execution_count": 9,
     "metadata": {},
     "output_type": "execute_result"
    }
   ],
   "source": [
    "citydict = dict(zip(citydata['zipcode'], citydata['city']))\n",
    "\n",
    "# call our function \n",
    "matchcity(data, citydict)"
   ]
  },
  {
   "cell_type": "code",
   "execution_count": 19,
   "id": "326333b6-b689-4268-810e-bc5b0f70f610",
   "metadata": {
    "tags": []
   },
   "outputs": [
    {
     "name": "stdout",
     "output_type": "stream",
     "text": [
      "The proportion of drivers involved in fatal crashes in communities where they don't live = 0.6889\n",
      "The proportion of drivers involved in fatal crashes in communities where they live = 0.3111\n"
     ]
    }
   ],
   "source": [
    "print(\"The proportion of drivers involved in fatal crashes in communities where they don't live = %1.4f\" % (len(data.query('dcity != crashcity'))/len(data)))\n",
    "print(\"The proportion of drivers involved in fatal crashes in communities where they live = %1.4f\" % (len(data.query('dcity == crashcity'))/len(data)))"
   ]
  },
  {
   "cell_type": "code",
   "execution_count": 21,
   "id": "fbc66319-7152-4414-9733-3dfd8630f2c7",
   "metadata": {
    "tags": []
   },
   "outputs": [],
   "source": [
    "# Create a categorical variable to represent whether driver is local resident or visitor\n",
    "# \"resident\" = local resident\n",
    "# \"visitor\" = out of town\n",
    "\n",
    "drive_res = [] # set empty list \n",
    "for index, row in data.iterrows():\n",
    "    if row['dzip']==row['crashzip']:\n",
    "        drive_res.append(\"resident\") # if equal add \"resident\" to list\n",
    "    else:\n",
    "        drive_res.append(\"visitor\") # else add \"visitor\"\n",
    "        \n",
    "data[\"d_res\"] = drive_res # cast list as df column"
   ]
  },
  {
   "cell_type": "code",
   "execution_count": 22,
   "id": "d7b95dbd-9bf8-4d1e-8a9d-f656c9e280e0",
   "metadata": {
    "tags": []
   },
   "outputs": [],
   "source": [
    "# Create a categorical variable to represent whether driver is local resident or visitor\n",
    "# \"resident\" = local resident\n",
    "# \"visitor\" = out of town\n",
    "\n",
    "### BASED ON CITY MATCH\n",
    "\n",
    "city_res = [] # set empty list \n",
    "for index, row in data.iterrows():\n",
    "    if row['dcity']==row['crashcity']:\n",
    "        city_res.append(\"resident\") # if equal add \"resident\" to list\n",
    "    else:\n",
    "        city_res.append(\"visitor\") # else add \"visitor\"\n",
    "        \n",
    "data[\"d_cty\"] = city_res # cast list as df column\n",
    "\n",
    "# \"d_cty\" : classifies driver as resident or visitor by CITY \n",
    "# \"d_res\" : classifies driver as resident or visitor by ZIP"
   ]
  },
  {
   "cell_type": "code",
   "execution_count": 23,
   "id": "a1ae02e5-feac-483b-a927-405a68005700",
   "metadata": {
    "tags": []
   },
   "outputs": [
    {
     "name": "stdout",
     "output_type": "stream",
     "text": [
      "crash_dt  d_cty   \n",
      "2017      visitor     562\n",
      "          resident    235\n",
      "2018      visitor     530\n",
      "          resident    213\n",
      "2019      visitor     541\n",
      "          resident    245\n",
      "2020      visitor     517\n",
      "          resident    272\n",
      "2021      visitor     627\n",
      "          resident    289\n",
      "Name: d_cty, dtype: int64\n"
     ]
    }
   ],
   "source": [
    "print(data.groupby(data.crash_dt.dt.year)['d_cty'].value_counts())"
   ]
  },
  {
   "cell_type": "markdown",
   "id": "a890f7a6-0ba6-4dbe-9511-d0770370a712",
   "metadata": {},
   "source": [
    " ### Recalculating proportions of crashes with visitors vs. residents for pre and post-pandemic"
   ]
  },
  {
   "cell_type": "markdown",
   "id": "fab1253b-845c-4611-bef8-b176b3fb8011",
   "metadata": {
    "tags": []
   },
   "source": [
    "- Calculate the same proportions for before Spring 2020 and after Spring 2020\n",
    "- Represent these 3 proportions in a horizontal stacked bar chart "
   ]
  },
  {
   "cell_type": "code",
   "execution_count": 93,
   "id": "38e8443d-ab9d-4253-9b12-0aea7835234b",
   "metadata": {},
   "outputs": [],
   "source": [
    "# Add another column to dataset indicating if it is pre or post covid (covid is in post-covid)\n",
    "# Post-Covid is defined as March 1 2020, as the Governor of Washington declared a state of emergency on Feb 29, 2020\n",
    "\n",
    "covid = [] # set empty list \n",
    "startdate = pd.to_datetime(\"2020-3-1\").date()\n",
    "\n",
    "for index, row in data.iterrows():\n",
    "    if row['crash_dt']<startdate:\n",
    "        covid.append(\"pre-pandemic\") # if equal add \"resident\" to list\n",
    "    else:\n",
    "        covid.append(\"post-pandemic\") # else add \"visitor\"\n",
    "        \n",
    "data[\"covid\"] = covid # cast list as df column"
   ]
  },
  {
   "cell_type": "code",
   "execution_count": 105,
   "id": "a04641cc-c832-4c00-ba95-e07448cf2d8c",
   "metadata": {},
   "outputs": [
    {
     "name": "stdout",
     "output_type": "stream",
     "text": [
      "Pre-pandemic, the proportion of drivers involved in fatal crashes \n",
      "in communities where they don't live = 0.7038\n",
      "Pre-pandemic, the proportion of drivers involved in fatal crashes \n",
      "in communities where they live = 0.2962\n",
      "Post-pandemic, the proportion of drivers involved in fatal crashes \n",
      "in communities where they don't live = 0.6665\n",
      "Post-pandemic, the proportion of drivers involved in fatal crashes \n",
      "in communities where they live = 0.3335\n"
     ]
    }
   ],
   "source": [
    "# Pre-pandemic\n",
    "print(\"Pre-pandemic, the proportion of drivers involved in fatal crashes \\nin communities where they don't live = %1.4f\" % (len(data[data['covid'] == \"pre-pandemic\"].query('dcity != crashcity'))/len(data[data['covid'] == \"pre-pandemic\"])))\n",
    "print(\"Pre-pandemic, the proportion of drivers involved in fatal crashes \\nin communities where they live = %1.4f\" % (len(data[data['covid'] == \"pre-pandemic\"].query('dcity == crashcity'))/len(data[data['covid'] == \"pre-pandemic\"])))\n",
    "\n",
    "# Post-pandemic\n",
    "print(\"Post-pandemic, the proportion of drivers involved in fatal crashes \\nin communities where they don't live = %1.4f\" % (len(data[data['covid'] == \"post-pandemic\"].query('dcity != crashcity'))/len(data[data['covid'] == \"post-pandemic\"])))\n",
    "print(\"Post-pandemic, the proportion of drivers involved in fatal crashes \\nin communities where they live = %1.4f\" % (len(data[data['covid'] == \"post-pandemic\"].query('dcity == crashcity'))/len(data[data['covid'] == \"post-pandemic\"])))"
   ]
  },
  {
   "cell_type": "code",
   "execution_count": null,
   "id": "db555ed0-076d-43bb-a038-ffe43dbce1d5",
   "metadata": {},
   "outputs": [],
   "source": []
  },
  {
   "cell_type": "code",
   "execution_count": null,
   "id": "9015056f-ab28-4163-98b7-2ed2c69eb8c8",
   "metadata": {},
   "outputs": [],
   "source": []
  },
  {
   "cell_type": "code",
   "execution_count": null,
   "id": "3911706d-d6c8-473c-902b-e30165bd31e3",
   "metadata": {},
   "outputs": [],
   "source": []
  },
  {
   "cell_type": "code",
   "execution_count": null,
   "id": "9e42a1d5-9a42-4466-9fbc-cadb54ae2999",
   "metadata": {},
   "outputs": [],
   "source": []
  },
  {
   "cell_type": "code",
   "execution_count": null,
   "id": "45a34700-71e8-467d-b605-508b49f29d73",
   "metadata": {},
   "outputs": [],
   "source": []
  },
  {
   "cell_type": "code",
   "execution_count": null,
   "id": "1bf6fc43-82a0-4f40-a3fd-8466c1d87285",
   "metadata": {},
   "outputs": [],
   "source": []
  },
  {
   "cell_type": "markdown",
   "id": "0ecb966c-cdda-4ff3-888e-1b06d6a5b3b4",
   "metadata": {
    "tags": []
   },
   "source": [
    "## Is there a difference between types of crashes and behavior factors among residents vs visitors?\n",
    "\n",
    "Method: Chi-Squared Test for Homogeneity between crashes among residents and visitors\n"
   ]
  },
  {
   "cell_type": "code",
   "execution_count": 24,
   "id": "3c0254c3-ece4-40fe-955f-d1806e43c908",
   "metadata": {
    "tags": []
   },
   "outputs": [
    {
     "ename": "AttributeError",
     "evalue": "'tuple' object has no attribute 'pvalue'",
     "output_type": "error",
     "traceback": [
      "\u001b[0;31m---------------------------------------------------------------------------\u001b[0m",
      "\u001b[0;31mAttributeError\u001b[0m                            Traceback (most recent call last)",
      "\u001b[0;32m<ipython-input-24-e7a5ea742547>\u001b[0m in \u001b[0;36m<module>\u001b[0;34m\u001b[0m\n\u001b[1;32m      2\u001b[0m \u001b[0;34m\u001b[0m\u001b[0m\n\u001b[1;32m      3\u001b[0m \u001b[0mchi1\u001b[0m \u001b[0;34m=\u001b[0m \u001b[0mchi2_contingency\u001b[0m\u001b[0;34m(\u001b[0m\u001b[0mpd\u001b[0m\u001b[0;34m.\u001b[0m\u001b[0mcrosstab\u001b[0m\u001b[0;34m(\u001b[0m\u001b[0;34m[\u001b[0m\u001b[0mdata\u001b[0m\u001b[0;34m.\u001b[0m\u001b[0myear\u001b[0m\u001b[0;34m]\u001b[0m\u001b[0;34m,\u001b[0m \u001b[0mdata\u001b[0m\u001b[0;34m.\u001b[0m\u001b[0md_cty\u001b[0m\u001b[0;34m,\u001b[0m \u001b[0mrownames\u001b[0m\u001b[0;34m=\u001b[0m\u001b[0;34m[\u001b[0m\u001b[0;34m\"Year\"\u001b[0m\u001b[0;34m]\u001b[0m\u001b[0;34m,\u001b[0m \u001b[0mcolnames\u001b[0m\u001b[0;34m=\u001b[0m\u001b[0;34m[\u001b[0m\u001b[0;34m\"Driver\"\u001b[0m\u001b[0;34m]\u001b[0m\u001b[0;34m,\u001b[0m \u001b[0mmargins\u001b[0m\u001b[0;34m=\u001b[0m\u001b[0;32mTrue\u001b[0m\u001b[0;34m,\u001b[0m \u001b[0mmargins_name\u001b[0m\u001b[0;34m=\u001b[0m\u001b[0;34m\"Total\"\u001b[0m\u001b[0;34m)\u001b[0m\u001b[0;34m)\u001b[0m\u001b[0;34m\u001b[0m\u001b[0;34m\u001b[0m\u001b[0m\n\u001b[0;32m----> 4\u001b[0;31m \u001b[0mprint\u001b[0m\u001b[0;34m(\u001b[0m\u001b[0;34m\"The p-value is ={}\"\u001b[0m\u001b[0;34m.\u001b[0m\u001b[0mformat\u001b[0m\u001b[0;34m(\u001b[0m\u001b[0mchi1\u001b[0m\u001b[0;34m.\u001b[0m\u001b[0mpvalue\u001b[0m\u001b[0;34m)\u001b[0m\u001b[0;34m)\u001b[0m\u001b[0;34m\u001b[0m\u001b[0;34m\u001b[0m\u001b[0m\n\u001b[0m\u001b[1;32m      5\u001b[0m \u001b[0mprint\u001b[0m\u001b[0;34m(\u001b[0m\u001b[0;34m\"The year by year distribution of visitors vs residents involved in fatal crashes does not change significantly.\"\u001b[0m\u001b[0;34m)\u001b[0m\u001b[0;34m\u001b[0m\u001b[0;34m\u001b[0m\u001b[0m\n",
      "\u001b[0;31mAttributeError\u001b[0m: 'tuple' object has no attribute 'pvalue'"
     ]
    }
   ],
   "source": [
    "chi1 = chi2_contingency(pd.crosstab([data.year], data.d_cty, rownames=[\"Year\"], colnames=[\"Driver\"], margins=True, margins_name=\"Total\"))\n",
    "print(\"The p-value is ={}\".format(chi1.pvalue))\n",
    "print(\"The year by year distribution of visitors vs residents involved in fatal crashes does not change significantly.\")"
   ]
  },
  {
   "cell_type": "code",
   "execution_count": 25,
   "id": "2a5c9957-80b4-429c-8ec4-70c07f34bd82",
   "metadata": {
    "tags": []
   },
   "outputs": [
    {
     "ename": "AttributeError",
     "evalue": "'tuple' object has no attribute 'pvalue'",
     "output_type": "error",
     "traceback": [
      "\u001b[0;31m---------------------------------------------------------------------------\u001b[0m",
      "\u001b[0;31mAttributeError\u001b[0m                            Traceback (most recent call last)",
      "\u001b[0;32m<ipython-input-25-ad4998e12792>\u001b[0m in \u001b[0;36m<module>\u001b[0;34m\u001b[0m\n\u001b[1;32m      3\u001b[0m \u001b[0;34m\u001b[0m\u001b[0m\n\u001b[1;32m      4\u001b[0m \u001b[0;32mfor\u001b[0m \u001b[0mk\u001b[0m \u001b[0;32min\u001b[0m \u001b[0mcolist\u001b[0m\u001b[0;34m:\u001b[0m\u001b[0;34m\u001b[0m\u001b[0;34m\u001b[0m\u001b[0m\n\u001b[0;32m----> 5\u001b[0;31m     \u001b[0mpval\u001b[0m\u001b[0;34m=\u001b[0m\u001b[0mchi2_contingency\u001b[0m\u001b[0;34m(\u001b[0m\u001b[0mpd\u001b[0m\u001b[0;34m.\u001b[0m\u001b[0mcrosstab\u001b[0m\u001b[0;34m(\u001b[0m\u001b[0mdata\u001b[0m\u001b[0;34m[\u001b[0m\u001b[0mk\u001b[0m\u001b[0;34m]\u001b[0m\u001b[0;34m,\u001b[0m\u001b[0mdata\u001b[0m\u001b[0;34m[\u001b[0m\u001b[0;34m\"d_cty\"\u001b[0m\u001b[0;34m]\u001b[0m\u001b[0;34m,\u001b[0m \u001b[0mmargins\u001b[0m\u001b[0;34m=\u001b[0m\u001b[0;32mTrue\u001b[0m\u001b[0;34m,\u001b[0m \u001b[0mmargins_name\u001b[0m\u001b[0;34m=\u001b[0m\u001b[0;34m\"Total\"\u001b[0m\u001b[0;34m)\u001b[0m\u001b[0;34m)\u001b[0m\u001b[0;34m.\u001b[0m\u001b[0mpvalue\u001b[0m\u001b[0;34m\u001b[0m\u001b[0;34m\u001b[0m\u001b[0m\n\u001b[0m\u001b[1;32m      6\u001b[0m     \u001b[0mvalues\u001b[0m\u001b[0;34m.\u001b[0m\u001b[0mappend\u001b[0m\u001b[0;34m(\u001b[0m\u001b[0mpval\u001b[0m\u001b[0;34m)\u001b[0m\u001b[0;34m\u001b[0m\u001b[0;34m\u001b[0m\u001b[0m\n\u001b[1;32m      7\u001b[0m \u001b[0;34m\u001b[0m\u001b[0m\n",
      "\u001b[0;31mAttributeError\u001b[0m: 'tuple' object has no attribute 'pvalue'"
     ]
    }
   ],
   "source": [
    "colist = [\"numfatal\", \"agegrp2\", \"trafflow\", \"roadclass\", \"urbrur\", \"intersect\",\"lanedep\", \"oppdir\", \"wrongway\",\"pv_inv\",\"ped_inv\",\"ht_inv\",\"bike_inv\", \"mc_inv\",\"dd_inv\", \"speed_inv\",\"drowsy_inv\", \"drdist_inv\",\"aid_inv\",\"id_inv\",\"mj_inv\",\"fty_inv\",\"dr_drink\",\"dr_alc8\",\"dr_alc7\",\"dr_spd\"]\n",
    "values = []\n",
    "\n",
    "for k in colist:\n",
    "    pval=chi2_contingency(pd.crosstab(data[k],data[\"d_cty\"], margins=True, margins_name=\"Total\")).pvalue\n",
    "    values.append(pval)\n",
    "    \n",
    "sig = dict(zip(colist, values))\n",
    "print(\"All p-values:\")\n",
    "print(sig)\n",
    "print(\"Signficant p-values:\")\n",
    "print({k:v for k, v in sig.items() if v < 0.05})"
   ]
  },
  {
   "cell_type": "markdown",
   "id": "e5b0f30a-6dea-445d-a8c9-2a6ec31d7e5d",
   "metadata": {},
   "source": [
    "## Are there specific resident ZIP Codes that tend to produce higher-risk drivers that are involved in fatal crashes at a higher rate?\n",
    "\n",
    "- We define the rate at which zip codes tend to produce higher risk drivers as the sum of drivers from each zip code divided by the 5 year span to get the average number of high risk drivers produced by a zip code per year"
   ]
  },
  {
   "cell_type": "code",
   "execution_count": 56,
   "id": "60c86dc0-306f-4b4d-8866-6ec24c185663",
   "metadata": {
    "tags": []
   },
   "outputs": [],
   "source": [
    "# note: we know there are 28 fatal crashes caused by drivers from CANADA"
   ]
  },
  {
   "cell_type": "code",
   "execution_count": 27,
   "id": "c4276939-2153-4c49-afde-1c79329e87b3",
   "metadata": {
    "tags": []
   },
   "outputs": [],
   "source": [
    "# rate of drivers causing fatal crashes per zipcode per year\n",
    "riskrate = pd.DataFrame(data['dzip'].value_counts()/5).head(17) # 17 instead of 15 because 15,16,17 are equal"
   ]
  },
  {
   "cell_type": "code",
   "execution_count": 28,
   "id": "48e0fbdf-7897-46e1-b8e2-442238849863",
   "metadata": {
    "tags": []
   },
   "outputs": [],
   "source": [
    "risky = pd.DataFrame(data.groupby(data.crash_dt.dt.year)['dzip'].value_counts())\n",
    "risky.rename(columns={'dzip':'counts'},inplace=True)"
   ]
  },
  {
   "cell_type": "code",
   "execution_count": 29,
   "id": "c5305b20-a8f7-4d18-a5ed-fe95ad9f1c35",
   "metadata": {
    "tags": []
   },
   "outputs": [
    {
     "name": "stdout",
     "output_type": "stream",
     "text": [
      "The top 17 zip codes that produce high risk drivers are: ['99301', '98444', '98387', '98391', '98404', '98837', '98003', '98951', '98258', '98901', '98223', '98584', '99206', '98022', '98902', '0', '98168']\n"
     ]
    }
   ],
   "source": [
    "top17 = list(riskrate.index)\n",
    "risky.reset_index(inplace=True)\n",
    "# get data with just top 15 highest risk zip codes\n",
    "\n",
    "highrisk = risky[risky['dzip'].isin(top17)]\n",
    "print(\"The top 17 zip codes that produce high risk drivers are: {}\".format(top17))\n",
    "# 0 is canada"
   ]
  },
  {
   "cell_type": "code",
   "execution_count": 30,
   "id": "d4ef2c33-4c84-4a73-8e7d-20c6da5f0b69",
   "metadata": {
    "tags": []
   },
   "outputs": [],
   "source": [
    "riskrate.reset_index(inplace=True)"
   ]
  },
  {
   "cell_type": "code",
   "execution_count": 31,
   "id": "d2c53303-80d9-43ea-89dd-62d74955167f",
   "metadata": {
    "tags": []
   },
   "outputs": [],
   "source": [
    "risky['Risk']=risky['dzip'].isin(top17).astype(int)"
   ]
  },
  {
   "cell_type": "code",
   "execution_count": 41,
   "id": "8bc22355-3433-4923-8e32-320b3ed80bfd",
   "metadata": {
    "tags": []
   },
   "outputs": [
    {
     "data": {
      "image/png": "[encoded data removed]",
      "text/plain": [
       "<Figure size 432x288 with 1 Axes>"
      ]
     },
     "metadata": {
      "needs_background": "light"
     },
     "output_type": "display_data"
    }
   ],
   "source": [
    "box = plt.boxplot([risky['counts'], risky[risky['Risk'] == 0]['counts'] , risky[risky['Risk'] == 1]['counts']], labels=['All','Exclude_High_Risk','High_Risk'])\n",
    "plt.show(box)"
   ]
  },
  {
   "cell_type": "code",
   "execution_count": 42,
   "id": "5d29ee7a-49fc-4304-beff-3f3b619d8e5d",
   "metadata": {
    "tags": []
   },
   "outputs": [],
   "source": [
    "# change name of 'index' to avoid errors \n",
    "\n",
    "riskrate.rename(columns={'index':'zipcode', 'dzip':'rate'}, inplace=True)"
   ]
  },
  {
   "cell_type": "code",
   "execution_count": 43,
   "id": "642cf987-cee8-407d-a8ec-e028a5d6234b",
   "metadata": {
    "tags": []
   },
   "outputs": [],
   "source": [
    "citydct = dict(zip(citydata['zipcode'], citydata['city']))\n",
    "ctydct = dict(zip(citydata['zipcode'], citydata['county']))\n",
    "state = dict(zip(citydata['zipcode'], citydata['state']))\n",
    "\n",
    "# match 'city', 'county', 'state' to High Risk Zip Codes\n",
    "riskrate['city']=riskrate['zipcode'].map(citydct).fillna('00') \n",
    "riskrate['county']=riskrate['zipcode'].map(ctydct).fillna('00') \n",
    "riskrate['state']=riskrate['zipcode'].map(state).fillna('00') "
   ]
  },
  {
   "cell_type": "code",
   "execution_count": 44,
   "id": "54cab9b7-239a-44cc-b34b-6751c901050b",
   "metadata": {
    "tags": []
   },
   "outputs": [],
   "source": [
    "# fill in missing except Canada\n",
    "# Bonney Lake, WA Pierce \n",
    "riskrate.at[5,'city']='Bonney Lake'\n",
    "riskrate.at[5,'county']='Pierce'\n",
    "riskrate.at[5,'state']='Washington'"
   ]
  },
  {
   "cell_type": "markdown",
   "id": "e7e2d390-3b3f-49e0-bebb-560086ffc47b",
   "metadata": {},
   "source": [
    "## What are the population demographics of these high-risk driver producing ZIP Codes?\n",
    "\n",
    "The top 17 highest risk zip codes belong to 8 counties in WA state, excluding Canada. \n",
    "\n",
    "To analyze the demographics of high-risk producing zip codes, we examine the demographics of the county to which it belongs. We also examine how many people in each of the counties belong to high-risk zip codes. "
   ]
  },
  {
   "cell_type": "code",
   "execution_count": 45,
   "id": "515a9bf2-37f8-4a78-b3f0-6a63c14b04ab",
   "metadata": {
    "tags": []
   },
   "outputs": [],
   "source": [
    "# add population size \n",
    "washpop = pd.read_csv(\"washpop.csv\",  converters = {'Zip Code': str})\n",
    "\n",
    "washpop.rename(columns={'Zip Code':'zipcode','Population':'population'}, inplace=True)\n",
    "washpop['population'] = washpop['population'].replace(',', '', regex=True).astype(int)"
   ]
  },
  {
   "cell_type": "code",
   "execution_count": 46,
   "id": "1cf4d0d6-857b-4e50-b5f4-81b2ea2ffa02",
   "metadata": {
    "tags": []
   },
   "outputs": [],
   "source": [
    "# match ZCTA population data to zip code\n",
    "\n",
    "population = dict(zip(washpop['zipcode'], washpop['population']))\n",
    "riskrate['population']=riskrate['zipcode'].map(population).fillna('00') # map over df "
   ]
  },
  {
   "cell_type": "code",
   "execution_count": 47,
   "id": "ff302489-b6ff-437f-90e5-9f92e7d968d6",
   "metadata": {
    "tags": []
   },
   "outputs": [
    {
     "data": {
      "text/plain": [
       "array(['Franklin', 'Pierce', '00', 'King', 'Yakima', 'Snohomish', 'Mason',\n",
       "       'Spokane'], dtype=object)"
      ]
     },
     "execution_count": 47,
     "metadata": {},
     "output_type": "execute_result"
    }
   ],
   "source": [
    "riskrate['county'].unique()"
   ]
  },
  {
   "cell_type": "code",
   "execution_count": 48,
   "id": "e419c0cc-1627-49c8-83cd-fc575105b998",
   "metadata": {
    "tags": []
   },
   "outputs": [],
   "source": [
    "riskrate['population'] = riskrate['population'].replace(',', '', regex=True).astype(int)"
   ]
  },
  {
   "cell_type": "code",
   "execution_count": 49,
   "id": "e109e19b-bbb3-4e03-8ea5-26d6f6840b17",
   "metadata": {
    "tags": []
   },
   "outputs": [],
   "source": [
    "# read in population demographic data from the census\n",
    "# read in median income data \n",
    "\n",
    "income = pd.read_csv(\"med_income_washco.csv\")\n",
    "demo = pd.read_csv(\"highriskdemographics.csv\")"
   ]
  },
  {
   "cell_type": "code",
   "execution_count": 50,
   "id": "c70646bc-0485-415a-9679-b5bfce7c1306",
   "metadata": {
    "tags": []
   },
   "outputs": [],
   "source": [
    "plots = demo.loc[demo['AGEGRP']==0]"
   ]
  },
  {
   "cell_type": "code",
   "execution_count": 51,
   "id": "7c32dccd-ef0d-4ddd-a29f-e199a10f29eb",
   "metadata": {
    "tags": []
   },
   "outputs": [],
   "source": [
    "labels = ['White', 'Black or African American', ' American Indian and Alaska Native','Asian',' Native Hawaiian and Other Pacific Islander', 'Hispanic', 'Two or More Races']\n",
    "\n",
    "specs = [[{'type':'domain'}, {'type':'domain'}], [{'type':'domain'}, {'type':'domain'}],[{'type':'domain'}, {'type':'domain'}],[{'type':'domain'}, {'type':'domain'}]]\n",
    "pies = make_subplots(rows=4, cols=2, specs=specs, subplot_titles=['Franklin', 'Grant', 'King', 'Mason', 'Pierce', 'Snohomish', 'Spokane', 'Yakima'])"
   ]
  },
  {
   "cell_type": "code",
   "execution_count": 57,
   "id": "ba4093f5-5e04-476a-b142-d1b11d569211",
   "metadata": {
    "tags": []
   },
   "outputs": [
    {
     "data": {
      "application/vnd.plotly.v1+json": {
       "config": {
        "plotlyServerURL": "https://plot.ly"
       },
       "data": [
        {
         "domain": {
          "x": [
           0,
           0.45
          ],
          "y": [
           0.84375,
           1
          ]
         },
         "hoverinfo": "label+percent+name",
         "labels": [
          "White",
          "Black or African American",
          " American Indian and Alaska Native",
          "Asian",
          " Native Hawaiian and Other Pacific Islander",
          "Hispanic",
          "Two or More Races"
         ],
         "name": "Franklin",
         "textinfo": "none",
         "type": "pie",
         "values": [
          38409,
          1973,
          482,
          2102,
          200,
          52240,
          1670
         ]
        },
        {
         "domain": {
          "x": [
           0.55,
           1
          ],
          "y": [
           0.84375,
           1
          ]
         },
         "hoverinfo": "label+percent+name",
         "labels": [
          "White",
          "Black or African American",
          " American Indian and Alaska Native",
          "Asian",
          " Native Hawaiian and Other Pacific Islander",
          "Hispanic",
          "Two or More Races"
         ],
         "name": "Grant",
         "textinfo": "none",
         "type": "pie",
         "values": [
          52080,
          931,
          860,
          950,
          140,
          42682,
          1722
         ]
        },
        {
         "domain": {
          "x": [
           0,
           0.45
          ],
          "y": [
           0.5625,
           0.71875
          ]
         },
         "hoverinfo": "label+percent+name",
         "labels": [
          "White",
          "Black or African American",
          " American Indian and Alaska Native",
          "Asian",
          " Native Hawaiian and Other Pacific Islander",
          "Hispanic",
          "Two or More Races"
         ],
         "name": "King",
         "textinfo": "none",
         "type": "pie",
         "values": [
          1293953,
          152734,
          13090,
          456352,
          17708,
          230889,
          107845
         ]
        },
        {
         "domain": {
          "x": [
           0.55,
           1
          ],
          "y": [
           0.5625,
           0.71875
          ]
         },
         "hoverinfo": "label+percent+name",
         "labels": [
          "White",
          "Black or African American",
          " American Indian and Alaska Native",
          "Asian",
          " Native Hawaiian and Other Pacific Islander",
          "Hispanic",
          "Two or More Races"
         ],
         "name": "Mason",
         "textinfo": "none",
         "type": "pie",
         "values": [
          52239,
          898,
          2005,
          836,
          313,
          7179,
          2558
         ]
        },
        {
         "domain": {
          "x": [
           0,
           0.45
          ],
          "y": [
           0.28125,
           0.4375
          ]
         },
         "hoverinfo": "label+percent+name",
         "labels": [
          "White",
          "Black or African American",
          " American Indian and Alaska Native",
          "Asian",
          " Native Hawaiian and Other Pacific Islander",
          "Hispanic",
          "Two or More Races"
         ],
         "name": "Pierce",
         "textinfo": "none",
         "type": "pie",
         "values": [
          596274,
          66213,
          10567,
          63526,
          15110,
          109959,
          61179
         ]
        },
        {
         "domain": {
          "x": [
           0.55,
           1
          ],
          "y": [
           0.28125,
           0.4375
          ]
         },
         "hoverinfo": "label+percent+name",
         "labels": [
          "White",
          "Black or African American",
          " American Indian and Alaska Native",
          "Asian",
          " Native Hawaiian and Other Pacific Islander",
          "Hispanic",
          "Two or More Races"
         ],
         "name": "Snohomish",
         "textinfo": "none",
         "type": "pie",
         "values": [
          553800,
          30510,
          8630,
          102433,
          5028,
          91517,
          37413
         ]
        },
        {
         "domain": {
          "x": [
           0,
           0.45
          ],
          "y": [
           0,
           0.15625
          ]
         },
         "hoverinfo": "label+percent+name",
         "labels": [
          "White",
          "Black or African American",
          " American Indian and Alaska Native",
          "Asian",
          " Native Hawaiian and Other Pacific Islander",
          "Hispanic",
          "Two or More Races"
         ],
         "name": "Spokane",
         "textinfo": "none",
         "type": "pie",
         "values": [
          451633,
          10205,
          7576,
          12610,
          3225,
          34603,
          20848
         ]
        },
        {
         "domain": {
          "x": [
           0.55,
           1
          ],
          "y": [
           0,
           0.15625
          ]
         },
         "hoverinfo": "label+percent+name",
         "labels": [
          "White",
          "Black or African American",
          " American Indian and Alaska Native",
          "Asian",
          " Native Hawaiian and Other Pacific Islander",
          "Hispanic",
          "Two or More Races"
         ],
         "name": "Yakima",
         "textinfo": "none",
         "type": "pie",
         "values": [
          106301,
          2197,
          9223,
          2976,
          211,
          131130,
          4495
         ]
        },
        {
         "domain": {
          "x": [
           0,
           0.45
          ],
          "y": [
           0.84375,
           1
          ]
         },
         "hoverinfo": "label+percent+name",
         "labels": [
          "White",
          "Black or African American",
          " American Indian and Alaska Native",
          "Asian",
          " Native Hawaiian and Other Pacific Islander",
          "Hispanic",
          "Two or More Races"
         ],
         "name": "Franklin",
         "textinfo": "none",
         "type": "pie",
         "values": [
          38409,
          1973,
          482,
          2102,
          200,
          52240,
          1670
         ]
        },
        {
         "domain": {
          "x": [
           0.55,
           1
          ],
          "y": [
           0.84375,
           1
          ]
         },
         "hoverinfo": "label+percent+name",
         "labels": [
          "White",
          "Black or African American",
          " American Indian and Alaska Native",
          "Asian",
          " Native Hawaiian and Other Pacific Islander",
          "Hispanic",
          "Two or More Races"
         ],
         "name": "Grant",
         "textinfo": "none",
         "type": "pie",
         "values": [
          52080,
          931,
          860,
          950,
          140,
          42682,
          1722
         ]
        },
        {
         "domain": {
          "x": [
           0,
           0.45
          ],
          "y": [
           0.5625,
           0.71875
          ]
         },
         "hoverinfo": "label+percent+name",
         "labels": [
          "White",
          "Black or African American",
          " American Indian and Alaska Native",
          "Asian",
          " Native Hawaiian and Other Pacific Islander",
          "Hispanic",
          "Two or More Races"
         ],
         "name": "King",
         "textinfo": "none",
         "type": "pie",
         "values": [
          1293953,
          152734,
          13090,
          456352,
          17708,
          230889,
          107845
         ]
        },
        {
         "domain": {
          "x": [
           0.55,
           1
          ],
          "y": [
           0.5625,
           0.71875
          ]
         },
         "hoverinfo": "label+percent+name",
         "labels": [
          "White",
          "Black or African American",
          " American Indian and Alaska Native",
          "Asian",
          " Native Hawaiian and Other Pacific Islander",
          "Hispanic",
          "Two or More Races"
         ],
         "name": "Mason",
         "textinfo": "none",
         "type": "pie",
         "values": [
          52239,
          898,
          2005,
          836,
          313,
          7179,
          2558
         ]
        },
        {
         "domain": {
          "x": [
           0,
           0.45
          ],
          "y": [
           0.28125,
           0.4375
          ]
         },
         "hoverinfo": "label+percent+name",
         "labels": [
          "White",
          "Black or African American",
          " American Indian and Alaska Native",
          "Asian",
          " Native Hawaiian and Other Pacific Islander",
          "Hispanic",
          "Two or More Races"
         ],
         "name": "Pierce",
         "textinfo": "none",
         "type": "pie",
         "values": [
          596274,
          66213,
          10567,
          63526,
          15110,
          109959,
          61179
         ]
        },
        {
         "domain": {
          "x": [
           0.55,
           1
          ],
          "y": [
           0.28125,
           0.4375
          ]
         },
         "hoverinfo": "label+percent+name",
         "labels": [
          "White",
          "Black or African American",
          " American Indian and Alaska Native",
          "Asian",
          " Native Hawaiian and Other Pacific Islander",
          "Hispanic",
          "Two or More Races"
         ],
         "name": "Snohomish",
         "textinfo": "none",
         "type": "pie",
         "values": [
          553800,
          30510,
          8630,
          102433,
          5028,
          91517,
          37413
         ]
        },
        {
         "domain": {
          "x": [
           0,
           0.45
          ],
          "y": [
           0,
           0.15625
          ]
         },
         "hoverinfo": "label+percent+name",
         "labels": [
          "White",
          "Black or African American",
          " American Indian and Alaska Native",
          "Asian",
          " Native Hawaiian and Other Pacific Islander",
          "Hispanic",
          "Two or More Races"
         ],
         "name": "Spokane",
         "textinfo": "none",
         "type": "pie",
         "values": [
          451633,
          10205,
          7576,
          12610,
          3225,
          34603,
          20848
         ]
        },
        {
         "domain": {
          "x": [
           0.55,
           1
          ],
          "y": [
           0,
           0.15625
          ]
         },
         "hoverinfo": "label+percent+name",
         "labels": [
          "White",
          "Black or African American",
          " American Indian and Alaska Native",
          "Asian",
          " Native Hawaiian and Other Pacific Islander",
          "Hispanic",
          "Two or More Races"
         ],
         "name": "Yakima",
         "textinfo": "none",
         "type": "pie",
         "values": [
          106301,
          2197,
          9223,
          2976,
          211,
          131130,
          4495
         ]
        }
       ],
       "layout": {
        "annotations": [
         {
          "font": {
           "size": 16
          },
          "showarrow": false,
          "text": "Franklin",
          "x": 0.225,
          "xanchor": "center",
          "xref": "paper",
          "y": 1,
          "yanchor": "bottom",
          "yref": "paper"
         },
         {
          "font": {
           "size": 16
          },
          "showarrow": false,
          "text": "Grant",
          "x": 0.775,
          "xanchor": "center",
          "xref": "paper",
          "y": 1,
          "yanchor": "bottom",
          "yref": "paper"
         },
         {
          "font": {
           "size": 16
          },
          "showarrow": false,
          "text": "King",
          "x": 0.225,
          "xanchor": "center",
          "xref": "paper",
          "y": 0.71875,
          "yanchor": "bottom",
          "yref": "paper"
         },
         {
          "font": {
           "size": 16
          },
          "showarrow": false,
          "text": "Mason",
          "x": 0.775,
          "xanchor": "center",
          "xref": "paper",
          "y": 0.71875,
          "yanchor": "bottom",
          "yref": "paper"
         },
         {
          "font": {
           "size": 16
          },
          "showarrow": false,
          "text": "Pierce",
          "x": 0.225,
          "xanchor": "center",
          "xref": "paper",
          "y": 0.4375,
          "yanchor": "bottom",
          "yref": "paper"
         },
         {
          "font": {
           "size": 16
          },
          "showarrow": false,
          "text": "Snohomish",
          "x": 0.775,
          "xanchor": "center",
          "xref": "paper",
          "y": 0.4375,
          "yanchor": "bottom",
          "yref": "paper"
         },
         {
          "font": {
           "size": 16
          },
          "showarrow": false,
          "text": "Spokane",
          "x": 0.225,
          "xanchor": "center",
          "xref": "paper",
          "y": 0.15625,
          "yanchor": "bottom",
          "yref": "paper"
         },
         {
          "font": {
           "size": 16
          },
          "showarrow": false,
          "text": "Yakima",
          "x": 0.775,
          "xanchor": "center",
          "xref": "paper",
          "y": 0.15625,
          "yanchor": "bottom",
          "yref": "paper"
         }
        ],
        "showlegend": true,
        "template": {
         "data": {
          "bar": [
           {
            "error_x": {
             "color": "#2a3f5f"
            },
            "error_y": {
             "color": "#2a3f5f"
            },
            "marker": {
             "line": {
              "color": "#E5ECF6",
              "width": 0.5
             },
             "pattern": {
              "fillmode": "overlay",
              "size": 10,
              "solidity": 0.2
             }
            },
            "type": "bar"
           }
          ],
          "barpolar": [
           {
            "marker": {
             "line": {
              "color": "#E5ECF6",
              "width": 0.5
             },
             "pattern": {
              "fillmode": "overlay",
              "size": 10,
              "solidity": 0.2
             }
            },
            "type": "barpolar"
           }
          ],
          "carpet": [
           {
            "aaxis": {
             "endlinecolor": "#2a3f5f",
             "gridcolor": "white",
             "linecolor": "white",
             "minorgridcolor": "white",
             "startlinecolor": "#2a3f5f"
            },
            "baxis": {
             "endlinecolor": "#2a3f5f",
             "gridcolor": "white",
             "linecolor": "white",
             "minorgridcolor": "white",
             "startlinecolor": "#2a3f5f"
            },
            "type": "carpet"
           }
          ],
          "choropleth": [
           {
            "colorbar": {
             "outlinewidth": 0,
             "ticks": ""
            },
            "type": "choropleth"
           }
          ],
          "contour": [
           {
            "colorbar": {
             "outlinewidth": 0,
             "ticks": ""
            },
            "colorscale": [
             [
              0,
              "#0d0887"
             ],
             [
              0.1111111111111111,
              "#46039f"
             ],
             [
              0.2222222222222222,
              "#7201a8"
             ],
             [
              0.3333333333333333,
              "#9c179e"
             ],
             [
              0.4444444444444444,
              "#bd3786"
             ],
             [
              0.5555555555555556,
              "#d8576b"
             ],
             [
              0.6666666666666666,
              "#ed7953"
             ],
             [
              0.7777777777777778,
              "#fb9f3a"
             ],
             [
              0.8888888888888888,
              "#fdca26"
             ],
             [
              1,
              "#f0f921"
             ]
            ],
            "type": "contour"
           }
          ],
          "contourcarpet": [
           {
            "colorbar": {
             "outlinewidth": 0,
             "ticks": ""
            },
            "type": "contourcarpet"
           }
          ],
          "heatmap": [
           {
            "colorbar": {
             "outlinewidth": 0,
             "ticks": ""
            },
            "colorscale": [
             [
              0,
              "#0d0887"
             ],
             [
              0.1111111111111111,
              "#46039f"
             ],
             [
              0.2222222222222222,
              "#7201a8"
             ],
             [
              0.3333333333333333,
              "#9c179e"
             ],
             [
              0.4444444444444444,
              "#bd3786"
             ],
             [
              0.5555555555555556,
              "#d8576b"
             ],
             [
              0.6666666666666666,
              "#ed7953"
             ],
             [
              0.7777777777777778,
              "#fb9f3a"
             ],
             [
              0.8888888888888888,
              "#fdca26"
             ],
             [
              1,
              "#f0f921"
             ]
            ],
            "type": "heatmap"
           }
          ],
          "heatmapgl": [
           {
            "colorbar": {
             "outlinewidth": 0,
             "ticks": ""
            },
            "colorscale": [
             [
              0,
              "#0d0887"
             ],
             [
              0.1111111111111111,
              "#46039f"
             ],
             [
              0.2222222222222222,
              "#7201a8"
             ],
             [
              0.3333333333333333,
              "#9c179e"
             ],
             [
              0.4444444444444444,
              "#bd3786"
             ],
             [
              0.5555555555555556,
              "#d8576b"
             ],
             [
              0.6666666666666666,
              "#ed7953"
             ],
             [
              0.7777777777777778,
              "#fb9f3a"
             ],
             [
              0.8888888888888888,
              "#fdca26"
             ],
             [
              1,
              "#f0f921"
             ]
            ],
            "type": "heatmapgl"
           }
          ],
          "histogram": [
           {
            "marker": {
             "pattern": {
              "fillmode": "overlay",
              "size": 10,
              "solidity": 0.2
             }
            },
            "type": "histogram"
           }
          ],
          "histogram2d": [
           {
            "colorbar": {
             "outlinewidth": 0,
             "ticks": ""
            },
            "colorscale": [
             [
              0,
              "#0d0887"
             ],
             [
              0.1111111111111111,
              "#46039f"
             ],
             [
              0.2222222222222222,
              "#7201a8"
             ],
             [
              0.3333333333333333,
              "#9c179e"
             ],
             [
              0.4444444444444444,
              "#bd3786"
             ],
             [
              0.5555555555555556,
              "#d8576b"
             ],
             [
              0.6666666666666666,
              "#ed7953"
             ],
             [
              0.7777777777777778,
              "#fb9f3a"
             ],
             [
              0.8888888888888888,
              "#fdca26"
             ],
             [
              1,
              "#f0f921"
             ]
            ],
            "type": "histogram2d"
           }
          ],
          "histogram2dcontour": [
           {
            "colorbar": {
             "outlinewidth": 0,
             "ticks": ""
            },
            "colorscale": [
             [
              0,
              "#0d0887"
             ],
             [
              0.1111111111111111,
              "#46039f"
             ],
             [
              0.2222222222222222,
              "#7201a8"
             ],
             [
              0.3333333333333333,
              "#9c179e"
             ],
             [
              0.4444444444444444,
              "#bd3786"
             ],
             [
              0.5555555555555556,
              "#d8576b"
             ],
             [
              0.6666666666666666,
              "#ed7953"
             ],
             [
              0.7777777777777778,
              "#fb9f3a"
             ],
             [
              0.8888888888888888,
              "#fdca26"
             ],
             [
              1,
              "#f0f921"
             ]
            ],
            "type": "histogram2dcontour"
           }
          ],
          "mesh3d": [
           {
            "colorbar": {
             "outlinewidth": 0,
             "ticks": ""
            },
            "type": "mesh3d"
           }
          ],
          "parcoords": [
           {
            "line": {
             "colorbar": {
              "outlinewidth": 0,
              "ticks": ""
             }
            },
            "type": "parcoords"
           }
          ],
          "pie": [
           {
            "automargin": true,
            "type": "pie"
           }
          ],
          "scatter": [
           {
            "fillpattern": {
             "fillmode": "overlay",
             "size": 10,
             "solidity": 0.2
            },
            "type": "scatter"
           }
          ],
          "scatter3d": [
           {
            "line": {
             "colorbar": {
              "outlinewidth": 0,
              "ticks": ""
             }
            },
            "marker": {
             "colorbar": {
              "outlinewidth": 0,
              "ticks": ""
             }
            },
            "type": "scatter3d"
           }
          ],
          "scattercarpet": [
           {
            "marker": {
             "colorbar": {
              "outlinewidth": 0,
              "ticks": ""
             }
            },
            "type": "scattercarpet"
           }
          ],
          "scattergeo": [
           {
            "marker": {
             "colorbar": {
              "outlinewidth": 0,
              "ticks": ""
             }
            },
            "type": "scattergeo"
           }
          ],
          "scattergl": [
           {
            "marker": {
             "colorbar": {
              "outlinewidth": 0,
              "ticks": ""
             }
            },
            "type": "scattergl"
           }
          ],
          "scattermapbox": [
           {
            "marker": {
             "colorbar": {
              "outlinewidth": 0,
              "ticks": ""
             }
            },
            "type": "scattermapbox"
           }
          ],
          "scatterpolar": [
           {
            "marker": {
             "colorbar": {
              "outlinewidth": 0,
              "ticks": ""
             }
            },
            "type": "scatterpolar"
           }
          ],
          "scatterpolargl": [
           {
            "marker": {
             "colorbar": {
              "outlinewidth": 0,
              "ticks": ""
             }
            },
            "type": "scatterpolargl"
           }
          ],
          "scatterternary": [
           {
            "marker": {
             "colorbar": {
              "outlinewidth": 0,
              "ticks": ""
             }
            },
            "type": "scatterternary"
           }
          ],
          "surface": [
           {
            "colorbar": {
             "outlinewidth": 0,
             "ticks": ""
            },
            "colorscale": [
             [
              0,
              "#0d0887"
             ],
             [
              0.1111111111111111,
              "#46039f"
             ],
             [
              0.2222222222222222,
              "#7201a8"
             ],
             [
              0.3333333333333333,
              "#9c179e"
             ],
             [
              0.4444444444444444,
              "#bd3786"
             ],
             [
              0.5555555555555556,
              "#d8576b"
             ],
             [
              0.6666666666666666,
              "#ed7953"
             ],
             [
              0.7777777777777778,
              "#fb9f3a"
             ],
             [
              0.8888888888888888,
              "#fdca26"
             ],
             [
              1,
              "#f0f921"
             ]
            ],
            "type": "surface"
           }
          ],
          "table": [
           {
            "cells": {
             "fill": {
              "color": "#EBF0F8"
             },
             "line": {
              "color": "white"
             }
            },
            "header": {
             "fill": {
              "color": "#C8D4E3"
             },
             "line": {
              "color": "white"
             }
            },
            "type": "table"
           }
          ]
         },
         "layout": {
          "annotationdefaults": {
           "arrowcolor": "#2a3f5f",
           "arrowhead": 0,
           "arrowwidth": 1
          },
          "autotypenumbers": "strict",
          "coloraxis": {
           "colorbar": {
            "outlinewidth": 0,
            "ticks": ""
           }
          },
          "colorscale": {
           "diverging": [
            [
             0,
             "#8e0152"
            ],
            [
             0.1,
             "#c51b7d"
            ],
            [
             0.2,
             "#de77ae"
            ],
            [
             0.3,
             "#f1b6da"
            ],
            [
             0.4,
             "#fde0ef"
            ],
            [
             0.5,
             "#f7f7f7"
            ],
            [
             0.6,
             "#e6f5d0"
            ],
            [
             0.7,
             "#b8e186"
            ],
            [
             0.8,
             "#7fbc41"
            ],
            [
             0.9,
             "#4d9221"
            ],
            [
             1,
             "#276419"
            ]
           ],
           "sequential": [
            [
             0,
             "#0d0887"
            ],
            [
             0.1111111111111111,
             "#46039f"
            ],
            [
             0.2222222222222222,
             "#7201a8"
            ],
            [
             0.3333333333333333,
             "#9c179e"
            ],
            [
             0.4444444444444444,
             "#bd3786"
            ],
            [
             0.5555555555555556,
             "#d8576b"
            ],
            [
             0.6666666666666666,
             "#ed7953"
            ],
            [
             0.7777777777777778,
             "#fb9f3a"
            ],
            [
             0.8888888888888888,
             "#fdca26"
            ],
            [
             1,
             "#f0f921"
            ]
           ],
           "sequentialminus": [
            [
             0,
             "#0d0887"
            ],
            [
             0.1111111111111111,
             "#46039f"
            ],
            [
             0.2222222222222222,
             "#7201a8"
            ],
            [
             0.3333333333333333,
             "#9c179e"
            ],
            [
             0.4444444444444444,
             "#bd3786"
            ],
            [
             0.5555555555555556,
             "#d8576b"
            ],
            [
             0.6666666666666666,
             "#ed7953"
            ],
            [
             0.7777777777777778,
             "#fb9f3a"
            ],
            [
             0.8888888888888888,
             "#fdca26"
            ],
            [
             1,
             "#f0f921"
            ]
           ]
          },
          "colorway": [
           "#636efa",
           "#EF553B",
           "#00cc96",
           "#ab63fa",
           "#FFA15A",
           "#19d3f3",
           "#FF6692",
           "#B6E880",
           "#FF97FF",
           "#FECB52"
          ],
          "font": {
           "color": "#2a3f5f"
          },
          "geo": {
           "bgcolor": "white",
           "lakecolor": "white",
           "landcolor": "#E5ECF6",
           "showlakes": true,
           "showland": true,
           "subunitcolor": "white"
          },
          "hoverlabel": {
           "align": "left"
          },
          "hovermode": "closest",
          "mapbox": {
           "style": "light"
          },
          "paper_bgcolor": "white",
          "plot_bgcolor": "#E5ECF6",
          "polar": {
           "angularaxis": {
            "gridcolor": "white",
            "linecolor": "white",
            "ticks": ""
           },
           "bgcolor": "#E5ECF6",
           "radialaxis": {
            "gridcolor": "white",
            "linecolor": "white",
            "ticks": ""
           }
          },
          "scene": {
           "xaxis": {
            "backgroundcolor": "#E5ECF6",
            "gridcolor": "white",
            "gridwidth": 2,
            "linecolor": "white",
            "showbackground": true,
            "ticks": "",
            "zerolinecolor": "white"
           },
           "yaxis": {
            "backgroundcolor": "#E5ECF6",
            "gridcolor": "white",
            "gridwidth": 2,
            "linecolor": "white",
            "showbackground": true,
            "ticks": "",
            "zerolinecolor": "white"
           },
           "zaxis": {
            "backgroundcolor": "#E5ECF6",
            "gridcolor": "white",
            "gridwidth": 2,
            "linecolor": "white",
            "showbackground": true,
            "ticks": "",
            "zerolinecolor": "white"
           }
          },
          "shapedefaults": {
           "line": {
            "color": "#2a3f5f"
           }
          },
          "ternary": {
           "aaxis": {
            "gridcolor": "white",
            "linecolor": "white",
            "ticks": ""
           },
           "baxis": {
            "gridcolor": "white",
            "linecolor": "white",
            "ticks": ""
           },
           "bgcolor": "#E5ECF6",
           "caxis": {
            "gridcolor": "white",
            "linecolor": "white",
            "ticks": ""
           }
          },
          "title": {
           "x": 0.05
          },
          "xaxis": {
           "automargin": true,
           "gridcolor": "white",
           "linecolor": "white",
           "ticks": "",
           "title": {
            "standoff": 15
           },
           "zerolinecolor": "white",
           "zerolinewidth": 2
          },
          "yaxis": {
           "automargin": true,
           "gridcolor": "white",
           "linecolor": "white",
           "ticks": "",
           "title": {
            "standoff": 15
           },
           "zerolinecolor": "white",
           "zerolinewidth": 2
          }
         }
        },
        "title": {
         "text": "Populations of Counties with High Risk Zip Codes by Race"
        }
       }
      },
      "text/html": [
       "<div>                            <div id=\"64f30971-b599-4ee3-be1b-dd53b0507339\" class=\"plotly-graph-div\" style=\"height:525px; width:100%;\"></div>            <script type=\"text/javascript\">                require([\"plotly\"], function(Plotly) {                    window.PLOTLYENV=window.PLOTLYENV || {};                                    if (document.getElementById(\"64f30971-b599-4ee3-be1b-dd53b0507339\")) {                    Plotly.newPlot(                        \"64f30971-b599-4ee3-be1b-dd53b0507339\",                        [{\"domain\":{\"x\":[0.0,0.45],\"y\":[0.84375,1.0]},\"hoverinfo\":\"label+percent+name\",\"labels\":[\"White\",\"Black or African American\",\" American Indian and Alaska Native\",\"Asian\",\" Native Hawaiian and Other Pacific Islander\",\"Hispanic\",\"Two or More Races\"],\"name\":\"Franklin\",\"textinfo\":\"none\",\"values\":[38409,1973,482,2102,200,52240,1670],\"type\":\"pie\"},{\"domain\":{\"x\":[0.55,1.0],\"y\":[0.84375,1.0]},\"hoverinfo\":\"label+percent+name\",\"labels\":[\"White\",\"Black or African American\",\" American Indian and Alaska Native\",\"Asian\",\" Native Hawaiian and Other Pacific Islander\",\"Hispanic\",\"Two or More Races\"],\"name\":\"Grant\",\"textinfo\":\"none\",\"values\":[52080,931,860,950,140,42682,1722],\"type\":\"pie\"},{\"domain\":{\"x\":[0.0,0.45],\"y\":[0.5625,0.71875]},\"hoverinfo\":\"label+percent+name\",\"labels\":[\"White\",\"Black or African American\",\" American Indian and Alaska Native\",\"Asian\",\" Native Hawaiian and Other Pacific Islander\",\"Hispanic\",\"Two or More Races\"],\"name\":\"King\",\"textinfo\":\"none\",\"values\":[1293953,152734,13090,456352,17708,230889,107845],\"type\":\"pie\"},{\"domain\":{\"x\":[0.55,1.0],\"y\":[0.5625,0.71875]},\"hoverinfo\":\"label+percent+name\",\"labels\":[\"White\",\"Black or African American\",\" American Indian and Alaska Native\",\"Asian\",\" Native Hawaiian and Other Pacific Islander\",\"Hispanic\",\"Two or More Races\"],\"name\":\"Mason\",\"textinfo\":\"none\",\"values\":[52239,898,2005,836,313,7179,2558],\"type\":\"pie\"},{\"domain\":{\"x\":[0.0,0.45],\"y\":[0.28125,0.4375]},\"hoverinfo\":\"label+percent+name\",\"labels\":[\"White\",\"Black or African American\",\" American Indian and Alaska Native\",\"Asian\",\" Native Hawaiian and Other Pacific Islander\",\"Hispanic\",\"Two or More Races\"],\"name\":\"Pierce\",\"textinfo\":\"none\",\"values\":[596274,66213,10567,63526,15110,109959,61179],\"type\":\"pie\"},{\"domain\":{\"x\":[0.55,1.0],\"y\":[0.28125,0.4375]},\"hoverinfo\":\"label+percent+name\",\"labels\":[\"White\",\"Black or African American\",\" American Indian and Alaska Native\",\"Asian\",\" Native Hawaiian and Other Pacific Islander\",\"Hispanic\",\"Two or More Races\"],\"name\":\"Snohomish\",\"textinfo\":\"none\",\"values\":[553800,30510,8630,102433,5028,91517,37413],\"type\":\"pie\"},{\"domain\":{\"x\":[0.0,0.45],\"y\":[0.0,0.15625]},\"hoverinfo\":\"label+percent+name\",\"labels\":[\"White\",\"Black or African American\",\" American Indian and Alaska Native\",\"Asian\",\" Native Hawaiian and Other Pacific Islander\",\"Hispanic\",\"Two or More Races\"],\"name\":\"Spokane\",\"textinfo\":\"none\",\"values\":[451633,10205,7576,12610,3225,34603,20848],\"type\":\"pie\"},{\"domain\":{\"x\":[0.55,1.0],\"y\":[0.0,0.15625]},\"hoverinfo\":\"label+percent+name\",\"labels\":[\"White\",\"Black or African American\",\" American Indian and Alaska Native\",\"Asian\",\" Native Hawaiian and Other Pacific Islander\",\"Hispanic\",\"Two or More Races\"],\"name\":\"Yakima\",\"textinfo\":\"none\",\"values\":[106301,2197,9223,2976,211,131130,4495],\"type\":\"pie\"},{\"domain\":{\"x\":[0.0,0.45],\"y\":[0.84375,1.0]},\"hoverinfo\":\"label+percent+name\",\"labels\":[\"White\",\"Black or African American\",\" American Indian and Alaska Native\",\"Asian\",\" Native Hawaiian and Other Pacific Islander\",\"Hispanic\",\"Two or More Races\"],\"name\":\"Franklin\",\"textinfo\":\"none\",\"values\":[38409,1973,482,2102,200,52240,1670],\"type\":\"pie\"},{\"domain\":{\"x\":[0.55,1.0],\"y\":[0.84375,1.0]},\"hoverinfo\":\"label+percent+name\",\"labels\":[\"White\",\"Black or African American\",\" American Indian and Alaska Native\",\"Asian\",\" Native Hawaiian and Other Pacific Islander\",\"Hispanic\",\"Two or More Races\"],\"name\":\"Grant\",\"textinfo\":\"none\",\"values\":[52080,931,860,950,140,42682,1722],\"type\":\"pie\"},{\"domain\":{\"x\":[0.0,0.45],\"y\":[0.5625,0.71875]},\"hoverinfo\":\"label+percent+name\",\"labels\":[\"White\",\"Black or African American\",\" American Indian and Alaska Native\",\"Asian\",\" Native Hawaiian and Other Pacific Islander\",\"Hispanic\",\"Two or More Races\"],\"name\":\"King\",\"textinfo\":\"none\",\"values\":[1293953,152734,13090,456352,17708,230889,107845],\"type\":\"pie\"},{\"domain\":{\"x\":[0.55,1.0],\"y\":[0.5625,0.71875]},\"hoverinfo\":\"label+percent+name\",\"labels\":[\"White\",\"Black or African American\",\" American Indian and Alaska Native\",\"Asian\",\" Native Hawaiian and Other Pacific Islander\",\"Hispanic\",\"Two or More Races\"],\"name\":\"Mason\",\"textinfo\":\"none\",\"values\":[52239,898,2005,836,313,7179,2558],\"type\":\"pie\"},{\"domain\":{\"x\":[0.0,0.45],\"y\":[0.28125,0.4375]},\"hoverinfo\":\"label+percent+name\",\"labels\":[\"White\",\"Black or African American\",\" American Indian and Alaska Native\",\"Asian\",\" Native Hawaiian and Other Pacific Islander\",\"Hispanic\",\"Two or More Races\"],\"name\":\"Pierce\",\"textinfo\":\"none\",\"values\":[596274,66213,10567,63526,15110,109959,61179],\"type\":\"pie\"},{\"domain\":{\"x\":[0.55,1.0],\"y\":[0.28125,0.4375]},\"hoverinfo\":\"label+percent+name\",\"labels\":[\"White\",\"Black or African American\",\" American Indian and Alaska Native\",\"Asian\",\" Native Hawaiian and Other Pacific Islander\",\"Hispanic\",\"Two or More Races\"],\"name\":\"Snohomish\",\"textinfo\":\"none\",\"values\":[553800,30510,8630,102433,5028,91517,37413],\"type\":\"pie\"},{\"domain\":{\"x\":[0.0,0.45],\"y\":[0.0,0.15625]},\"hoverinfo\":\"label+percent+name\",\"labels\":[\"White\",\"Black or African American\",\" American Indian and Alaska Native\",\"Asian\",\" Native Hawaiian and Other Pacific Islander\",\"Hispanic\",\"Two or More Races\"],\"name\":\"Spokane\",\"textinfo\":\"none\",\"values\":[451633,10205,7576,12610,3225,34603,20848],\"type\":\"pie\"},{\"domain\":{\"x\":[0.55,1.0],\"y\":[0.0,0.15625]},\"hoverinfo\":\"label+percent+name\",\"labels\":[\"White\",\"Black or African American\",\" American Indian and Alaska Native\",\"Asian\",\" Native Hawaiian and Other Pacific Islander\",\"Hispanic\",\"Two or More Races\"],\"name\":\"Yakima\",\"textinfo\":\"none\",\"values\":[106301,2197,9223,2976,211,131130,4495],\"type\":\"pie\"}],                        {\"annotations\":[{\"font\":{\"size\":16},\"showarrow\":false,\"text\":\"Franklin\",\"x\":0.225,\"xanchor\":\"center\",\"xref\":\"paper\",\"y\":1.0,\"yanchor\":\"bottom\",\"yref\":\"paper\"},{\"font\":{\"size\":16},\"showarrow\":false,\"text\":\"Grant\",\"x\":0.775,\"xanchor\":\"center\",\"xref\":\"paper\",\"y\":1.0,\"yanchor\":\"bottom\",\"yref\":\"paper\"},{\"font\":{\"size\":16},\"showarrow\":false,\"text\":\"King\",\"x\":0.225,\"xanchor\":\"center\",\"xref\":\"paper\",\"y\":0.71875,\"yanchor\":\"bottom\",\"yref\":\"paper\"},{\"font\":{\"size\":16},\"showarrow\":false,\"text\":\"Mason\",\"x\":0.775,\"xanchor\":\"center\",\"xref\":\"paper\",\"y\":0.71875,\"yanchor\":\"bottom\",\"yref\":\"paper\"},{\"font\":{\"size\":16},\"showarrow\":false,\"text\":\"Pierce\",\"x\":0.225,\"xanchor\":\"center\",\"xref\":\"paper\",\"y\":0.4375,\"yanchor\":\"bottom\",\"yref\":\"paper\"},{\"font\":{\"size\":16},\"showarrow\":false,\"text\":\"Snohomish\",\"x\":0.775,\"xanchor\":\"center\",\"xref\":\"paper\",\"y\":0.4375,\"yanchor\":\"bottom\",\"yref\":\"paper\"},{\"font\":{\"size\":16},\"showarrow\":false,\"text\":\"Spokane\",\"x\":0.225,\"xanchor\":\"center\",\"xref\":\"paper\",\"y\":0.15625,\"yanchor\":\"bottom\",\"yref\":\"paper\"},{\"font\":{\"size\":16},\"showarrow\":false,\"text\":\"Yakima\",\"x\":0.775,\"xanchor\":\"center\",\"xref\":\"paper\",\"y\":0.15625,\"yanchor\":\"bottom\",\"yref\":\"paper\"}],\"showlegend\":true,\"template\":{\"data\":{\"barpolar\":[{\"marker\":{\"line\":{\"color\":\"#E5ECF6\",\"width\":0.5},\"pattern\":{\"fillmode\":\"overlay\",\"size\":10,\"solidity\":0.2}},\"type\":\"barpolar\"}],\"bar\":[{\"error_x\":{\"color\":\"#2a3f5f\"},\"error_y\":{\"color\":\"#2a3f5f\"},\"marker\":{\"line\":{\"color\":\"#E5ECF6\",\"width\":0.5},\"pattern\":{\"fillmode\":\"overlay\",\"size\":10,\"solidity\":0.2}},\"type\":\"bar\"}],\"carpet\":[{\"aaxis\":{\"endlinecolor\":\"#2a3f5f\",\"gridcolor\":\"white\",\"linecolor\":\"white\",\"minorgridcolor\":\"white\",\"startlinecolor\":\"#2a3f5f\"},\"baxis\":{\"endlinecolor\":\"#2a3f5f\",\"gridcolor\":\"white\",\"linecolor\":\"white\",\"minorgridcolor\":\"white\",\"startlinecolor\":\"#2a3f5f\"},\"type\":\"carpet\"}],\"choropleth\":[{\"colorbar\":{\"outlinewidth\":0,\"ticks\":\"\"},\"type\":\"choropleth\"}],\"contourcarpet\":[{\"colorbar\":{\"outlinewidth\":0,\"ticks\":\"\"},\"type\":\"contourcarpet\"}],\"contour\":[{\"colorbar\":{\"outlinewidth\":0,\"ticks\":\"\"},\"colorscale\":[[0.0,\"#0d0887\"],[0.1111111111111111,\"#46039f\"],[0.2222222222222222,\"#7201a8\"],[0.3333333333333333,\"#9c179e\"],[0.4444444444444444,\"#bd3786\"],[0.5555555555555556,\"#d8576b\"],[0.6666666666666666,\"#ed7953\"],[0.7777777777777778,\"#fb9f3a\"],[0.8888888888888888,\"#fdca26\"],[1.0,\"#f0f921\"]],\"type\":\"contour\"}],\"heatmapgl\":[{\"colorbar\":{\"outlinewidth\":0,\"ticks\":\"\"},\"colorscale\":[[0.0,\"#0d0887\"],[0.1111111111111111,\"#46039f\"],[0.2222222222222222,\"#7201a8\"],[0.3333333333333333,\"#9c179e\"],[0.4444444444444444,\"#bd3786\"],[0.5555555555555556,\"#d8576b\"],[0.6666666666666666,\"#ed7953\"],[0.7777777777777778,\"#fb9f3a\"],[0.8888888888888888,\"#fdca26\"],[1.0,\"#f0f921\"]],\"type\":\"heatmapgl\"}],\"heatmap\":[{\"colorbar\":{\"outlinewidth\":0,\"ticks\":\"\"},\"colorscale\":[[0.0,\"#0d0887\"],[0.1111111111111111,\"#46039f\"],[0.2222222222222222,\"#7201a8\"],[0.3333333333333333,\"#9c179e\"],[0.4444444444444444,\"#bd3786\"],[0.5555555555555556,\"#d8576b\"],[0.6666666666666666,\"#ed7953\"],[0.7777777777777778,\"#fb9f3a\"],[0.8888888888888888,\"#fdca26\"],[1.0,\"#f0f921\"]],\"type\":\"heatmap\"}],\"histogram2dcontour\":[{\"colorbar\":{\"outlinewidth\":0,\"ticks\":\"\"},\"colorscale\":[[0.0,\"#0d0887\"],[0.1111111111111111,\"#46039f\"],[0.2222222222222222,\"#7201a8\"],[0.3333333333333333,\"#9c179e\"],[0.4444444444444444,\"#bd3786\"],[0.5555555555555556,\"#d8576b\"],[0.6666666666666666,\"#ed7953\"],[0.7777777777777778,\"#fb9f3a\"],[0.8888888888888888,\"#fdca26\"],[1.0,\"#f0f921\"]],\"type\":\"histogram2dcontour\"}],\"histogram2d\":[{\"colorbar\":{\"outlinewidth\":0,\"ticks\":\"\"},\"colorscale\":[[0.0,\"#0d0887\"],[0.1111111111111111,\"#46039f\"],[0.2222222222222222,\"#7201a8\"],[0.3333333333333333,\"#9c179e\"],[0.4444444444444444,\"#bd3786\"],[0.5555555555555556,\"#d8576b\"],[0.6666666666666666,\"#ed7953\"],[0.7777777777777778,\"#fb9f3a\"],[0.8888888888888888,\"#fdca26\"],[1.0,\"#f0f921\"]],\"type\":\"histogram2d\"}],\"histogram\":[{\"marker\":{\"pattern\":{\"fillmode\":\"overlay\",\"size\":10,\"solidity\":0.2}},\"type\":\"histogram\"}],\"mesh3d\":[{\"colorbar\":{\"outlinewidth\":0,\"ticks\":\"\"},\"type\":\"mesh3d\"}],\"parcoords\":[{\"line\":{\"colorbar\":{\"outlinewidth\":0,\"ticks\":\"\"}},\"type\":\"parcoords\"}],\"pie\":[{\"automargin\":true,\"type\":\"pie\"}],\"scatter3d\":[{\"line\":{\"colorbar\":{\"outlinewidth\":0,\"ticks\":\"\"}},\"marker\":{\"colorbar\":{\"outlinewidth\":0,\"ticks\":\"\"}},\"type\":\"scatter3d\"}],\"scattercarpet\":[{\"marker\":{\"colorbar\":{\"outlinewidth\":0,\"ticks\":\"\"}},\"type\":\"scattercarpet\"}],\"scattergeo\":[{\"marker\":{\"colorbar\":{\"outlinewidth\":0,\"ticks\":\"\"}},\"type\":\"scattergeo\"}],\"scattergl\":[{\"marker\":{\"colorbar\":{\"outlinewidth\":0,\"ticks\":\"\"}},\"type\":\"scattergl\"}],\"scattermapbox\":[{\"marker\":{\"colorbar\":{\"outlinewidth\":0,\"ticks\":\"\"}},\"type\":\"scattermapbox\"}],\"scatterpolargl\":[{\"marker\":{\"colorbar\":{\"outlinewidth\":0,\"ticks\":\"\"}},\"type\":\"scatterpolargl\"}],\"scatterpolar\":[{\"marker\":{\"colorbar\":{\"outlinewidth\":0,\"ticks\":\"\"}},\"type\":\"scatterpolar\"}],\"scatter\":[{\"fillpattern\":{\"fillmode\":\"overlay\",\"size\":10,\"solidity\":0.2},\"type\":\"scatter\"}],\"scatterternary\":[{\"marker\":{\"colorbar\":{\"outlinewidth\":0,\"ticks\":\"\"}},\"type\":\"scatterternary\"}],\"surface\":[{\"colorbar\":{\"outlinewidth\":0,\"ticks\":\"\"},\"colorscale\":[[0.0,\"#0d0887\"],[0.1111111111111111,\"#46039f\"],[0.2222222222222222,\"#7201a8\"],[0.3333333333333333,\"#9c179e\"],[0.4444444444444444,\"#bd3786\"],[0.5555555555555556,\"#d8576b\"],[0.6666666666666666,\"#ed7953\"],[0.7777777777777778,\"#fb9f3a\"],[0.8888888888888888,\"#fdca26\"],[1.0,\"#f0f921\"]],\"type\":\"surface\"}],\"table\":[{\"cells\":{\"fill\":{\"color\":\"#EBF0F8\"},\"line\":{\"color\":\"white\"}},\"header\":{\"fill\":{\"color\":\"#C8D4E3\"},\"line\":{\"color\":\"white\"}},\"type\":\"table\"}]},\"layout\":{\"annotationdefaults\":{\"arrowcolor\":\"#2a3f5f\",\"arrowhead\":0,\"arrowwidth\":1},\"autotypenumbers\":\"strict\",\"coloraxis\":{\"colorbar\":{\"outlinewidth\":0,\"ticks\":\"\"}},\"colorscale\":{\"diverging\":[[0,\"#8e0152\"],[0.1,\"#c51b7d\"],[0.2,\"#de77ae\"],[0.3,\"#f1b6da\"],[0.4,\"#fde0ef\"],[0.5,\"#f7f7f7\"],[0.6,\"#e6f5d0\"],[0.7,\"#b8e186\"],[0.8,\"#7fbc41\"],[0.9,\"#4d9221\"],[1,\"#276419\"]],\"sequential\":[[0.0,\"#0d0887\"],[0.1111111111111111,\"#46039f\"],[0.2222222222222222,\"#7201a8\"],[0.3333333333333333,\"#9c179e\"],[0.4444444444444444,\"#bd3786\"],[0.5555555555555556,\"#d8576b\"],[0.6666666666666666,\"#ed7953\"],[0.7777777777777778,\"#fb9f3a\"],[0.8888888888888888,\"#fdca26\"],[1.0,\"#f0f921\"]],\"sequentialminus\":[[0.0,\"#0d0887\"],[0.1111111111111111,\"#46039f\"],[0.2222222222222222,\"#7201a8\"],[0.3333333333333333,\"#9c179e\"],[0.4444444444444444,\"#bd3786\"],[0.5555555555555556,\"#d8576b\"],[0.6666666666666666,\"#ed7953\"],[0.7777777777777778,\"#fb9f3a\"],[0.8888888888888888,\"#fdca26\"],[1.0,\"#f0f921\"]]},\"colorway\":[\"#636efa\",\"#EF553B\",\"#00cc96\",\"#ab63fa\",\"#FFA15A\",\"#19d3f3\",\"#FF6692\",\"#B6E880\",\"#FF97FF\",\"#FECB52\"],\"font\":{\"color\":\"#2a3f5f\"},\"geo\":{\"bgcolor\":\"white\",\"lakecolor\":\"white\",\"landcolor\":\"#E5ECF6\",\"showlakes\":true,\"showland\":true,\"subunitcolor\":\"white\"},\"hoverlabel\":{\"align\":\"left\"},\"hovermode\":\"closest\",\"mapbox\":{\"style\":\"light\"},\"paper_bgcolor\":\"white\",\"plot_bgcolor\":\"#E5ECF6\",\"polar\":{\"angularaxis\":{\"gridcolor\":\"white\",\"linecolor\":\"white\",\"ticks\":\"\"},\"bgcolor\":\"#E5ECF6\",\"radialaxis\":{\"gridcolor\":\"white\",\"linecolor\":\"white\",\"ticks\":\"\"}},\"scene\":{\"xaxis\":{\"backgroundcolor\":\"#E5ECF6\",\"gridcolor\":\"white\",\"gridwidth\":2,\"linecolor\":\"white\",\"showbackground\":true,\"ticks\":\"\",\"zerolinecolor\":\"white\"},\"yaxis\":{\"backgroundcolor\":\"#E5ECF6\",\"gridcolor\":\"white\",\"gridwidth\":2,\"linecolor\":\"white\",\"showbackground\":true,\"ticks\":\"\",\"zerolinecolor\":\"white\"},\"zaxis\":{\"backgroundcolor\":\"#E5ECF6\",\"gridcolor\":\"white\",\"gridwidth\":2,\"linecolor\":\"white\",\"showbackground\":true,\"ticks\":\"\",\"zerolinecolor\":\"white\"}},\"shapedefaults\":{\"line\":{\"color\":\"#2a3f5f\"}},\"ternary\":{\"aaxis\":{\"gridcolor\":\"white\",\"linecolor\":\"white\",\"ticks\":\"\"},\"baxis\":{\"gridcolor\":\"white\",\"linecolor\":\"white\",\"ticks\":\"\"},\"bgcolor\":\"#E5ECF6\",\"caxis\":{\"gridcolor\":\"white\",\"linecolor\":\"white\",\"ticks\":\"\"}},\"title\":{\"x\":0.05},\"xaxis\":{\"automargin\":true,\"gridcolor\":\"white\",\"linecolor\":\"white\",\"ticks\":\"\",\"title\":{\"standoff\":15},\"zerolinecolor\":\"white\",\"zerolinewidth\":2},\"yaxis\":{\"automargin\":true,\"gridcolor\":\"white\",\"linecolor\":\"white\",\"ticks\":\"\",\"title\":{\"standoff\":15},\"zerolinecolor\":\"white\",\"zerolinewidth\":2}}},\"title\":{\"text\":\"Populations of Counties with High Risk Zip Codes by Race\"}},                        {\"responsive\": true}                    ).then(function(){\n",
       "                            \n",
       "var gd = document.getElementById('64f30971-b599-4ee3-be1b-dd53b0507339');\n",
       "var x = new MutationObserver(function (mutations, observer) {{\n",
       "        var display = window.getComputedStyle(gd).display;\n",
       "        if (!display || display === 'none') {{\n",
       "            console.log([gd, 'removed!']);\n",
       "            Plotly.purge(gd);\n",
       "            observer.disconnect();\n",
       "        }}\n",
       "}});\n",
       "\n",
       "// Listen for the removal of the full notebook cells\n",
       "var notebookContainer = gd.closest('#notebook-container');\n",
       "if (notebookContainer) {{\n",
       "    x.observe(notebookContainer, {childList: true});\n",
       "}}\n",
       "\n",
       "// Listen for the clearing of the current output cell\n",
       "var outputEl = gd.closest('.output');\n",
       "if (outputEl) {{\n",
       "    x.observe(outputEl, {childList: true});\n",
       "}}\n",
       "\n",
       "                        })                };                });            </script>        </div>"
      ]
     },
     "metadata": {},
     "output_type": "display_data"
    }
   ],
   "source": [
    "pies.add_trace(go.Pie(labels=labels, values=[38409,  1973,   482,  2102,   200, 52240,  1670], name='Franklin'), 1, 1)\n",
    "pies.add_trace(go.Pie(labels=labels, values=[52080,   931,   860,   950,   140, 42682,  1722], name='Grant'), 1, 2)\n",
    "pies.add_trace(go.Pie(labels=labels, values=[1293953,  152734,   13090,  456352,   17708,  230889,  107845], name='King'), 2, 1)\n",
    "pies.add_trace(go.Pie(labels=labels, values=[52239,   898,  2005,   836,   313,  7179,  2558], name='Mason'), 2, 2)\n",
    "\n",
    "pies.add_trace(go.Pie(labels=labels, values=[596274,  66213,  10567,  63526,  15110, 109959,  61179], name='Pierce'), 3, 1)\n",
    "pies.add_trace(go.Pie(labels=labels, values=[553800,  30510,   8630, 102433,   5028,  91517,  37413], name='Snohomish'), 3, 2)\n",
    "pies.add_trace(go.Pie(labels=labels, values=[451633,  10205,   7576,  12610,   3225,  34603,  20848], name='Spokane'), 4, 1)\n",
    "pies.add_trace(go.Pie(labels=labels, values=[106301,   2197,   9223,   2976,    211, 131130,   4495], name='Yakima'), 4, 2)\n",
    "\n",
    "pies.update_traces(hoverinfo='label+percent+name', textinfo='none')\n",
    "pies.update(layout_title_text='Populations of Counties with High Risk Zip Codes by Race',\n",
    "           layout_showlegend=True)\n",
    "\n",
    "pies = go.Figure(pies)\n",
    "pies.show()"
   ]
  },
  {
   "cell_type": "code",
   "execution_count": 58,
   "id": "ee890fd5-fad9-4856-a3b2-5c72b43190f0",
   "metadata": {
    "tags": []
   },
   "outputs": [
    {
     "data": {
      "application/vnd.plotly.v1+json": {
       "config": {
        "plotlyServerURL": "https://plot.ly"
       },
       "data": [
        {
         "alignmentgroup": "True",
         "hovertemplate": "County=%{x}<br>estinc2020=%{y}<extra></extra>",
         "legendgroup": "",
         "marker": {
          "color": "#636efa",
          "pattern": {
           "shape": ""
          }
         },
         "name": "",
         "offsetgroup": "",
         "orientation": "v",
         "showlegend": false,
         "textposition": "auto",
         "type": "bar",
         "x": [
          "Franklin",
          "Grant",
          "King",
          "Mason",
          "Pierce",
          "Snohomish",
          "Spokane",
          "Yakima"
         ],
         "xaxis": "x",
         "y": [
          73656,
          54753,
          102620,
          63785,
          80236,
          93589,
          60827,
          56353
         ],
         "yaxis": "y"
        }
       ],
       "layout": {
        "barmode": "relative",
        "legend": {
         "tracegroupgap": 0
        },
        "template": {
         "data": {
          "bar": [
           {
            "error_x": {
             "color": "#2a3f5f"
            },
            "error_y": {
             "color": "#2a3f5f"
            },
            "marker": {
             "line": {
              "color": "#E5ECF6",
              "width": 0.5
             },
             "pattern": {
              "fillmode": "overlay",
              "size": 10,
              "solidity": 0.2
             }
            },
            "type": "bar"
           }
          ],
          "barpolar": [
           {
            "marker": {
             "line": {
              "color": "#E5ECF6",
              "width": 0.5
             },
             "pattern": {
              "fillmode": "overlay",
              "size": 10,
              "solidity": 0.2
             }
            },
            "type": "barpolar"
           }
          ],
          "carpet": [
           {
            "aaxis": {
             "endlinecolor": "#2a3f5f",
             "gridcolor": "white",
             "linecolor": "white",
             "minorgridcolor": "white",
             "startlinecolor": "#2a3f5f"
            },
            "baxis": {
             "endlinecolor": "#2a3f5f",
             "gridcolor": "white",
             "linecolor": "white",
             "minorgridcolor": "white",
             "startlinecolor": "#2a3f5f"
            },
            "type": "carpet"
           }
          ],
          "choropleth": [
           {
            "colorbar": {
             "outlinewidth": 0,
             "ticks": ""
            },
            "type": "choropleth"
           }
          ],
          "contour": [
           {
            "colorbar": {
             "outlinewidth": 0,
             "ticks": ""
            },
            "colorscale": [
             [
              0,
              "#0d0887"
             ],
             [
              0.1111111111111111,
              "#46039f"
             ],
             [
              0.2222222222222222,
              "#7201a8"
             ],
             [
              0.3333333333333333,
              "#9c179e"
             ],
             [
              0.4444444444444444,
              "#bd3786"
             ],
             [
              0.5555555555555556,
              "#d8576b"
             ],
             [
              0.6666666666666666,
              "#ed7953"
             ],
             [
              0.7777777777777778,
              "#fb9f3a"
             ],
             [
              0.8888888888888888,
              "#fdca26"
             ],
             [
              1,
              "#f0f921"
             ]
            ],
            "type": "contour"
           }
          ],
          "contourcarpet": [
           {
            "colorbar": {
             "outlinewidth": 0,
             "ticks": ""
            },
            "type": "contourcarpet"
           }
          ],
          "heatmap": [
           {
            "colorbar": {
             "outlinewidth": 0,
             "ticks": ""
            },
            "colorscale": [
             [
              0,
              "#0d0887"
             ],
             [
              0.1111111111111111,
              "#46039f"
             ],
             [
              0.2222222222222222,
              "#7201a8"
             ],
             [
              0.3333333333333333,
              "#9c179e"
             ],
             [
              0.4444444444444444,
              "#bd3786"
             ],
             [
              0.5555555555555556,
              "#d8576b"
             ],
             [
              0.6666666666666666,
              "#ed7953"
             ],
             [
              0.7777777777777778,
              "#fb9f3a"
             ],
             [
              0.8888888888888888,
              "#fdca26"
             ],
             [
              1,
              "#f0f921"
             ]
            ],
            "type": "heatmap"
           }
          ],
          "heatmapgl": [
           {
            "colorbar": {
             "outlinewidth": 0,
             "ticks": ""
            },
            "colorscale": [
             [
              0,
              "#0d0887"
             ],
             [
              0.1111111111111111,
              "#46039f"
             ],
             [
              0.2222222222222222,
              "#7201a8"
             ],
             [
              0.3333333333333333,
              "#9c179e"
             ],
             [
              0.4444444444444444,
              "#bd3786"
             ],
             [
              0.5555555555555556,
              "#d8576b"
             ],
             [
              0.6666666666666666,
              "#ed7953"
             ],
             [
              0.7777777777777778,
              "#fb9f3a"
             ],
             [
              0.8888888888888888,
              "#fdca26"
             ],
             [
              1,
              "#f0f921"
             ]
            ],
            "type": "heatmapgl"
           }
          ],
          "histogram": [
           {
            "marker": {
             "pattern": {
              "fillmode": "overlay",
              "size": 10,
              "solidity": 0.2
             }
            },
            "type": "histogram"
           }
          ],
          "histogram2d": [
           {
            "colorbar": {
             "outlinewidth": 0,
             "ticks": ""
            },
            "colorscale": [
             [
              0,
              "#0d0887"
             ],
             [
              0.1111111111111111,
              "#46039f"
             ],
             [
              0.2222222222222222,
              "#7201a8"
             ],
             [
              0.3333333333333333,
              "#9c179e"
             ],
             [
              0.4444444444444444,
              "#bd3786"
             ],
             [
              0.5555555555555556,
              "#d8576b"
             ],
             [
              0.6666666666666666,
              "#ed7953"
             ],
             [
              0.7777777777777778,
              "#fb9f3a"
             ],
             [
              0.8888888888888888,
              "#fdca26"
             ],
             [
              1,
              "#f0f921"
             ]
            ],
            "type": "histogram2d"
           }
          ],
          "histogram2dcontour": [
           {
            "colorbar": {
             "outlinewidth": 0,
             "ticks": ""
            },
            "colorscale": [
             [
              0,
              "#0d0887"
             ],
             [
              0.1111111111111111,
              "#46039f"
             ],
             [
              0.2222222222222222,
              "#7201a8"
             ],
             [
              0.3333333333333333,
              "#9c179e"
             ],
             [
              0.4444444444444444,
              "#bd3786"
             ],
             [
              0.5555555555555556,
              "#d8576b"
             ],
             [
              0.6666666666666666,
              "#ed7953"
             ],
             [
              0.7777777777777778,
              "#fb9f3a"
             ],
             [
              0.8888888888888888,
              "#fdca26"
             ],
             [
              1,
              "#f0f921"
             ]
            ],
            "type": "histogram2dcontour"
           }
          ],
          "mesh3d": [
           {
            "colorbar": {
             "outlinewidth": 0,
             "ticks": ""
            },
            "type": "mesh3d"
           }
          ],
          "parcoords": [
           {
            "line": {
             "colorbar": {
              "outlinewidth": 0,
              "ticks": ""
             }
            },
            "type": "parcoords"
           }
          ],
          "pie": [
           {
            "automargin": true,
            "type": "pie"
           }
          ],
          "scatter": [
           {
            "fillpattern": {
             "fillmode": "overlay",
             "size": 10,
             "solidity": 0.2
            },
            "type": "scatter"
           }
          ],
          "scatter3d": [
           {
            "line": {
             "colorbar": {
              "outlinewidth": 0,
              "ticks": ""
             }
            },
            "marker": {
             "colorbar": {
              "outlinewidth": 0,
              "ticks": ""
             }
            },
            "type": "scatter3d"
           }
          ],
          "scattercarpet": [
           {
            "marker": {
             "colorbar": {
              "outlinewidth": 0,
              "ticks": ""
             }
            },
            "type": "scattercarpet"
           }
          ],
          "scattergeo": [
           {
            "marker": {
             "colorbar": {
              "outlinewidth": 0,
              "ticks": ""
             }
            },
            "type": "scattergeo"
           }
          ],
          "scattergl": [
           {
            "marker": {
             "colorbar": {
              "outlinewidth": 0,
              "ticks": ""
             }
            },
            "type": "scattergl"
           }
          ],
          "scattermapbox": [
           {
            "marker": {
             "colorbar": {
              "outlinewidth": 0,
              "ticks": ""
             }
            },
            "type": "scattermapbox"
           }
          ],
          "scatterpolar": [
           {
            "marker": {
             "colorbar": {
              "outlinewidth": 0,
              "ticks": ""
             }
            },
            "type": "scatterpolar"
           }
          ],
          "scatterpolargl": [
           {
            "marker": {
             "colorbar": {
              "outlinewidth": 0,
              "ticks": ""
             }
            },
            "type": "scatterpolargl"
           }
          ],
          "scatterternary": [
           {
            "marker": {
             "colorbar": {
              "outlinewidth": 0,
              "ticks": ""
             }
            },
            "type": "scatterternary"
           }
          ],
          "surface": [
           {
            "colorbar": {
             "outlinewidth": 0,
             "ticks": ""
            },
            "colorscale": [
             [
              0,
              "#0d0887"
             ],
             [
              0.1111111111111111,
              "#46039f"
             ],
             [
              0.2222222222222222,
              "#7201a8"
             ],
             [
              0.3333333333333333,
              "#9c179e"
             ],
             [
              0.4444444444444444,
              "#bd3786"
             ],
             [
              0.5555555555555556,
              "#d8576b"
             ],
             [
              0.6666666666666666,
              "#ed7953"
             ],
             [
              0.7777777777777778,
              "#fb9f3a"
             ],
             [
              0.8888888888888888,
              "#fdca26"
             ],
             [
              1,
              "#f0f921"
             ]
            ],
            "type": "surface"
           }
          ],
          "table": [
           {
            "cells": {
             "fill": {
              "color": "#EBF0F8"
             },
             "line": {
              "color": "white"
             }
            },
            "header": {
             "fill": {
              "color": "#C8D4E3"
             },
             "line": {
              "color": "white"
             }
            },
            "type": "table"
           }
          ]
         },
         "layout": {
          "annotationdefaults": {
           "arrowcolor": "#2a3f5f",
           "arrowhead": 0,
           "arrowwidth": 1
          },
          "autotypenumbers": "strict",
          "coloraxis": {
           "colorbar": {
            "outlinewidth": 0,
            "ticks": ""
           }
          },
          "colorscale": {
           "diverging": [
            [
             0,
             "#8e0152"
            ],
            [
             0.1,
             "#c51b7d"
            ],
            [
             0.2,
             "#de77ae"
            ],
            [
             0.3,
             "#f1b6da"
            ],
            [
             0.4,
             "#fde0ef"
            ],
            [
             0.5,
             "#f7f7f7"
            ],
            [
             0.6,
             "#e6f5d0"
            ],
            [
             0.7,
             "#b8e186"
            ],
            [
             0.8,
             "#7fbc41"
            ],
            [
             0.9,
             "#4d9221"
            ],
            [
             1,
             "#276419"
            ]
           ],
           "sequential": [
            [
             0,
             "#0d0887"
            ],
            [
             0.1111111111111111,
             "#46039f"
            ],
            [
             0.2222222222222222,
             "#7201a8"
            ],
            [
             0.3333333333333333,
             "#9c179e"
            ],
            [
             0.4444444444444444,
             "#bd3786"
            ],
            [
             0.5555555555555556,
             "#d8576b"
            ],
            [
             0.6666666666666666,
             "#ed7953"
            ],
            [
             0.7777777777777778,
             "#fb9f3a"
            ],
            [
             0.8888888888888888,
             "#fdca26"
            ],
            [
             1,
             "#f0f921"
            ]
           ],
           "sequentialminus": [
            [
             0,
             "#0d0887"
            ],
            [
             0.1111111111111111,
             "#46039f"
            ],
            [
             0.2222222222222222,
             "#7201a8"
            ],
            [
             0.3333333333333333,
             "#9c179e"
            ],
            [
             0.4444444444444444,
             "#bd3786"
            ],
            [
             0.5555555555555556,
             "#d8576b"
            ],
            [
             0.6666666666666666,
             "#ed7953"
            ],
            [
             0.7777777777777778,
             "#fb9f3a"
            ],
            [
             0.8888888888888888,
             "#fdca26"
            ],
            [
             1,
             "#f0f921"
            ]
           ]
          },
          "colorway": [
           "#636efa",
           "#EF553B",
           "#00cc96",
           "#ab63fa",
           "#FFA15A",
           "#19d3f3",
           "#FF6692",
           "#B6E880",
           "#FF97FF",
           "#FECB52"
          ],
          "font": {
           "color": "#2a3f5f"
          },
          "geo": {
           "bgcolor": "white",
           "lakecolor": "white",
           "landcolor": "#E5ECF6",
           "showlakes": true,
           "showland": true,
           "subunitcolor": "white"
          },
          "hoverlabel": {
           "align": "left"
          },
          "hovermode": "closest",
          "mapbox": {
           "style": "light"
          },
          "paper_bgcolor": "white",
          "plot_bgcolor": "#E5ECF6",
          "polar": {
           "angularaxis": {
            "gridcolor": "white",
            "linecolor": "white",
            "ticks": ""
           },
           "bgcolor": "#E5ECF6",
           "radialaxis": {
            "gridcolor": "white",
            "linecolor": "white",
            "ticks": ""
           }
          },
          "scene": {
           "xaxis": {
            "backgroundcolor": "#E5ECF6",
            "gridcolor": "white",
            "gridwidth": 2,
            "linecolor": "white",
            "showbackground": true,
            "ticks": "",
            "zerolinecolor": "white"
           },
           "yaxis": {
            "backgroundcolor": "#E5ECF6",
            "gridcolor": "white",
            "gridwidth": 2,
            "linecolor": "white",
            "showbackground": true,
            "ticks": "",
            "zerolinecolor": "white"
           },
           "zaxis": {
            "backgroundcolor": "#E5ECF6",
            "gridcolor": "white",
            "gridwidth": 2,
            "linecolor": "white",
            "showbackground": true,
            "ticks": "",
            "zerolinecolor": "white"
           }
          },
          "shapedefaults": {
           "line": {
            "color": "#2a3f5f"
           }
          },
          "ternary": {
           "aaxis": {
            "gridcolor": "white",
            "linecolor": "white",
            "ticks": ""
           },
           "baxis": {
            "gridcolor": "white",
            "linecolor": "white",
            "ticks": ""
           },
           "bgcolor": "#E5ECF6",
           "caxis": {
            "gridcolor": "white",
            "linecolor": "white",
            "ticks": ""
           }
          },
          "title": {
           "x": 0.05
          },
          "xaxis": {
           "automargin": true,
           "gridcolor": "white",
           "linecolor": "white",
           "ticks": "",
           "title": {
            "standoff": 15
           },
           "zerolinecolor": "white",
           "zerolinewidth": 2
          },
          "yaxis": {
           "automargin": true,
           "gridcolor": "white",
           "linecolor": "white",
           "ticks": "",
           "title": {
            "standoff": 15
           },
           "zerolinecolor": "white",
           "zerolinewidth": 2
          }
         }
        },
        "title": {
         "text": "Median Income by County 2020"
        },
        "xaxis": {
         "anchor": "y",
         "domain": [
          0,
          1
         ],
         "title": {
          "text": "County"
         }
        },
        "yaxis": {
         "anchor": "x",
         "domain": [
          0,
          1
         ],
         "title": {
          "text": "estinc2020"
         }
        }
       }
      },
      "text/html": [
       "<div>                            <div id=\"deccd06e-8f41-4726-a895-2c57310bc8b4\" class=\"plotly-graph-div\" style=\"height:525px; width:100%;\"></div>            <script type=\"text/javascript\">                require([\"plotly\"], function(Plotly) {                    window.PLOTLYENV=window.PLOTLYENV || {};                                    if (document.getElementById(\"deccd06e-8f41-4726-a895-2c57310bc8b4\")) {                    Plotly.newPlot(                        \"deccd06e-8f41-4726-a895-2c57310bc8b4\",                        [{\"alignmentgroup\":\"True\",\"hovertemplate\":\"County=%{x}<br>estinc2020=%{y}<extra></extra>\",\"legendgroup\":\"\",\"marker\":{\"color\":\"#636efa\",\"pattern\":{\"shape\":\"\"}},\"name\":\"\",\"offsetgroup\":\"\",\"orientation\":\"v\",\"showlegend\":false,\"textposition\":\"auto\",\"x\":[\"Franklin\",\"Grant\",\"King\",\"Mason\",\"Pierce\",\"Snohomish\",\"Spokane\",\"Yakima\"],\"xaxis\":\"x\",\"y\":[73656,54753,102620,63785,80236,93589,60827,56353],\"yaxis\":\"y\",\"type\":\"bar\"}],                        {\"template\":{\"data\":{\"histogram2dcontour\":[{\"type\":\"histogram2dcontour\",\"colorbar\":{\"outlinewidth\":0,\"ticks\":\"\"},\"colorscale\":[[0.0,\"#0d0887\"],[0.1111111111111111,\"#46039f\"],[0.2222222222222222,\"#7201a8\"],[0.3333333333333333,\"#9c179e\"],[0.4444444444444444,\"#bd3786\"],[0.5555555555555556,\"#d8576b\"],[0.6666666666666666,\"#ed7953\"],[0.7777777777777778,\"#fb9f3a\"],[0.8888888888888888,\"#fdca26\"],[1.0,\"#f0f921\"]]}],\"choropleth\":[{\"type\":\"choropleth\",\"colorbar\":{\"outlinewidth\":0,\"ticks\":\"\"}}],\"histogram2d\":[{\"type\":\"histogram2d\",\"colorbar\":{\"outlinewidth\":0,\"ticks\":\"\"},\"colorscale\":[[0.0,\"#0d0887\"],[0.1111111111111111,\"#46039f\"],[0.2222222222222222,\"#7201a8\"],[0.3333333333333333,\"#9c179e\"],[0.4444444444444444,\"#bd3786\"],[0.5555555555555556,\"#d8576b\"],[0.6666666666666666,\"#ed7953\"],[0.7777777777777778,\"#fb9f3a\"],[0.8888888888888888,\"#fdca26\"],[1.0,\"#f0f921\"]]}],\"heatmap\":[{\"type\":\"heatmap\",\"colorbar\":{\"outlinewidth\":0,\"ticks\":\"\"},\"colorscale\":[[0.0,\"#0d0887\"],[0.1111111111111111,\"#46039f\"],[0.2222222222222222,\"#7201a8\"],[0.3333333333333333,\"#9c179e\"],[0.4444444444444444,\"#bd3786\"],[0.5555555555555556,\"#d8576b\"],[0.6666666666666666,\"#ed7953\"],[0.7777777777777778,\"#fb9f3a\"],[0.8888888888888888,\"#fdca26\"],[1.0,\"#f0f921\"]]}],\"heatmapgl\":[{\"type\":\"heatmapgl\",\"colorbar\":{\"outlinewidth\":0,\"ticks\":\"\"},\"colorscale\":[[0.0,\"#0d0887\"],[0.1111111111111111,\"#46039f\"],[0.2222222222222222,\"#7201a8\"],[0.3333333333333333,\"#9c179e\"],[0.4444444444444444,\"#bd3786\"],[0.5555555555555556,\"#d8576b\"],[0.6666666666666666,\"#ed7953\"],[0.7777777777777778,\"#fb9f3a\"],[0.8888888888888888,\"#fdca26\"],[1.0,\"#f0f921\"]]}],\"contourcarpet\":[{\"type\":\"contourcarpet\",\"colorbar\":{\"outlinewidth\":0,\"ticks\":\"\"}}],\"contour\":[{\"type\":\"contour\",\"colorbar\":{\"outlinewidth\":0,\"ticks\":\"\"},\"colorscale\":[[0.0,\"#0d0887\"],[0.1111111111111111,\"#46039f\"],[0.2222222222222222,\"#7201a8\"],[0.3333333333333333,\"#9c179e\"],[0.4444444444444444,\"#bd3786\"],[0.5555555555555556,\"#d8576b\"],[0.6666666666666666,\"#ed7953\"],[0.7777777777777778,\"#fb9f3a\"],[0.8888888888888888,\"#fdca26\"],[1.0,\"#f0f921\"]]}],\"surface\":[{\"type\":\"surface\",\"colorbar\":{\"outlinewidth\":0,\"ticks\":\"\"},\"colorscale\":[[0.0,\"#0d0887\"],[0.1111111111111111,\"#46039f\"],[0.2222222222222222,\"#7201a8\"],[0.3333333333333333,\"#9c179e\"],[0.4444444444444444,\"#bd3786\"],[0.5555555555555556,\"#d8576b\"],[0.6666666666666666,\"#ed7953\"],[0.7777777777777778,\"#fb9f3a\"],[0.8888888888888888,\"#fdca26\"],[1.0,\"#f0f921\"]]}],\"mesh3d\":[{\"type\":\"mesh3d\",\"colorbar\":{\"outlinewidth\":0,\"ticks\":\"\"}}],\"scatter\":[{\"fillpattern\":{\"fillmode\":\"overlay\",\"size\":10,\"solidity\":0.2},\"type\":\"scatter\"}],\"parcoords\":[{\"type\":\"parcoords\",\"line\":{\"colorbar\":{\"outlinewidth\":0,\"ticks\":\"\"}}}],\"scatterpolargl\":[{\"type\":\"scatterpolargl\",\"marker\":{\"colorbar\":{\"outlinewidth\":0,\"ticks\":\"\"}}}],\"bar\":[{\"error_x\":{\"color\":\"#2a3f5f\"},\"error_y\":{\"color\":\"#2a3f5f\"},\"marker\":{\"line\":{\"color\":\"#E5ECF6\",\"width\":0.5},\"pattern\":{\"fillmode\":\"overlay\",\"size\":10,\"solidity\":0.2}},\"type\":\"bar\"}],\"scattergeo\":[{\"type\":\"scattergeo\",\"marker\":{\"colorbar\":{\"outlinewidth\":0,\"ticks\":\"\"}}}],\"scatterpolar\":[{\"type\":\"scatterpolar\",\"marker\":{\"colorbar\":{\"outlinewidth\":0,\"ticks\":\"\"}}}],\"histogram\":[{\"marker\":{\"pattern\":{\"fillmode\":\"overlay\",\"size\":10,\"solidity\":0.2}},\"type\":\"histogram\"}],\"scattergl\":[{\"type\":\"scattergl\",\"marker\":{\"colorbar\":{\"outlinewidth\":0,\"ticks\":\"\"}}}],\"scatter3d\":[{\"type\":\"scatter3d\",\"line\":{\"colorbar\":{\"outlinewidth\":0,\"ticks\":\"\"}},\"marker\":{\"colorbar\":{\"outlinewidth\":0,\"ticks\":\"\"}}}],\"scattermapbox\":[{\"type\":\"scattermapbox\",\"marker\":{\"colorbar\":{\"outlinewidth\":0,\"ticks\":\"\"}}}],\"scatterternary\":[{\"type\":\"scatterternary\",\"marker\":{\"colorbar\":{\"outlinewidth\":0,\"ticks\":\"\"}}}],\"scattercarpet\":[{\"type\":\"scattercarpet\",\"marker\":{\"colorbar\":{\"outlinewidth\":0,\"ticks\":\"\"}}}],\"carpet\":[{\"aaxis\":{\"endlinecolor\":\"#2a3f5f\",\"gridcolor\":\"white\",\"linecolor\":\"white\",\"minorgridcolor\":\"white\",\"startlinecolor\":\"#2a3f5f\"},\"baxis\":{\"endlinecolor\":\"#2a3f5f\",\"gridcolor\":\"white\",\"linecolor\":\"white\",\"minorgridcolor\":\"white\",\"startlinecolor\":\"#2a3f5f\"},\"type\":\"carpet\"}],\"table\":[{\"cells\":{\"fill\":{\"color\":\"#EBF0F8\"},\"line\":{\"color\":\"white\"}},\"header\":{\"fill\":{\"color\":\"#C8D4E3\"},\"line\":{\"color\":\"white\"}},\"type\":\"table\"}],\"barpolar\":[{\"marker\":{\"line\":{\"color\":\"#E5ECF6\",\"width\":0.5},\"pattern\":{\"fillmode\":\"overlay\",\"size\":10,\"solidity\":0.2}},\"type\":\"barpolar\"}],\"pie\":[{\"automargin\":true,\"type\":\"pie\"}]},\"layout\":{\"autotypenumbers\":\"strict\",\"colorway\":[\"#636efa\",\"#EF553B\",\"#00cc96\",\"#ab63fa\",\"#FFA15A\",\"#19d3f3\",\"#FF6692\",\"#B6E880\",\"#FF97FF\",\"#FECB52\"],\"font\":{\"color\":\"#2a3f5f\"},\"hovermode\":\"closest\",\"hoverlabel\":{\"align\":\"left\"},\"paper_bgcolor\":\"white\",\"plot_bgcolor\":\"#E5ECF6\",\"polar\":{\"bgcolor\":\"#E5ECF6\",\"angularaxis\":{\"gridcolor\":\"white\",\"linecolor\":\"white\",\"ticks\":\"\"},\"radialaxis\":{\"gridcolor\":\"white\",\"linecolor\":\"white\",\"ticks\":\"\"}},\"ternary\":{\"bgcolor\":\"#E5ECF6\",\"aaxis\":{\"gridcolor\":\"white\",\"linecolor\":\"white\",\"ticks\":\"\"},\"baxis\":{\"gridcolor\":\"white\",\"linecolor\":\"white\",\"ticks\":\"\"},\"caxis\":{\"gridcolor\":\"white\",\"linecolor\":\"white\",\"ticks\":\"\"}},\"coloraxis\":{\"colorbar\":{\"outlinewidth\":0,\"ticks\":\"\"}},\"colorscale\":{\"sequential\":[[0.0,\"#0d0887\"],[0.1111111111111111,\"#46039f\"],[0.2222222222222222,\"#7201a8\"],[0.3333333333333333,\"#9c179e\"],[0.4444444444444444,\"#bd3786\"],[0.5555555555555556,\"#d8576b\"],[0.6666666666666666,\"#ed7953\"],[0.7777777777777778,\"#fb9f3a\"],[0.8888888888888888,\"#fdca26\"],[1.0,\"#f0f921\"]],\"sequentialminus\":[[0.0,\"#0d0887\"],[0.1111111111111111,\"#46039f\"],[0.2222222222222222,\"#7201a8\"],[0.3333333333333333,\"#9c179e\"],[0.4444444444444444,\"#bd3786\"],[0.5555555555555556,\"#d8576b\"],[0.6666666666666666,\"#ed7953\"],[0.7777777777777778,\"#fb9f3a\"],[0.8888888888888888,\"#fdca26\"],[1.0,\"#f0f921\"]],\"diverging\":[[0,\"#8e0152\"],[0.1,\"#c51b7d\"],[0.2,\"#de77ae\"],[0.3,\"#f1b6da\"],[0.4,\"#fde0ef\"],[0.5,\"#f7f7f7\"],[0.6,\"#e6f5d0\"],[0.7,\"#b8e186\"],[0.8,\"#7fbc41\"],[0.9,\"#4d9221\"],[1,\"#276419\"]]},\"xaxis\":{\"gridcolor\":\"white\",\"linecolor\":\"white\",\"ticks\":\"\",\"title\":{\"standoff\":15},\"zerolinecolor\":\"white\",\"automargin\":true,\"zerolinewidth\":2},\"yaxis\":{\"gridcolor\":\"white\",\"linecolor\":\"white\",\"ticks\":\"\",\"title\":{\"standoff\":15},\"zerolinecolor\":\"white\",\"automargin\":true,\"zerolinewidth\":2},\"scene\":{\"xaxis\":{\"backgroundcolor\":\"#E5ECF6\",\"gridcolor\":\"white\",\"linecolor\":\"white\",\"showbackground\":true,\"ticks\":\"\",\"zerolinecolor\":\"white\",\"gridwidth\":2},\"yaxis\":{\"backgroundcolor\":\"#E5ECF6\",\"gridcolor\":\"white\",\"linecolor\":\"white\",\"showbackground\":true,\"ticks\":\"\",\"zerolinecolor\":\"white\",\"gridwidth\":2},\"zaxis\":{\"backgroundcolor\":\"#E5ECF6\",\"gridcolor\":\"white\",\"linecolor\":\"white\",\"showbackground\":true,\"ticks\":\"\",\"zerolinecolor\":\"white\",\"gridwidth\":2}},\"shapedefaults\":{\"line\":{\"color\":\"#2a3f5f\"}},\"annotationdefaults\":{\"arrowcolor\":\"#2a3f5f\",\"arrowhead\":0,\"arrowwidth\":1},\"geo\":{\"bgcolor\":\"white\",\"landcolor\":\"#E5ECF6\",\"subunitcolor\":\"white\",\"showland\":true,\"showlakes\":true,\"lakecolor\":\"white\"},\"title\":{\"x\":0.05},\"mapbox\":{\"style\":\"light\"}}},\"xaxis\":{\"anchor\":\"y\",\"domain\":[0.0,1.0],\"title\":{\"text\":\"County\"}},\"yaxis\":{\"anchor\":\"x\",\"domain\":[0.0,1.0],\"title\":{\"text\":\"estinc2020\"}},\"legend\":{\"tracegroupgap\":0},\"title\":{\"text\":\"Median Income by County 2020\"},\"barmode\":\"relative\"},                        {\"responsive\": true}                    ).then(function(){\n",
       "                            \n",
       "var gd = document.getElementById('deccd06e-8f41-4726-a895-2c57310bc8b4');\n",
       "var x = new MutationObserver(function (mutations, observer) {{\n",
       "        var display = window.getComputedStyle(gd).display;\n",
       "        if (!display || display === 'none') {{\n",
       "            console.log([gd, 'removed!']);\n",
       "            Plotly.purge(gd);\n",
       "            observer.disconnect();\n",
       "        }}\n",
       "}});\n",
       "\n",
       "// Listen for the removal of the full notebook cells\n",
       "var notebookContainer = gd.closest('#notebook-container');\n",
       "if (notebookContainer) {{\n",
       "    x.observe(notebookContainer, {childList: true});\n",
       "}}\n",
       "\n",
       "// Listen for the clearing of the current output cell\n",
       "var outputEl = gd.closest('.output');\n",
       "if (outputEl) {{\n",
       "    x.observe(outputEl, {childList: true});\n",
       "}}\n",
       "\n",
       "                        })                };                });            </script>        </div>"
      ]
     },
     "metadata": {},
     "output_type": "display_data"
    }
   ],
   "source": [
    "fig = px.bar(income, x=\"County\", y=\"estinc2020\", title=\"Median Income by County 2020\")\n",
    "fig.show()"
   ]
  },
  {
   "cell_type": "code",
   "execution_count": 59,
   "id": "b974de91-1b8b-48c0-8419-59ef6cf06ea7",
   "metadata": {
    "tags": []
   },
   "outputs": [],
   "source": [
    "targetzips = ['99301', '98444', '98387', '98837', '98404', '98391', '98951',\n",
    "       '98003', '98901', '98223', '98258', '99206', '98584', '98022', '0',\n",
    "       '98902', '98168']\n",
    "\n",
    "newdata = data.loc[data['dzip'].isin(targetzips)]"
   ]
  },
  {
   "cell_type": "code",
   "execution_count": 60,
   "id": "e405d750-197f-4a5b-9cca-75e86de0bc0f",
   "metadata": {
    "tags": []
   },
   "outputs": [
    {
     "data": {
      "text/plain": [
       "4031"
      ]
     },
     "execution_count": 60,
     "metadata": {},
     "output_type": "execute_result"
    }
   ],
   "source": [
    "len(data)"
   ]
  },
  {
   "cell_type": "code",
   "execution_count": 61,
   "id": "2a972bec-9fe7-41e7-b7ae-ec93adf97c84",
   "metadata": {
    "tags": []
   },
   "outputs": [
    {
     "data": {
      "text/html": [
       "<div>\n",
       "<style scoped>\n",
       "    .dataframe tbody tr th:only-of-type {\n",
       "        vertical-align: middle;\n",
       "    }\n",
       "\n",
       "    .dataframe tbody tr th {\n",
       "        vertical-align: top;\n",
       "    }\n",
       "\n",
       "    .dataframe thead th {\n",
       "        text-align: right;\n",
       "    }\n",
       "</style>\n",
       "<table border=\"1\" class=\"dataframe\">\n",
       "  <thead>\n",
       "    <tr style=\"text-align: right;\">\n",
       "      <th></th>\n",
       "      <th>index</th>\n",
       "      <th>Unnamed: 0</th>\n",
       "      <th>year</th>\n",
       "      <th>case</th>\n",
       "      <th>par</th>\n",
       "      <th>repjur</th>\n",
       "      <th>crash_dt</th>\n",
       "      <th>crash_tm</th>\n",
       "      <th>accday</th>\n",
       "      <th>accmon</th>\n",
       "      <th>...</th>\n",
       "      <th>crf3</th>\n",
       "      <th>CoRoadName</th>\n",
       "      <th>CoMP</th>\n",
       "      <th>IntCoRoadName</th>\n",
       "      <th>IntCoMP</th>\n",
       "      <th>crashzip</th>\n",
       "      <th>dcity</th>\n",
       "      <th>crashcity</th>\n",
       "      <th>d_res</th>\n",
       "      <th>d_cty</th>\n",
       "    </tr>\n",
       "  </thead>\n",
       "  <tbody>\n",
       "    <tr>\n",
       "      <th>13</th>\n",
       "      <td>13</td>\n",
       "      <td>13</td>\n",
       "      <td>2017</td>\n",
       "      <td>10</td>\n",
       "      <td>E632128</td>\n",
       "      <td>8.0</td>\n",
       "      <td>2017-01-08</td>\n",
       "      <td>19:05</td>\n",
       "      <td>8</td>\n",
       "      <td>1</td>\n",
       "      <td>...</td>\n",
       "      <td>NaN</td>\n",
       "      <td>NaN</td>\n",
       "      <td>NaN</td>\n",
       "      <td>NaN</td>\n",
       "      <td>NaN</td>\n",
       "      <td>98546</td>\n",
       "      <td>Shelton</td>\n",
       "      <td>Grapeview</td>\n",
       "      <td>visitor</td>\n",
       "      <td>visitor</td>\n",
       "    </tr>\n",
       "    <tr>\n",
       "      <th>24</th>\n",
       "      <td>24</td>\n",
       "      <td>24</td>\n",
       "      <td>2017</td>\n",
       "      <td>18</td>\n",
       "      <td>E631960</td>\n",
       "      <td>2.0</td>\n",
       "      <td>2017-01-13</td>\n",
       "      <td>18:40</td>\n",
       "      <td>13</td>\n",
       "      <td>1</td>\n",
       "      <td>...</td>\n",
       "      <td>NaN</td>\n",
       "      <td>NaN</td>\n",
       "      <td>NaN</td>\n",
       "      <td>NaN</td>\n",
       "      <td>NaN</td>\n",
       "      <td>98230</td>\n",
       "      <td>00</td>\n",
       "      <td>Blaine</td>\n",
       "      <td>visitor</td>\n",
       "      <td>visitor</td>\n",
       "    </tr>\n",
       "    <tr>\n",
       "      <th>25</th>\n",
       "      <td>25</td>\n",
       "      <td>25</td>\n",
       "      <td>2017</td>\n",
       "      <td>18</td>\n",
       "      <td>E631960</td>\n",
       "      <td>2.0</td>\n",
       "      <td>2017-01-13</td>\n",
       "      <td>18:40</td>\n",
       "      <td>13</td>\n",
       "      <td>1</td>\n",
       "      <td>...</td>\n",
       "      <td>NaN</td>\n",
       "      <td>NaN</td>\n",
       "      <td>NaN</td>\n",
       "      <td>NaN</td>\n",
       "      <td>NaN</td>\n",
       "      <td>98230</td>\n",
       "      <td>00</td>\n",
       "      <td>Blaine</td>\n",
       "      <td>visitor</td>\n",
       "      <td>visitor</td>\n",
       "    </tr>\n",
       "    <tr>\n",
       "      <th>40</th>\n",
       "      <td>40</td>\n",
       "      <td>40</td>\n",
       "      <td>2017</td>\n",
       "      <td>26</td>\n",
       "      <td>E635844</td>\n",
       "      <td>1.0</td>\n",
       "      <td>2017-01-23</td>\n",
       "      <td>17:19</td>\n",
       "      <td>23</td>\n",
       "      <td>1</td>\n",
       "      <td>...</td>\n",
       "      <td>NaN</td>\n",
       "      <td>NaN</td>\n",
       "      <td>NaN</td>\n",
       "      <td>NaN</td>\n",
       "      <td>NaN</td>\n",
       "      <td>99326</td>\n",
       "      <td>Moses lake</td>\n",
       "      <td>Connell</td>\n",
       "      <td>visitor</td>\n",
       "      <td>visitor</td>\n",
       "    </tr>\n",
       "    <tr>\n",
       "      <th>41</th>\n",
       "      <td>41</td>\n",
       "      <td>41</td>\n",
       "      <td>2017</td>\n",
       "      <td>26</td>\n",
       "      <td>E635844</td>\n",
       "      <td>1.0</td>\n",
       "      <td>2017-01-23</td>\n",
       "      <td>17:19</td>\n",
       "      <td>23</td>\n",
       "      <td>1</td>\n",
       "      <td>...</td>\n",
       "      <td>NaN</td>\n",
       "      <td>NaN</td>\n",
       "      <td>NaN</td>\n",
       "      <td>NaN</td>\n",
       "      <td>NaN</td>\n",
       "      <td>99326</td>\n",
       "      <td>Moses lake</td>\n",
       "      <td>Connell</td>\n",
       "      <td>visitor</td>\n",
       "      <td>visitor</td>\n",
       "    </tr>\n",
       "    <tr>\n",
       "      <th>...</th>\n",
       "      <td>...</td>\n",
       "      <td>...</td>\n",
       "      <td>...</td>\n",
       "      <td>...</td>\n",
       "      <td>...</td>\n",
       "      <td>...</td>\n",
       "      <td>...</td>\n",
       "      <td>...</td>\n",
       "      <td>...</td>\n",
       "      <td>...</td>\n",
       "      <td>...</td>\n",
       "      <td>...</td>\n",
       "      <td>...</td>\n",
       "      <td>...</td>\n",
       "      <td>...</td>\n",
       "      <td>...</td>\n",
       "      <td>...</td>\n",
       "      <td>...</td>\n",
       "      <td>...</td>\n",
       "      <td>...</td>\n",
       "      <td>...</td>\n",
       "    </tr>\n",
       "    <tr>\n",
       "      <th>4000</th>\n",
       "      <td>4098</td>\n",
       "      <td>4098</td>\n",
       "      <td>2021</td>\n",
       "      <td>622</td>\n",
       "      <td>EB35062</td>\n",
       "      <td>25.0</td>\n",
       "      <td>2021-05-29</td>\n",
       "      <td>20:32</td>\n",
       "      <td>29</td>\n",
       "      <td>5</td>\n",
       "      <td>...</td>\n",
       "      <td>NaN</td>\n",
       "      <td>244 AVE SE</td>\n",
       "      <td>0.294</td>\n",
       "      <td>NaN</td>\n",
       "      <td>NaN</td>\n",
       "      <td>98022</td>\n",
       "      <td>Enumclaw</td>\n",
       "      <td>Enumclaw</td>\n",
       "      <td>resident</td>\n",
       "      <td>resident</td>\n",
       "    </tr>\n",
       "    <tr>\n",
       "      <th>4018</th>\n",
       "      <td>4117</td>\n",
       "      <td>4117</td>\n",
       "      <td>2021</td>\n",
       "      <td>631</td>\n",
       "      <td>EB98551</td>\n",
       "      <td>1.0</td>\n",
       "      <td>2021-11-24</td>\n",
       "      <td>6:15</td>\n",
       "      <td>24</td>\n",
       "      <td>11</td>\n",
       "      <td>...</td>\n",
       "      <td>NaN</td>\n",
       "      <td>NaN</td>\n",
       "      <td>NaN</td>\n",
       "      <td>NaN</td>\n",
       "      <td>NaN</td>\n",
       "      <td>98932</td>\n",
       "      <td>Wapato</td>\n",
       "      <td>Granger</td>\n",
       "      <td>visitor</td>\n",
       "      <td>visitor</td>\n",
       "    </tr>\n",
       "    <tr>\n",
       "      <th>4020</th>\n",
       "      <td>4119</td>\n",
       "      <td>4119</td>\n",
       "      <td>2021</td>\n",
       "      <td>631</td>\n",
       "      <td>EB98551</td>\n",
       "      <td>1.0</td>\n",
       "      <td>2021-11-24</td>\n",
       "      <td>6:15</td>\n",
       "      <td>24</td>\n",
       "      <td>11</td>\n",
       "      <td>...</td>\n",
       "      <td>NaN</td>\n",
       "      <td>NaN</td>\n",
       "      <td>NaN</td>\n",
       "      <td>NaN</td>\n",
       "      <td>NaN</td>\n",
       "      <td>98932</td>\n",
       "      <td>Yakima</td>\n",
       "      <td>Granger</td>\n",
       "      <td>visitor</td>\n",
       "      <td>visitor</td>\n",
       "    </tr>\n",
       "    <tr>\n",
       "      <th>4022</th>\n",
       "      <td>4121</td>\n",
       "      <td>4121</td>\n",
       "      <td>2021</td>\n",
       "      <td>631</td>\n",
       "      <td>EB98551</td>\n",
       "      <td>1.0</td>\n",
       "      <td>2021-11-24</td>\n",
       "      <td>6:15</td>\n",
       "      <td>24</td>\n",
       "      <td>11</td>\n",
       "      <td>...</td>\n",
       "      <td>NaN</td>\n",
       "      <td>NaN</td>\n",
       "      <td>NaN</td>\n",
       "      <td>NaN</td>\n",
       "      <td>NaN</td>\n",
       "      <td>98932</td>\n",
       "      <td>Terrace heights</td>\n",
       "      <td>Granger</td>\n",
       "      <td>visitor</td>\n",
       "      <td>visitor</td>\n",
       "    </tr>\n",
       "    <tr>\n",
       "      <th>4024</th>\n",
       "      <td>4124</td>\n",
       "      <td>4124</td>\n",
       "      <td>2021</td>\n",
       "      <td>634</td>\n",
       "      <td>EB30534</td>\n",
       "      <td>303.0</td>\n",
       "      <td>2021-05-15</td>\n",
       "      <td>21:04</td>\n",
       "      <td>15</td>\n",
       "      <td>5</td>\n",
       "      <td>...</td>\n",
       "      <td>NaN</td>\n",
       "      <td>NaN</td>\n",
       "      <td>NaN</td>\n",
       "      <td>NaN</td>\n",
       "      <td>NaN</td>\n",
       "      <td>98466</td>\n",
       "      <td>Tacoma</td>\n",
       "      <td>Fircrest</td>\n",
       "      <td>visitor</td>\n",
       "      <td>visitor</td>\n",
       "    </tr>\n",
       "  </tbody>\n",
       "</table>\n",
       "<p>548 rows × 312 columns</p>\n",
       "</div>"
      ],
      "text/plain": [
       "      index  Unnamed: 0  year  case      par  repjur   crash_dt crash_tm  \\\n",
       "13       13          13  2017    10  E632128     8.0 2017-01-08    19:05   \n",
       "24       24          24  2017    18  E631960     2.0 2017-01-13    18:40   \n",
       "25       25          25  2017    18  E631960     2.0 2017-01-13    18:40   \n",
       "40       40          40  2017    26  E635844     1.0 2017-01-23    17:19   \n",
       "41       41          41  2017    26  E635844     1.0 2017-01-23    17:19   \n",
       "...     ...         ...   ...   ...      ...     ...        ...      ...   \n",
       "4000   4098        4098  2021   622  EB35062    25.0 2021-05-29    20:32   \n",
       "4018   4117        4117  2021   631  EB98551     1.0 2021-11-24     6:15   \n",
       "4020   4119        4119  2021   631  EB98551     1.0 2021-11-24     6:15   \n",
       "4022   4121        4121  2021   631  EB98551     1.0 2021-11-24     6:15   \n",
       "4024   4124        4124  2021   634  EB30534   303.0 2021-05-15    21:04   \n",
       "\n",
       "      accday  accmon  ...  crf3  CoRoadName   CoMP  IntCoRoadName  IntCoMP  \\\n",
       "13         8       1  ...   NaN         NaN    NaN            NaN      NaN   \n",
       "24        13       1  ...   NaN         NaN    NaN            NaN      NaN   \n",
       "25        13       1  ...   NaN         NaN    NaN            NaN      NaN   \n",
       "40        23       1  ...   NaN         NaN    NaN            NaN      NaN   \n",
       "41        23       1  ...   NaN         NaN    NaN            NaN      NaN   \n",
       "...      ...     ...  ...   ...         ...    ...            ...      ...   \n",
       "4000      29       5  ...   NaN  244 AVE SE  0.294            NaN      NaN   \n",
       "4018      24      11  ...   NaN         NaN    NaN            NaN      NaN   \n",
       "4020      24      11  ...   NaN         NaN    NaN            NaN      NaN   \n",
       "4022      24      11  ...   NaN         NaN    NaN            NaN      NaN   \n",
       "4024      15       5  ...   NaN         NaN    NaN            NaN      NaN   \n",
       "\n",
       "      crashzip            dcity  crashcity     d_res     d_cty  \n",
       "13       98546          Shelton  Grapeview   visitor   visitor  \n",
       "24       98230               00     Blaine   visitor   visitor  \n",
       "25       98230               00     Blaine   visitor   visitor  \n",
       "40       99326       Moses lake    Connell   visitor   visitor  \n",
       "41       99326       Moses lake    Connell   visitor   visitor  \n",
       "...        ...              ...        ...       ...       ...  \n",
       "4000     98022         Enumclaw   Enumclaw  resident  resident  \n",
       "4018     98932           Wapato    Granger   visitor   visitor  \n",
       "4020     98932           Yakima    Granger   visitor   visitor  \n",
       "4022     98932  Terrace heights    Granger   visitor   visitor  \n",
       "4024     98466           Tacoma   Fircrest   visitor   visitor  \n",
       "\n",
       "[548 rows x 312 columns]"
      ]
     },
     "execution_count": 61,
     "metadata": {},
     "output_type": "execute_result"
    }
   ],
   "source": [
    "newdata"
   ]
  },
  {
   "cell_type": "markdown",
   "id": "c6231f35-bdb9-4fe1-8c4f-dee7677389fb",
   "metadata": {},
   "source": [
    "## 0.02 (17) of zip codes make up 13.5% of the fatal crashes... why?"
   ]
  },
  {
   "cell_type": "code",
   "execution_count": 62,
   "id": "01425df3-57a3-4f1d-89a1-f7fc7c0d4ca1",
   "metadata": {
    "tags": []
   },
   "outputs": [
    {
     "data": {
      "text/plain": [
       "count    4031.000000\n",
       "mean       43.337881\n",
       "std        23.594138\n",
       "min        14.000000\n",
       "25%        27.000000\n",
       "50%        41.000000\n",
       "75%        57.000000\n",
       "max       999.000000\n",
       "Name: age, dtype: float64"
      ]
     },
     "execution_count": 62,
     "metadata": {},
     "output_type": "execute_result"
    }
   ],
   "source": [
    "data['age'].describe()"
   ]
  },
  {
   "cell_type": "code",
   "execution_count": 63,
   "id": "ea102914-e321-4fda-825f-1a7d1394cbb4",
   "metadata": {
    "tags": []
   },
   "outputs": [
    {
     "data": {
      "text/plain": [
       "count    548.000000\n",
       "mean      41.912409\n",
       "std       17.539081\n",
       "min       15.000000\n",
       "25%       27.750000\n",
       "50%       38.000000\n",
       "75%       55.000000\n",
       "max       89.000000\n",
       "Name: age, dtype: float64"
      ]
     },
     "execution_count": 63,
     "metadata": {},
     "output_type": "execute_result"
    }
   ],
   "source": [
    "newdata['age'].describe()"
   ]
  },
  {
   "cell_type": "code",
   "execution_count": 64,
   "id": "b2490f39-c468-4400-8bff-35dbbce9be63",
   "metadata": {
    "tags": []
   },
   "outputs": [
    {
     "data": {
      "text/html": [
       "<div>\n",
       "<style scoped>\n",
       "    .dataframe tbody tr th:only-of-type {\n",
       "        vertical-align: middle;\n",
       "    }\n",
       "\n",
       "    .dataframe tbody tr th {\n",
       "        vertical-align: top;\n",
       "    }\n",
       "\n",
       "    .dataframe thead th {\n",
       "        text-align: right;\n",
       "    }\n",
       "</style>\n",
       "<table border=\"1\" class=\"dataframe\">\n",
       "  <thead>\n",
       "    <tr style=\"text-align: right;\">\n",
       "      <th></th>\n",
       "      <th>Unnamed: 0</th>\n",
       "      <th>SUMLEV</th>\n",
       "      <th>STATE</th>\n",
       "      <th>COUNTY</th>\n",
       "      <th>STNAME</th>\n",
       "      <th>CTYNAME</th>\n",
       "      <th>YEAR</th>\n",
       "      <th>AGEGRP</th>\n",
       "      <th>TOT_POP</th>\n",
       "      <th>TOT_MALE</th>\n",
       "      <th>TOT_FEMALE</th>\n",
       "      <th>totalWA</th>\n",
       "      <th>totalBA</th>\n",
       "      <th>totalIA</th>\n",
       "      <th>totalAA</th>\n",
       "      <th>totalNA</th>\n",
       "      <th>totalH</th>\n",
       "      <th>totalTOM</th>\n",
       "    </tr>\n",
       "  </thead>\n",
       "  <tbody>\n",
       "    <tr>\n",
       "      <th>133</th>\n",
       "      <td>2185</td>\n",
       "      <td>50</td>\n",
       "      <td>53</td>\n",
       "      <td>77</td>\n",
       "      <td>Washington</td>\n",
       "      <td>Yakima</td>\n",
       "      <td>2</td>\n",
       "      <td>0</td>\n",
       "      <td>256533</td>\n",
       "      <td>128596</td>\n",
       "      <td>127937</td>\n",
       "      <td>106301</td>\n",
       "      <td>2197</td>\n",
       "      <td>9223</td>\n",
       "      <td>2976</td>\n",
       "      <td>211</td>\n",
       "      <td>131130</td>\n",
       "      <td>4495</td>\n",
       "    </tr>\n",
       "    <tr>\n",
       "      <th>134</th>\n",
       "      <td>2186</td>\n",
       "      <td>50</td>\n",
       "      <td>53</td>\n",
       "      <td>77</td>\n",
       "      <td>Washington</td>\n",
       "      <td>Yakima</td>\n",
       "      <td>2</td>\n",
       "      <td>1</td>\n",
       "      <td>19580</td>\n",
       "      <td>9864</td>\n",
       "      <td>9716</td>\n",
       "      <td>4866</td>\n",
       "      <td>133</td>\n",
       "      <td>617</td>\n",
       "      <td>143</td>\n",
       "      <td>15</td>\n",
       "      <td>13254</td>\n",
       "      <td>552</td>\n",
       "    </tr>\n",
       "    <tr>\n",
       "      <th>135</th>\n",
       "      <td>2187</td>\n",
       "      <td>50</td>\n",
       "      <td>53</td>\n",
       "      <td>77</td>\n",
       "      <td>Washington</td>\n",
       "      <td>Yakima</td>\n",
       "      <td>2</td>\n",
       "      <td>2</td>\n",
       "      <td>21389</td>\n",
       "      <td>10941</td>\n",
       "      <td>10448</td>\n",
       "      <td>5366</td>\n",
       "      <td>214</td>\n",
       "      <td>681</td>\n",
       "      <td>147</td>\n",
       "      <td>12</td>\n",
       "      <td>14479</td>\n",
       "      <td>490</td>\n",
       "    </tr>\n",
       "    <tr>\n",
       "      <th>136</th>\n",
       "      <td>2188</td>\n",
       "      <td>50</td>\n",
       "      <td>53</td>\n",
       "      <td>77</td>\n",
       "      <td>Washington</td>\n",
       "      <td>Yakima</td>\n",
       "      <td>2</td>\n",
       "      <td>3</td>\n",
       "      <td>22578</td>\n",
       "      <td>11613</td>\n",
       "      <td>10965</td>\n",
       "      <td>5741</td>\n",
       "      <td>174</td>\n",
       "      <td>942</td>\n",
       "      <td>138</td>\n",
       "      <td>10</td>\n",
       "      <td>15103</td>\n",
       "      <td>470</td>\n",
       "    </tr>\n",
       "    <tr>\n",
       "      <th>137</th>\n",
       "      <td>2189</td>\n",
       "      <td>50</td>\n",
       "      <td>53</td>\n",
       "      <td>77</td>\n",
       "      <td>Washington</td>\n",
       "      <td>Yakima</td>\n",
       "      <td>2</td>\n",
       "      <td>4</td>\n",
       "      <td>19795</td>\n",
       "      <td>10126</td>\n",
       "      <td>9669</td>\n",
       "      <td>5072</td>\n",
       "      <td>129</td>\n",
       "      <td>885</td>\n",
       "      <td>144</td>\n",
       "      <td>20</td>\n",
       "      <td>13087</td>\n",
       "      <td>458</td>\n",
       "    </tr>\n",
       "    <tr>\n",
       "      <th>138</th>\n",
       "      <td>2190</td>\n",
       "      <td>50</td>\n",
       "      <td>53</td>\n",
       "      <td>77</td>\n",
       "      <td>Washington</td>\n",
       "      <td>Yakima</td>\n",
       "      <td>2</td>\n",
       "      <td>5</td>\n",
       "      <td>17013</td>\n",
       "      <td>8658</td>\n",
       "      <td>8355</td>\n",
       "      <td>4705</td>\n",
       "      <td>150</td>\n",
       "      <td>685</td>\n",
       "      <td>143</td>\n",
       "      <td>14</td>\n",
       "      <td>10930</td>\n",
       "      <td>386</td>\n",
       "    </tr>\n",
       "    <tr>\n",
       "      <th>139</th>\n",
       "      <td>2191</td>\n",
       "      <td>50</td>\n",
       "      <td>53</td>\n",
       "      <td>77</td>\n",
       "      <td>Washington</td>\n",
       "      <td>Yakima</td>\n",
       "      <td>2</td>\n",
       "      <td>6</td>\n",
       "      <td>17859</td>\n",
       "      <td>8960</td>\n",
       "      <td>8899</td>\n",
       "      <td>5971</td>\n",
       "      <td>203</td>\n",
       "      <td>648</td>\n",
       "      <td>206</td>\n",
       "      <td>16</td>\n",
       "      <td>10437</td>\n",
       "      <td>378</td>\n",
       "    </tr>\n",
       "    <tr>\n",
       "      <th>140</th>\n",
       "      <td>2192</td>\n",
       "      <td>50</td>\n",
       "      <td>53</td>\n",
       "      <td>77</td>\n",
       "      <td>Washington</td>\n",
       "      <td>Yakima</td>\n",
       "      <td>2</td>\n",
       "      <td>7</td>\n",
       "      <td>16537</td>\n",
       "      <td>8364</td>\n",
       "      <td>8173</td>\n",
       "      <td>6300</td>\n",
       "      <td>205</td>\n",
       "      <td>700</td>\n",
       "      <td>231</td>\n",
       "      <td>20</td>\n",
       "      <td>8793</td>\n",
       "      <td>288</td>\n",
       "    </tr>\n",
       "    <tr>\n",
       "      <th>141</th>\n",
       "      <td>2193</td>\n",
       "      <td>50</td>\n",
       "      <td>53</td>\n",
       "      <td>77</td>\n",
       "      <td>Washington</td>\n",
       "      <td>Yakima</td>\n",
       "      <td>2</td>\n",
       "      <td>8</td>\n",
       "      <td>15759</td>\n",
       "      <td>7935</td>\n",
       "      <td>7824</td>\n",
       "      <td>6191</td>\n",
       "      <td>164</td>\n",
       "      <td>616</td>\n",
       "      <td>258</td>\n",
       "      <td>21</td>\n",
       "      <td>8266</td>\n",
       "      <td>243</td>\n",
       "    </tr>\n",
       "    <tr>\n",
       "      <th>142</th>\n",
       "      <td>2194</td>\n",
       "      <td>50</td>\n",
       "      <td>53</td>\n",
       "      <td>77</td>\n",
       "      <td>Washington</td>\n",
       "      <td>Yakima</td>\n",
       "      <td>2</td>\n",
       "      <td>9</td>\n",
       "      <td>15006</td>\n",
       "      <td>7612</td>\n",
       "      <td>7394</td>\n",
       "      <td>6190</td>\n",
       "      <td>162</td>\n",
       "      <td>500</td>\n",
       "      <td>194</td>\n",
       "      <td>10</td>\n",
       "      <td>7750</td>\n",
       "      <td>200</td>\n",
       "    </tr>\n",
       "    <tr>\n",
       "      <th>143</th>\n",
       "      <td>2195</td>\n",
       "      <td>50</td>\n",
       "      <td>53</td>\n",
       "      <td>77</td>\n",
       "      <td>Washington</td>\n",
       "      <td>Yakima</td>\n",
       "      <td>2</td>\n",
       "      <td>10</td>\n",
       "      <td>14001</td>\n",
       "      <td>7054</td>\n",
       "      <td>6947</td>\n",
       "      <td>6018</td>\n",
       "      <td>118</td>\n",
       "      <td>497</td>\n",
       "      <td>204</td>\n",
       "      <td>14</td>\n",
       "      <td>6986</td>\n",
       "      <td>164</td>\n",
       "    </tr>\n",
       "    <tr>\n",
       "      <th>144</th>\n",
       "      <td>2196</td>\n",
       "      <td>50</td>\n",
       "      <td>53</td>\n",
       "      <td>77</td>\n",
       "      <td>Washington</td>\n",
       "      <td>Yakima</td>\n",
       "      <td>2</td>\n",
       "      <td>11</td>\n",
       "      <td>13666</td>\n",
       "      <td>6934</td>\n",
       "      <td>6732</td>\n",
       "      <td>6492</td>\n",
       "      <td>108</td>\n",
       "      <td>509</td>\n",
       "      <td>219</td>\n",
       "      <td>12</td>\n",
       "      <td>6170</td>\n",
       "      <td>156</td>\n",
       "    </tr>\n",
       "    <tr>\n",
       "      <th>145</th>\n",
       "      <td>2197</td>\n",
       "      <td>50</td>\n",
       "      <td>53</td>\n",
       "      <td>77</td>\n",
       "      <td>Washington</td>\n",
       "      <td>Yakima</td>\n",
       "      <td>2</td>\n",
       "      <td>12</td>\n",
       "      <td>14257</td>\n",
       "      <td>7183</td>\n",
       "      <td>7074</td>\n",
       "      <td>8130</td>\n",
       "      <td>107</td>\n",
       "      <td>512</td>\n",
       "      <td>252</td>\n",
       "      <td>16</td>\n",
       "      <td>5066</td>\n",
       "      <td>174</td>\n",
       "    </tr>\n",
       "    <tr>\n",
       "      <th>146</th>\n",
       "      <td>2198</td>\n",
       "      <td>50</td>\n",
       "      <td>53</td>\n",
       "      <td>77</td>\n",
       "      <td>Washington</td>\n",
       "      <td>Yakima</td>\n",
       "      <td>2</td>\n",
       "      <td>13</td>\n",
       "      <td>13393</td>\n",
       "      <td>6767</td>\n",
       "      <td>6626</td>\n",
       "      <td>8649</td>\n",
       "      <td>98</td>\n",
       "      <td>493</td>\n",
       "      <td>226</td>\n",
       "      <td>13</td>\n",
       "      <td>3741</td>\n",
       "      <td>173</td>\n",
       "    </tr>\n",
       "    <tr>\n",
       "      <th>147</th>\n",
       "      <td>2199</td>\n",
       "      <td>50</td>\n",
       "      <td>53</td>\n",
       "      <td>77</td>\n",
       "      <td>Washington</td>\n",
       "      <td>Yakima</td>\n",
       "      <td>2</td>\n",
       "      <td>14</td>\n",
       "      <td>11670</td>\n",
       "      <td>5585</td>\n",
       "      <td>6085</td>\n",
       "      <td>8178</td>\n",
       "      <td>88</td>\n",
       "      <td>373</td>\n",
       "      <td>178</td>\n",
       "      <td>3</td>\n",
       "      <td>2727</td>\n",
       "      <td>123</td>\n",
       "    </tr>\n",
       "    <tr>\n",
       "      <th>148</th>\n",
       "      <td>2200</td>\n",
       "      <td>50</td>\n",
       "      <td>53</td>\n",
       "      <td>77</td>\n",
       "      <td>Washington</td>\n",
       "      <td>Yakima</td>\n",
       "      <td>2</td>\n",
       "      <td>15</td>\n",
       "      <td>9611</td>\n",
       "      <td>4666</td>\n",
       "      <td>4945</td>\n",
       "      <td>7168</td>\n",
       "      <td>61</td>\n",
       "      <td>237</td>\n",
       "      <td>118</td>\n",
       "      <td>5</td>\n",
       "      <td>1930</td>\n",
       "      <td>92</td>\n",
       "    </tr>\n",
       "    <tr>\n",
       "      <th>149</th>\n",
       "      <td>2201</td>\n",
       "      <td>50</td>\n",
       "      <td>53</td>\n",
       "      <td>77</td>\n",
       "      <td>Washington</td>\n",
       "      <td>Yakima</td>\n",
       "      <td>2</td>\n",
       "      <td>16</td>\n",
       "      <td>6444</td>\n",
       "      <td>3068</td>\n",
       "      <td>3376</td>\n",
       "      <td>5014</td>\n",
       "      <td>30</td>\n",
       "      <td>167</td>\n",
       "      <td>66</td>\n",
       "      <td>6</td>\n",
       "      <td>1094</td>\n",
       "      <td>67</td>\n",
       "    </tr>\n",
       "    <tr>\n",
       "      <th>150</th>\n",
       "      <td>2202</td>\n",
       "      <td>50</td>\n",
       "      <td>53</td>\n",
       "      <td>77</td>\n",
       "      <td>Washington</td>\n",
       "      <td>Yakima</td>\n",
       "      <td>2</td>\n",
       "      <td>17</td>\n",
       "      <td>4053</td>\n",
       "      <td>1797</td>\n",
       "      <td>2256</td>\n",
       "      <td>3095</td>\n",
       "      <td>32</td>\n",
       "      <td>87</td>\n",
       "      <td>60</td>\n",
       "      <td>0</td>\n",
       "      <td>735</td>\n",
       "      <td>44</td>\n",
       "    </tr>\n",
       "    <tr>\n",
       "      <th>151</th>\n",
       "      <td>2203</td>\n",
       "      <td>50</td>\n",
       "      <td>53</td>\n",
       "      <td>77</td>\n",
       "      <td>Washington</td>\n",
       "      <td>Yakima</td>\n",
       "      <td>2</td>\n",
       "      <td>18</td>\n",
       "      <td>3922</td>\n",
       "      <td>1469</td>\n",
       "      <td>2453</td>\n",
       "      <td>3155</td>\n",
       "      <td>21</td>\n",
       "      <td>74</td>\n",
       "      <td>49</td>\n",
       "      <td>4</td>\n",
       "      <td>582</td>\n",
       "      <td>37</td>\n",
       "    </tr>\n",
       "  </tbody>\n",
       "</table>\n",
       "</div>"
      ],
      "text/plain": [
       "     Unnamed: 0  SUMLEV  STATE  COUNTY      STNAME CTYNAME  YEAR  AGEGRP  \\\n",
       "133        2185      50     53      77  Washington  Yakima     2       0   \n",
       "134        2186      50     53      77  Washington  Yakima     2       1   \n",
       "135        2187      50     53      77  Washington  Yakima     2       2   \n",
       "136        2188      50     53      77  Washington  Yakima     2       3   \n",
       "137        2189      50     53      77  Washington  Yakima     2       4   \n",
       "138        2190      50     53      77  Washington  Yakima     2       5   \n",
       "139        2191      50     53      77  Washington  Yakima     2       6   \n",
       "140        2192      50     53      77  Washington  Yakima     2       7   \n",
       "141        2193      50     53      77  Washington  Yakima     2       8   \n",
       "142        2194      50     53      77  Washington  Yakima     2       9   \n",
       "143        2195      50     53      77  Washington  Yakima     2      10   \n",
       "144        2196      50     53      77  Washington  Yakima     2      11   \n",
       "145        2197      50     53      77  Washington  Yakima     2      12   \n",
       "146        2198      50     53      77  Washington  Yakima     2      13   \n",
       "147        2199      50     53      77  Washington  Yakima     2      14   \n",
       "148        2200      50     53      77  Washington  Yakima     2      15   \n",
       "149        2201      50     53      77  Washington  Yakima     2      16   \n",
       "150        2202      50     53      77  Washington  Yakima     2      17   \n",
       "151        2203      50     53      77  Washington  Yakima     2      18   \n",
       "\n",
       "     TOT_POP  TOT_MALE  TOT_FEMALE  totalWA  totalBA  totalIA  totalAA  \\\n",
       "133   256533    128596      127937   106301     2197     9223     2976   \n",
       "134    19580      9864        9716     4866      133      617      143   \n",
       "135    21389     10941       10448     5366      214      681      147   \n",
       "136    22578     11613       10965     5741      174      942      138   \n",
       "137    19795     10126        9669     5072      129      885      144   \n",
       "138    17013      8658        8355     4705      150      685      143   \n",
       "139    17859      8960        8899     5971      203      648      206   \n",
       "140    16537      8364        8173     6300      205      700      231   \n",
       "141    15759      7935        7824     6191      164      616      258   \n",
       "142    15006      7612        7394     6190      162      500      194   \n",
       "143    14001      7054        6947     6018      118      497      204   \n",
       "144    13666      6934        6732     6492      108      509      219   \n",
       "145    14257      7183        7074     8130      107      512      252   \n",
       "146    13393      6767        6626     8649       98      493      226   \n",
       "147    11670      5585        6085     8178       88      373      178   \n",
       "148     9611      4666        4945     7168       61      237      118   \n",
       "149     6444      3068        3376     5014       30      167       66   \n",
       "150     4053      1797        2256     3095       32       87       60   \n",
       "151     3922      1469        2453     3155       21       74       49   \n",
       "\n",
       "     totalNA  totalH  totalTOM  \n",
       "133      211  131130      4495  \n",
       "134       15   13254       552  \n",
       "135       12   14479       490  \n",
       "136       10   15103       470  \n",
       "137       20   13087       458  \n",
       "138       14   10930       386  \n",
       "139       16   10437       378  \n",
       "140       20    8793       288  \n",
       "141       21    8266       243  \n",
       "142       10    7750       200  \n",
       "143       14    6986       164  \n",
       "144       12    6170       156  \n",
       "145       16    5066       174  \n",
       "146       13    3741       173  \n",
       "147        3    2727       123  \n",
       "148        5    1930        92  \n",
       "149        6    1094        67  \n",
       "150        0     735        44  \n",
       "151        4     582        37  "
      ]
     },
     "execution_count": 64,
     "metadata": {},
     "output_type": "execute_result"
    }
   ],
   "source": [
    "demo.loc[demo['CTYNAME']=='Yakima']"
   ]
  },
  {
   "cell_type": "code",
   "execution_count": null,
   "id": "cf111a9b-1f12-4c9e-b58e-63c84db71228",
   "metadata": {},
   "outputs": [],
   "source": []
  },
  {
   "cell_type": "code",
   "execution_count": null,
   "id": "fafa5bc4-b2e3-4ab9-af9c-e5ff510185a9",
   "metadata": {},
   "outputs": [],
   "source": []
  }
 ],
 "metadata": {
  "kernelspec": {
   "display_name": "Python 3",
   "language": "python",
   "name": "python3"
  },
  "language_info": {
   "codemirror_mode": {
    "name": "ipython",
    "version": 3
   },
   "file_extension": ".py",
   "mimetype": "text/x-python",
   "name": "python",
   "nbconvert_exporter": "python",
   "pygments_lexer": "ipython3",
   "version": "3.8.8"
  },
  "toc-autonumbering": false,
  "toc-showmarkdowntxt": false
 },
 "nbformat": 4,
 "nbformat_minor": 5
}
