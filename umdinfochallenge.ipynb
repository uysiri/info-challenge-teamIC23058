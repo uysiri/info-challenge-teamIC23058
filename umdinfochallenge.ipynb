{
 "cells": [
  {
   "cell_type": "code",
   "execution_count": 4,
   "id": "54332a8d-b93c-4d9e-ade5-1ef5570c94d0",
   "metadata": {},
   "outputs": [],
   "source": [
    "import pandas as pd\n",
    "import numpy as np\n",
    "\n",
    "df = pd.read_csv(\"Data_Washington Fatal Crash Survey.csv\", low_memory=False)\n",
    "zips = pd.read_csv(\"US%20Zip%20Codes%20from%202013%20Government%20Data.txt\")"
   ]
  },
  {
   "cell_type": "code",
   "execution_count": 9,
   "id": "1e75be15-7142-4d6d-83b5-1098794e651e",
   "metadata": {
    "tags": []
   },
   "outputs": [],
   "source": [
    "from arcgis.geocoding import reverse_geocode\n",
    "from arcgis.geometry import Geometry\n",
    "from arcgis.gis import GIS"
   ]
  },
  {
   "cell_type": "markdown",
   "id": "f2b79ff6-6d32-4462-a6d0-5ce81aebd348",
   "metadata": {},
   "source": [
    "## Derive zip code for crashes \n",
    "\n",
    "Method: Reverse geocoding with ArcGIS and impute any missing zipcode values"
   ]
  },
  {
   "cell_type": "code",
   "execution_count": 10,
   "id": "89dc6e22-d725-41f8-8e62-2c2850a49915",
   "metadata": {},
   "outputs": [],
   "source": [
    "# long : x\n",
    "# lat : y\n",
    "\n",
    "# driver zip code : dzip \n",
    "df.rename(columns={'x': 'lon', 'y': 'lat'}, inplace=True)"
   ]
  },
  {
   "cell_type": "code",
   "execution_count": 12,
   "id": "f9ad8493-b0d6-4f70-94f9-fa6b0f80d198",
   "metadata": {
    "tags": []
   },
   "outputs": [],
   "source": [
    "gis = GIS(api_key=\"AAPK206d8c337d5a416ca8a7824330c0ca7bkQWmIxSD8K5_qxX1ly5btaWLcl36cVX_1iDwCQxl_IgY56Zh6TN-Usx26i4oM77l\")\n",
    "# exposed for now\n",
    "\n",
    "def get_zip(df,lon_field, lat_field):\n",
    "    location = reverse_geocode((Geometry({\"x\":float(df[lon_field]),\"y\":float(df[lat_field]), \"spatialReference\":{\"wkid\":4326}})))\n",
    "    return location['address']['Postal']\n",
    "\n",
    "df['crashzip'] = df.apply(get_zip, axis=1, lat_field='lat', lon_field='lon')"
   ]
  },
  {
   "cell_type": "code",
   "execution_count": 83,
   "id": "57b56a83-4307-4b84-9625-c72e887a1932",
   "metadata": {
    "tags": []
   },
   "outputs": [],
   "source": [
    "# update missing crash zip values in df \n",
    "# case 78 03/18/2020 in county 45(Pacific) --> crash lat long improperly recorded  78.304936,  -778.304936 impossible! city = unincorporated\n",
    "# FOREST SERVICES RD 2300 is not an actual road... should we drop the row?\n",
    "# case 349 09/12/2021 in county 5 --> zip: 99352 could not be identified by arcGIS identified using haversine distance\n",
    "# case 638 09/05/2021 in county 19(Ferry) --> lat long recorded as 78.304936,  -778.304936 impossible! city = unincorporated\n",
    "# Ferry county is on a reservation in the middle of nowhere next to a natl forest far northeast of WA \n",
    "# crash occurred on BRIDGE CREEK RD in Ferry County --> brute force zip: 99138\n",
    "\n",
    "df.loc[3690,\"crashzip\"] = 99352\n",
    "df.loc[4128,\"crashzip\"] = 99138"
   ]
  },
  {
   "cell_type": "code",
   "execution_count": 84,
   "id": "b450cc18-6ada-4893-bc97-0bcaa93b07a7",
   "metadata": {
    "tags": []
   },
   "outputs": [],
   "source": [
    "# saved because computationally expensive \n",
    "# don't want to call API every time we run the code \n",
    "# DONT RUN THAT PART \n",
    "\n",
    "df.to_csv('crashdata_updated.csv') # import THIS data set"
   ]
  },
  {
   "cell_type": "markdown",
   "id": "3859a4a7-7da7-48cf-a71c-bd0ad1b33a35",
   "metadata": {},
   "source": [
    "## What proportion of drivers are involved in fatal crashes crash in communities where they live?\n",
    "\n",
    "Method: Calculate proportion mathematically"
   ]
  },
  {
   "cell_type": "code",
   "execution_count": 1172,
   "id": "d57c1031-6f55-453a-a458-41691f5155b8",
   "metadata": {
    "tags": []
   },
   "outputs": [],
   "source": [
    "# start from here\n",
    "# processed in \"preprocessing\" notebook\n",
    "\n",
    "data = pd.read_csv(\"crashdata_updated.csv\", low_memory=False) # some cols have mixed dtypes...\n",
    "data[\"crash_dt\"]= pd.to_datetime(data[\"crash_dt\"])\n",
    "\n",
    "# cast as str \n",
    "data['dzip'] = data['dzip'].astype(str)\n",
    "# get rid of the trailing zeros\n",
    "data['dzip'] = data['dzip'].replace(r'\\.0$', '', regex=True)"
   ]
  },
  {
   "cell_type": "markdown",
   "id": "f68ae76b-eb2b-4404-8b56-b62a133eb539",
   "metadata": {
    "tags": []
   },
   "source": [
    "## Recalculate proportions-- this time community = CITY"
   ]
  },
  {
   "cell_type": "code",
   "execution_count": 1175,
   "id": "326333b6-b689-4268-810e-bc5b0f70f610",
   "metadata": {
    "tags": []
   },
   "outputs": [
    {
     "name": "stdout",
     "output_type": "stream",
     "text": [
      "The proportion of drivers involved in fatal crashes in communities where they don't live = 0.6330935251798561\n",
      "The proportion of drivers involved in fatal crashes in communities where they live = 0.3669064748201439\n"
     ]
    }
   ],
   "source": [
    "print(\"The proportion of drivers involved in fatal crashes in communities where they don't live = {}\".format(len(data.query('dcity != crashcity'))/len(data)))\n",
    "print(\"The proportion of drivers involved in fatal crashes in communities where they live = {}\".format(len(data.query('dcity == crashcity'))/len(data)))"
   ]
  },
  {
   "cell_type": "code",
   "execution_count": 1176,
   "id": "a1ae02e5-feac-483b-a927-405a68005700",
   "metadata": {
    "tags": []
   },
   "outputs": [
    {
     "name": "stdout",
     "output_type": "stream",
     "text": [
      "crash_dt  dcity      \n",
      "2017      Seattle        53\n",
      "          Spokane        37\n",
      "          Tacoma         28\n",
      "          Vancouver      22\n",
      "          Yakima         19\n",
      "                         ..\n",
      "2021      Wishram         1\n",
      "          Woodinville     1\n",
      "          Woodland        1\n",
      "          Woodway         1\n",
      "          Yuba City       1\n",
      "Name: dcity, Length: 1205, dtype: int64\n"
     ]
    }
   ],
   "source": [
    "print(data.groupby(data.crash_dt.dt.year)['dcity'].value_counts())"
   ]
  },
  {
   "cell_type": "markdown",
   "id": "fab1253b-845c-4611-bef8-b176b3fb8011",
   "metadata": {
    "tags": []
   },
   "source": [
    "- Calculate the same proportions for before Spring 2020 and after Spring 2020\n",
    "- Represent these 3 proportions in a horizontal stacked bar chart "
   ]
  },
  {
   "cell_type": "code",
   "execution_count": null,
   "id": "2f32813e-6735-458c-a443-655e85f7f048",
   "metadata": {},
   "outputs": [],
   "source": [
    "## Recalculating proportions of crashes with visitors vs. residents for pre and post-pandemic\n",
    "- Calculate the same proportions for before Spring 2020 and after Spring 2020\n",
    "-Represent these 3 proportions in a horizontal stacked bar chart"
   ]
  },
  {
   "cell_type": "code",
   "execution_count": null,
   "id": "5749e708-d259-4cdb-a306-6a13a6fa30bb",
   "metadata": {},
   "outputs": [],
   "source": [
    "# Add another column to dataset indicating if it is pre or post covid (covid is in post-covid)\n",
    "# Post-Covid is defined as March 1 2020, as the Governor of Washington declared a state of emergency on Feb 29, 2020\n",
    "\n",
    "covid = [] # set empty list \n",
    "startdate = pd.to_datetime(\"2020-3-1\").date()\n",
    "\n",
    "for index, row in data.iterrows():\n",
    "    if row['crash_dt']<startdate:\n",
    "        covid.append(\"pre-pandemic\") # if equal add \"resident\" to list\n",
    "    else:\n",
    "        covid.append(\"post-pandemic\") # else add \"visitor\"\n",
    "        \n",
    "data[\"covid\"] = covid # cast list as df column"
   ]
  },
  {
   "cell_type": "code",
   "execution_count": null,
   "id": "580f4d83-3ffd-4ba7-b51c-76923de541f8",
   "metadata": {},
   "outputs": [],
   "source": [
    "# Pre-pandemic\n",
    "print(\"Pre-pandemic, the proportion of drivers involved in fatal crashes \\nin communities where they don't live = %1.4f\" % (len(data[data['covid'] == \"pre-pandemic\"].query('dcity != crashcity'))/len(data[data['covid'] == \"pre-pandemic\"])))\n",
    "print(\"Pre-pandemic, the proportion of drivers involved in fatal crashes \\nin communities where they live = %1.4f\" % (len(data[data['covid'] == \"pre-pandemic\"].query('dcity == crashcity'))/len(data[data['covid'] == \"pre-pandemic\"])))\n",
    "\n",
    "# Post-pandemic\n",
    "print(\"Post-pandemic, the proportion of drivers involved in fatal crashes \\nin communities where they don't live = %1.4f\" % (len(data[data['covid'] == \"post-pandemic\"].query('dcity != crashcity'))/len(data[data['covid'] == \"post-pandemic\"])))\n",
    "print(\"Post-pandemic, the proportion of drivers involved in fatal crashes \\nin communities where they live = %1.4f\" % (len(data[data['covid'] == \"post-pandemic\"].query('dcity == crashcity'))/len(data[data['covid'] == \"post-pandemic\"])))"
   ]
  },
  {
   "cell_type": "markdown",
   "id": "0ecb966c-cdda-4ff3-888e-1b06d6a5b3b4",
   "metadata": {
    "tags": []
   },
   "source": [
    "## Is there a difference between types of crashes and behavior factors among residents vs visitors?\n",
    "\n",
    "Method: Chi-Squared Test for Homogeneity between crashes among residents and visitors\n"
   ]
  },
  {
   "cell_type": "code",
   "execution_count": 1177,
   "id": "22a9c54f-8031-4660-9db7-3f47d5832e4d",
   "metadata": {
    "tags": []
   },
   "outputs": [],
   "source": [
    "# Create a categorical variable to represent whether driver is local resident or visitor\n",
    "# \"resident\" = local resident\n",
    "# \"visitor\" = out of town\n",
    "\n",
    "drive_res = [] # set empty list \n",
    "for index, row in data.iterrows():\n",
    "    if row['dzip']==row['crashzip']:\n",
    "        drive_res.append(\"resident\") # if equal add \"resident\" to list\n",
    "    else:\n",
    "        drive_res.append(\"visitor\") # else add \"visitor\"\n",
    "        \n",
    "data[\"d_res\"] = drive_res # cast list as df column"
   ]
  },
  {
   "cell_type": "code",
   "execution_count": 1178,
   "id": "8afc7d5b-0f50-4580-8cc5-7669446eebdc",
   "metadata": {
    "tags": []
   },
   "outputs": [],
   "source": [
    "# Create a categorical variable to represent whether driver is local resident or visitor\n",
    "# \"resident\" = local resident\n",
    "# \"visitor\" = out of town\n",
    "\n",
    "### BASED ON CITY MATCH\n",
    "\n",
    "city_res = [] # set empty list \n",
    "for index, row in data.iterrows():\n",
    "    if row['dcity']==row['crashcity']:\n",
    "        city_res.append(\"resident\") # if equal add \"resident\" to list\n",
    "    else:\n",
    "        city_res.append(\"visitor\") # else add \"visitor\"\n",
    "        \n",
    "data[\"d_cty\"] = city_res # cast list as df column\n",
    "\n",
    "# \"d_cty\" : classifies driver as resident or visitor by CITY \n",
    "# \"d_res\" : classifies driver as resident or visitor by ZIP"
   ]
  },
  {
   "cell_type": "code",
   "execution_count": 1179,
   "id": "3c0254c3-ece4-40fe-955f-d1806e43c908",
   "metadata": {
    "tags": []
   },
   "outputs": [
    {
     "name": "stdout",
     "output_type": "stream",
     "text": [
      "The p-value is =0.5923499100705489\n",
      "The year by year distribution of visitors vs residents involved in fatal crashes does not change significantly.\n"
     ]
    }
   ],
   "source": [
    "from scipy.stats import chi2_contingency\n",
    "\n",
    "chi1 = chi2_contingency(pd.crosstab([data.year], data.d_cty, rownames=[\"Year\"], colnames=[\"Driver\"], margins=True, margins_name=\"Total\"))\n",
    "print(\"The p-value is ={}\".format(chi1.pvalue))\n",
    "print(\"The year by year distribution of visitors vs residents involved in fatal crashes does not change significantly.\")"
   ]
  },
  {
   "cell_type": "code",
   "execution_count": 1180,
   "id": "2a5c9957-80b4-429c-8ec4-70c07f34bd82",
   "metadata": {
    "tags": []
   },
   "outputs": [
    {
     "name": "stdout",
     "output_type": "stream",
     "text": [
      "All p-values:\n",
      "{'numfatal': 0.8817144300749307, 'agegrp2': 0.1160865472995747, 'trafflow': 2.7460967027925285e-18, 'roadclass': 4.09273701459027e-68, 'urbrur': 1.1427260420303382e-23, 'intersect': 1.2485938320723234e-09, 'lanedep': 0.00030316221944040286, 'oppdir': 0.00011065378615566232, 'wrongway': 0.007089365597776291, 'pv_inv': 0.005082584937617593, 'ped_inv': 0.0007305364989739545, 'ht_inv': 5.765121486991463e-19, 'bike_inv': 0.04146370660378593, 'mc_inv': 0.8533632086222931, 'dd_inv': 0.9898969600211072, 'speed_inv': 0.9920431928129856, 'drowsy_inv': 0.9999389138843816, 'drdist_inv': 0.9999626201861774, 'aid_inv': 0.9973993959431445, 'id_inv': 0.764343110590218, 'mj_inv': 0.8042887554573764, 'fty_inv': 0.0001585434839524297, 'dr_drink': 0.6272074595324417, 'dr_alc8': 0.8844727191708381, 'dr_alc7': 0.9999703807316164, 'dr_spd': 0.6373865200585607}\n",
      "Signficant p-values:\n",
      "{'trafflow': 2.7460967027925285e-18, 'roadclass': 4.09273701459027e-68, 'urbrur': 1.1427260420303382e-23, 'intersect': 1.2485938320723234e-09, 'lanedep': 0.00030316221944040286, 'oppdir': 0.00011065378615566232, 'wrongway': 0.007089365597776291, 'pv_inv': 0.005082584937617593, 'ped_inv': 0.0007305364989739545, 'ht_inv': 5.765121486991463e-19, 'bike_inv': 0.04146370660378593, 'fty_inv': 0.0001585434839524297}\n"
     ]
    }
   ],
   "source": [
    "colist = [\"numfatal\", \"agegrp2\", \"trafflow\", \"roadclass\", \"urbrur\", \"intersect\",\"lanedep\", \"oppdir\", \"wrongway\",\"pv_inv\",\"ped_inv\",\"ht_inv\",\"bike_inv\", \"mc_inv\",\"dd_inv\", \"speed_inv\",\"drowsy_inv\", \"drdist_inv\",\"aid_inv\",\"id_inv\",\"mj_inv\",\"fty_inv\",\"dr_drink\",\"dr_alc8\",\"dr_alc7\",\"dr_spd\"]\n",
    "values = []\n",
    "\n",
    "for k in colist:\n",
    "    pval=chi2_contingency(pd.crosstab(data[k],data[\"d_cty\"], margins=True, margins_name=\"Total\")).pvalue\n",
    "    values.append(pval)\n",
    "    \n",
    "sig = dict(zip(colist, values))\n",
    "print(\"All p-values:\")\n",
    "print(sig)\n",
    "print(\"Signficant p-values:\")\n",
    "print({k:v for k, v in sig.items() if v < 0.05})"
   ]
  },
  {
   "cell_type": "markdown",
   "id": "e5b0f30a-6dea-445d-a8c9-2a6ec31d7e5d",
   "metadata": {},
   "source": [
    "## Are there specific resident ZIP Codes that tend to produce higher-risk drivers that are involved in fatal crashes at a higher rate?\n",
    "\n",
    "- We define the rate at which zip codes tend to produce higher risk drivers as the sum of drivers from each zip code divided by the 5 year span to get the average number of high risk drivers produced by a zip code per year"
   ]
  },
  {
   "cell_type": "code",
   "execution_count": 380,
   "id": "60c86dc0-306f-4b4d-8866-6ec24c185663",
   "metadata": {
    "tags": []
   },
   "outputs": [],
   "source": [
    "# note: we know there are 28 fatal crashes caused by drivers from CANADA"
   ]
  },
  {
   "cell_type": "code",
   "execution_count": 1181,
   "id": "c4276939-2153-4c49-afde-1c79329e87b3",
   "metadata": {
    "tags": []
   },
   "outputs": [],
   "source": [
    "# rate of drivers causing fatal crashes per zipcode per year\n",
    "riskrate = pd.DataFrame(data['dzip'].value_counts()/5).head(17) # 17 instead of 15 because 15,16,17 are equal"
   ]
  },
  {
   "cell_type": "code",
   "execution_count": 1182,
   "id": "48e0fbdf-7897-46e1-b8e2-442238849863",
   "metadata": {
    "tags": []
   },
   "outputs": [],
   "source": [
    "risky = pd.DataFrame(data.groupby(data.crash_dt.dt.year)['dzip'].value_counts())\n",
    "risky.rename(columns={'dzip':'counts'},inplace=True)"
   ]
  },
  {
   "cell_type": "code",
   "execution_count": 1183,
   "id": "c5305b20-a8f7-4d18-a5ed-fe95ad9f1c35",
   "metadata": {
    "tags": []
   },
   "outputs": [
    {
     "name": "stdout",
     "output_type": "stream",
     "text": [
      "The top 17 zip codes that produce high risk drivers are: ['99301', '98444', '98387', '98837', '98404', '98391', '98951', '98003', '98901', '98223', '98258', '99206', '98584', '98022', '0', '98902', '98168']\n"
     ]
    }
   ],
   "source": [
    "top17 = list(riskrate.index)\n",
    "risky.reset_index(inplace=True)\n",
    "# get data with just top 15 highest risk zip codes\n",
    "\n",
    "highrisk = risky[risky['dzip'].isin(top17)]\n",
    "print(\"The top 17 zip codes that produce high risk drivers are: {}\".format(top17))\n",
    "# 0 is canada"
   ]
  },
  {
   "cell_type": "code",
   "execution_count": 1184,
   "id": "d4ef2c33-4c84-4a73-8e7d-20c6da5f0b69",
   "metadata": {
    "tags": []
   },
   "outputs": [],
   "source": [
    "riskrate.reset_index(inplace=True)"
   ]
  },
  {
   "cell_type": "code",
   "execution_count": 1187,
   "id": "d2c53303-80d9-43ea-89dd-62d74955167f",
   "metadata": {
    "tags": []
   },
   "outputs": [],
   "source": [
    "risky['Risk']=risky['dzip'].isin(top17).astype(int)"
   ]
  },
  {
   "cell_type": "code",
   "execution_count": 1188,
   "id": "8bc22355-3433-4923-8e32-320b3ed80bfd",
   "metadata": {
    "tags": []
   },
   "outputs": [
    {
     "data": {
      "image/png": "[encoded data removed]",
      "text/plain": [
       "<Figure size 1170x827 with 1 Axes>"
      ]
     },
     "metadata": {},
     "output_type": "display_data"
    }
   ],
   "source": [
    "plt.boxplot([risky['counts'], risky[risky['Risk'] == 0]['counts'] , risky[risky['Risk'] == 1]['counts']], labels=['All','Exclude_High_Risk','High_Risk'])\n",
    "plt.show(box)"
   ]
  },
  {
   "cell_type": "code",
   "execution_count": 1190,
   "id": "5d29ee7a-49fc-4304-beff-3f3b619d8e5d",
   "metadata": {
    "tags": []
   },
   "outputs": [],
   "source": [
    "# change name of 'index' to avoid errors \n",
    "\n",
    "riskrate.rename(columns={'index':'zipcode', 'dzip':'rate'}, inplace=True)"
   ]
  },
  {
   "cell_type": "code",
   "execution_count": 1192,
   "id": "b04db241-6fac-40f6-b892-7b4255ec2d0d",
   "metadata": {
    "tags": []
   },
   "outputs": [],
   "source": [
    "riskrate.to_csv(\"riskrate.csv\")"
   ]
  },
  {
   "cell_type": "markdown",
   "id": "e7e2d390-3b3f-49e0-bebb-560086ffc47b",
   "metadata": {},
   "source": [
    "## What are the population demographics of these high-risk driver producing ZIP Codes?\n",
    "\n",
    "The top 17 highest risk zip codes belong to 8 counties in WA state, excluding Canada. \n",
    "\n",
    "To analyze the demographics of high-risk producing zip codes, we examine the demographics of the county to which it belongs. We also examine how many people in each of the counties belong to high-risk zip codes. "
   ]
  },
  {
   "cell_type": "code",
   "execution_count": 1198,
   "id": "588070d0-7570-46cf-966b-1c3aeba7b22d",
   "metadata": {
    "tags": []
   },
   "outputs": [],
   "source": [
    "# riskrate with added population demographics\n",
    "\n",
    "# the population demographics are COUNTY level\n",
    "# percent_pop : the percentage of the COUNTY's population that belong to the ZIP\n",
    "# working_perc : the percentage of working age population by COUNTY\n",
    "\n",
    "riskrate = pd.read_csv(\"riskrate.csv\")"
   ]
  },
  {
   "cell_type": "code",
   "execution_count": 1203,
   "id": "4a280189-f01b-4ba8-8228-cb111cd53dfa",
   "metadata": {
    "tags": []
   },
   "outputs": [],
   "source": [
    "targetzips = ['99301', '98444', '98387', '98837', '98404', '98391', '98951',\n",
    "       '98003', '98901', '98223', '98258', '99206', '98584', '98022', '0',\n",
    "       '98902', '98168']\n",
    "\n",
    "# this is data where the driver belongs to high risk zip code \n",
    "\n",
    "newdata = data.loc[data['dzip'].isin(targetzips)]"
   ]
  },
  {
   "cell_type": "code",
   "execution_count": 1210,
   "id": "ecd352fb-db10-4f7b-81a0-dd993b59bc9a",
   "metadata": {
    "tags": []
   },
   "outputs": [],
   "source": [
    "# working population data of not high risk\n",
    "\n",
    "demo_nhr = pd.read_csv(\"nhr_workingpop.csv\")"
   ]
  },
  {
   "cell_type": "code",
   "execution_count": 1219,
   "id": "f49603f0-c5f7-40dc-98a7-8ef15e4faa4e",
   "metadata": {
    "tags": []
   },
   "outputs": [
    {
     "name": "stdout",
     "output_type": "stream",
     "text": [
      "The median working age percentage of the population for WA counties excluding high-risk = 0.5978580520563578\n",
      "The median working age percentage of the population for WA counties with high-risk zips = 0.6628895092043154\n"
     ]
    }
   ],
   "source": [
    "print(\"The median working age percentage of the population for WA counties excluding high-risk = {}\".format(demo_nhr['working_perc'].median()))\n",
    "print(\"The median working age percentage of the population for WA counties with high-risk zips = {}\".format(riskrate['working_perc'].median()))"
   ]
  },
  {
   "cell_type": "code",
   "execution_count": 1200,
   "id": "e109e19b-bbb3-4e03-8ea5-26d6f6840b17",
   "metadata": {
    "tags": []
   },
   "outputs": [],
   "source": [
    "# read in median income data \n",
    "\n",
    "income = pd.read_csv(\"med_income_washco.csv\")"
   ]
  },
  {
   "cell_type": "code",
   "execution_count": 859,
   "id": "7c32dccd-ef0d-4ddd-a29f-e199a10f29eb",
   "metadata": {
    "tags": []
   },
   "outputs": [],
   "source": [
    "import plotly.graph_objects as go\n",
    "from plotly.subplots import make_subplots\n",
    "\n",
    "labels = ['White', 'Black or African American', ' American Indian and Alaska Native','Asian',' Native Hawaiian and Other Pacific Islander', 'Hispanic', 'Two or More Races']\n",
    "\n",
    "specs = [[{'type':'domain'}, {'type':'domain'}], [{'type':'domain'}, {'type':'domain'}],[{'type':'domain'}, {'type':'domain'}],[{'type':'domain'}, {'type':'domain'}]]\n",
    "pies = make_subplots(rows=4, cols=2, specs=specs, subplot_titles=['Franklin', 'Grant', 'King', 'Mason', 'Pierce', 'Snohomish', 'Spokane', 'Yakima'])"
   ]
  },
  {
   "cell_type": "code",
   "execution_count": 860,
   "id": "ba4093f5-5e04-476a-b142-d1b11d569211",
   "metadata": {
    "collapsed": true,
    "jupyter": {
     "outputs_hidden": true
    },
    "tags": []
   },
   "outputs": [
    {
     "data": {
      "application/vnd.plotly.v1+json": {
       "config": {
        "plotlyServerURL": "https://plot.ly"
       },
       "data": [
        {
         "domain": {
          "x": [
           0,
           0.45
          ],
          "y": [
           0.84375,
           1
          ]
         },
         "hoverinfo": "label+percent+name",
         "labels": [
          "White",
          "Black or African American",
          " American Indian and Alaska Native",
          "Asian",
          " Native Hawaiian and Other Pacific Islander",
          "Hispanic",
          "Two or More Races"
         ],
         "name": "Franklin",
         "textinfo": "none",
         "type": "pie",
         "values": [
          38409,
          1973,
          482,
          2102,
          200,
          52240,
          1670
         ]
        },
        {
         "domain": {
          "x": [
           0.55,
           1
          ],
          "y": [
           0.84375,
           1
          ]
         },
         "hoverinfo": "label+percent+name",
         "labels": [
          "White",
          "Black or African American",
          " American Indian and Alaska Native",
          "Asian",
          " Native Hawaiian and Other Pacific Islander",
          "Hispanic",
          "Two or More Races"
         ],
         "name": "Grant",
         "textinfo": "none",
         "type": "pie",
         "values": [
          52080,
          931,
          860,
          950,
          140,
          42682,
          1722
         ]
        },
        {
         "domain": {
          "x": [
           0,
           0.45
          ],
          "y": [
           0.5625,
           0.71875
          ]
         },
         "hoverinfo": "label+percent+name",
         "labels": [
          "White",
          "Black or African American",
          " American Indian and Alaska Native",
          "Asian",
          " Native Hawaiian and Other Pacific Islander",
          "Hispanic",
          "Two or More Races"
         ],
         "name": "King",
         "textinfo": "none",
         "type": "pie",
         "values": [
          1293953,
          152734,
          13090,
          456352,
          17708,
          230889,
          107845
         ]
        },
        {
         "domain": {
          "x": [
           0.55,
           1
          ],
          "y": [
           0.5625,
           0.71875
          ]
         },
         "hoverinfo": "label+percent+name",
         "labels": [
          "White",
          "Black or African American",
          " American Indian and Alaska Native",
          "Asian",
          " Native Hawaiian and Other Pacific Islander",
          "Hispanic",
          "Two or More Races"
         ],
         "name": "Mason",
         "textinfo": "none",
         "type": "pie",
         "values": [
          52239,
          898,
          2005,
          836,
          313,
          7179,
          2558
         ]
        },
        {
         "domain": {
          "x": [
           0,
           0.45
          ],
          "y": [
           0.28125,
           0.4375
          ]
         },
         "hoverinfo": "label+percent+name",
         "labels": [
          "White",
          "Black or African American",
          " American Indian and Alaska Native",
          "Asian",
          " Native Hawaiian and Other Pacific Islander",
          "Hispanic",
          "Two or More Races"
         ],
         "name": "Pierce",
         "textinfo": "none",
         "type": "pie",
         "values": [
          596274,
          66213,
          10567,
          63526,
          15110,
          109959,
          61179
         ]
        },
        {
         "domain": {
          "x": [
           0.55,
           1
          ],
          "y": [
           0.28125,
           0.4375
          ]
         },
         "hoverinfo": "label+percent+name",
         "labels": [
          "White",
          "Black or African American",
          " American Indian and Alaska Native",
          "Asian",
          " Native Hawaiian and Other Pacific Islander",
          "Hispanic",
          "Two or More Races"
         ],
         "name": "Snohomish",
         "textinfo": "none",
         "type": "pie",
         "values": [
          553800,
          30510,
          8630,
          102433,
          5028,
          91517,
          37413
         ]
        },
        {
         "domain": {
          "x": [
           0,
           0.45
          ],
          "y": [
           0,
           0.15625
          ]
         },
         "hoverinfo": "label+percent+name",
         "labels": [
          "White",
          "Black or African American",
          " American Indian and Alaska Native",
          "Asian",
          " Native Hawaiian and Other Pacific Islander",
          "Hispanic",
          "Two or More Races"
         ],
         "name": "Spokane",
         "textinfo": "none",
         "type": "pie",
         "values": [
          451633,
          10205,
          7576,
          12610,
          3225,
          34603,
          20848
         ]
        },
        {
         "domain": {
          "x": [
           0.55,
           1
          ],
          "y": [
           0,
           0.15625
          ]
         },
         "hoverinfo": "label+percent+name",
         "labels": [
          "White",
          "Black or African American",
          " American Indian and Alaska Native",
          "Asian",
          " Native Hawaiian and Other Pacific Islander",
          "Hispanic",
          "Two or More Races"
         ],
         "name": "Yakima",
         "textinfo": "none",
         "type": "pie",
         "values": [
          106301,
          2197,
          9223,
          2976,
          211,
          131130,
          4495
         ]
        }
       ],
       "layout": {
        "annotations": [
         {
          "font": {
           "size": 16
          },
          "showarrow": false,
          "text": "Franklin",
          "x": 0.225,
          "xanchor": "center",
          "xref": "paper",
          "y": 1,
          "yanchor": "bottom",
          "yref": "paper"
         },
         {
          "font": {
           "size": 16
          },
          "showarrow": false,
          "text": "Grant",
          "x": 0.775,
          "xanchor": "center",
          "xref": "paper",
          "y": 1,
          "yanchor": "bottom",
          "yref": "paper"
         },
         {
          "font": {
           "size": 16
          },
          "showarrow": false,
          "text": "King",
          "x": 0.225,
          "xanchor": "center",
          "xref": "paper",
          "y": 0.71875,
          "yanchor": "bottom",
          "yref": "paper"
         },
         {
          "font": {
           "size": 16
          },
          "showarrow": false,
          "text": "Mason",
          "x": 0.775,
          "xanchor": "center",
          "xref": "paper",
          "y": 0.71875,
          "yanchor": "bottom",
          "yref": "paper"
         },
         {
          "font": {
           "size": 16
          },
          "showarrow": false,
          "text": "Pierce",
          "x": 0.225,
          "xanchor": "center",
          "xref": "paper",
          "y": 0.4375,
          "yanchor": "bottom",
          "yref": "paper"
         },
         {
          "font": {
           "size": 16
          },
          "showarrow": false,
          "text": "Snohomish",
          "x": 0.775,
          "xanchor": "center",
          "xref": "paper",
          "y": 0.4375,
          "yanchor": "bottom",
          "yref": "paper"
         },
         {
          "font": {
           "size": 16
          },
          "showarrow": false,
          "text": "Spokane",
          "x": 0.225,
          "xanchor": "center",
          "xref": "paper",
          "y": 0.15625,
          "yanchor": "bottom",
          "yref": "paper"
         },
         {
          "font": {
           "size": 16
          },
          "showarrow": false,
          "text": "Yakima",
          "x": 0.775,
          "xanchor": "center",
          "xref": "paper",
          "y": 0.15625,
          "yanchor": "bottom",
          "yref": "paper"
         }
        ],
        "autosize": true,
        "showlegend": true,
        "template": {
         "data": {
          "bar": [
           {
            "error_x": {
             "color": "#2a3f5f"
            },
            "error_y": {
             "color": "#2a3f5f"
            },
            "marker": {
             "line": {
              "color": "#E5ECF6",
              "width": 0.5
             },
             "pattern": {
              "fillmode": "overlay",
              "size": 10,
              "solidity": 0.2
             }
            },
            "type": "bar"
           }
          ],
          "barpolar": [
           {
            "marker": {
             "line": {
              "color": "#E5ECF6",
              "width": 0.5
             },
             "pattern": {
              "fillmode": "overlay",
              "size": 10,
              "solidity": 0.2
             }
            },
            "type": "barpolar"
           }
          ],
          "carpet": [
           {
            "aaxis": {
             "endlinecolor": "#2a3f5f",
             "gridcolor": "white",
             "linecolor": "white",
             "minorgridcolor": "white",
             "startlinecolor": "#2a3f5f"
            },
            "baxis": {
             "endlinecolor": "#2a3f5f",
             "gridcolor": "white",
             "linecolor": "white",
             "minorgridcolor": "white",
             "startlinecolor": "#2a3f5f"
            },
            "type": "carpet"
           }
          ],
          "choropleth": [
           {
            "colorbar": {
             "outlinewidth": 0,
             "ticks": ""
            },
            "type": "choropleth"
           }
          ],
          "contour": [
           {
            "colorbar": {
             "outlinewidth": 0,
             "ticks": ""
            },
            "colorscale": [
             [
              0,
              "#0d0887"
             ],
             [
              0.1111111111111111,
              "#46039f"
             ],
             [
              0.2222222222222222,
              "#7201a8"
             ],
             [
              0.3333333333333333,
              "#9c179e"
             ],
             [
              0.4444444444444444,
              "#bd3786"
             ],
             [
              0.5555555555555556,
              "#d8576b"
             ],
             [
              0.6666666666666666,
              "#ed7953"
             ],
             [
              0.7777777777777778,
              "#fb9f3a"
             ],
             [
              0.8888888888888888,
              "#fdca26"
             ],
             [
              1,
              "#f0f921"
             ]
            ],
            "type": "contour"
           }
          ],
          "contourcarpet": [
           {
            "colorbar": {
             "outlinewidth": 0,
             "ticks": ""
            },
            "type": "contourcarpet"
           }
          ],
          "heatmap": [
           {
            "colorbar": {
             "outlinewidth": 0,
             "ticks": ""
            },
            "colorscale": [
             [
              0,
              "#0d0887"
             ],
             [
              0.1111111111111111,
              "#46039f"
             ],
             [
              0.2222222222222222,
              "#7201a8"
             ],
             [
              0.3333333333333333,
              "#9c179e"
             ],
             [
              0.4444444444444444,
              "#bd3786"
             ],
             [
              0.5555555555555556,
              "#d8576b"
             ],
             [
              0.6666666666666666,
              "#ed7953"
             ],
             [
              0.7777777777777778,
              "#fb9f3a"
             ],
             [
              0.8888888888888888,
              "#fdca26"
             ],
             [
              1,
              "#f0f921"
             ]
            ],
            "type": "heatmap"
           }
          ],
          "heatmapgl": [
           {
            "colorbar": {
             "outlinewidth": 0,
             "ticks": ""
            },
            "colorscale": [
             [
              0,
              "#0d0887"
             ],
             [
              0.1111111111111111,
              "#46039f"
             ],
             [
              0.2222222222222222,
              "#7201a8"
             ],
             [
              0.3333333333333333,
              "#9c179e"
             ],
             [
              0.4444444444444444,
              "#bd3786"
             ],
             [
              0.5555555555555556,
              "#d8576b"
             ],
             [
              0.6666666666666666,
              "#ed7953"
             ],
             [
              0.7777777777777778,
              "#fb9f3a"
             ],
             [
              0.8888888888888888,
              "#fdca26"
             ],
             [
              1,
              "#f0f921"
             ]
            ],
            "type": "heatmapgl"
           }
          ],
          "histogram": [
           {
            "marker": {
             "pattern": {
              "fillmode": "overlay",
              "size": 10,
              "solidity": 0.2
             }
            },
            "type": "histogram"
           }
          ],
          "histogram2d": [
           {
            "colorbar": {
             "outlinewidth": 0,
             "ticks": ""
            },
            "colorscale": [
             [
              0,
              "#0d0887"
             ],
             [
              0.1111111111111111,
              "#46039f"
             ],
             [
              0.2222222222222222,
              "#7201a8"
             ],
             [
              0.3333333333333333,
              "#9c179e"
             ],
             [
              0.4444444444444444,
              "#bd3786"
             ],
             [
              0.5555555555555556,
              "#d8576b"
             ],
             [
              0.6666666666666666,
              "#ed7953"
             ],
             [
              0.7777777777777778,
              "#fb9f3a"
             ],
             [
              0.8888888888888888,
              "#fdca26"
             ],
             [
              1,
              "#f0f921"
             ]
            ],
            "type": "histogram2d"
           }
          ],
          "histogram2dcontour": [
           {
            "colorbar": {
             "outlinewidth": 0,
             "ticks": ""
            },
            "colorscale": [
             [
              0,
              "#0d0887"
             ],
             [
              0.1111111111111111,
              "#46039f"
             ],
             [
              0.2222222222222222,
              "#7201a8"
             ],
             [
              0.3333333333333333,
              "#9c179e"
             ],
             [
              0.4444444444444444,
              "#bd3786"
             ],
             [
              0.5555555555555556,
              "#d8576b"
             ],
             [
              0.6666666666666666,
              "#ed7953"
             ],
             [
              0.7777777777777778,
              "#fb9f3a"
             ],
             [
              0.8888888888888888,
              "#fdca26"
             ],
             [
              1,
              "#f0f921"
             ]
            ],
            "type": "histogram2dcontour"
           }
          ],
          "mesh3d": [
           {
            "colorbar": {
             "outlinewidth": 0,
             "ticks": ""
            },
            "type": "mesh3d"
           }
          ],
          "parcoords": [
           {
            "line": {
             "colorbar": {
              "outlinewidth": 0,
              "ticks": ""
             }
            },
            "type": "parcoords"
           }
          ],
          "pie": [
           {
            "automargin": true,
            "type": "pie"
           }
          ],
          "scatter": [
           {
            "fillpattern": {
             "fillmode": "overlay",
             "size": 10,
             "solidity": 0.2
            },
            "type": "scatter"
           }
          ],
          "scatter3d": [
           {
            "line": {
             "colorbar": {
              "outlinewidth": 0,
              "ticks": ""
             }
            },
            "marker": {
             "colorbar": {
              "outlinewidth": 0,
              "ticks": ""
             }
            },
            "type": "scatter3d"
           }
          ],
          "scattercarpet": [
           {
            "marker": {
             "colorbar": {
              "outlinewidth": 0,
              "ticks": ""
             }
            },
            "type": "scattercarpet"
           }
          ],
          "scattergeo": [
           {
            "marker": {
             "colorbar": {
              "outlinewidth": 0,
              "ticks": ""
             }
            },
            "type": "scattergeo"
           }
          ],
          "scattergl": [
           {
            "marker": {
             "colorbar": {
              "outlinewidth": 0,
              "ticks": ""
             }
            },
            "type": "scattergl"
           }
          ],
          "scattermapbox": [
           {
            "marker": {
             "colorbar": {
              "outlinewidth": 0,
              "ticks": ""
             }
            },
            "type": "scattermapbox"
           }
          ],
          "scatterpolar": [
           {
            "marker": {
             "colorbar": {
              "outlinewidth": 0,
              "ticks": ""
             }
            },
            "type": "scatterpolar"
           }
          ],
          "scatterpolargl": [
           {
            "marker": {
             "colorbar": {
              "outlinewidth": 0,
              "ticks": ""
             }
            },
            "type": "scatterpolargl"
           }
          ],
          "scatterternary": [
           {
            "marker": {
             "colorbar": {
              "outlinewidth": 0,
              "ticks": ""
             }
            },
            "type": "scatterternary"
           }
          ],
          "surface": [
           {
            "colorbar": {
             "outlinewidth": 0,
             "ticks": ""
            },
            "colorscale": [
             [
              0,
              "#0d0887"
             ],
             [
              0.1111111111111111,
              "#46039f"
             ],
             [
              0.2222222222222222,
              "#7201a8"
             ],
             [
              0.3333333333333333,
              "#9c179e"
             ],
             [
              0.4444444444444444,
              "#bd3786"
             ],
             [
              0.5555555555555556,
              "#d8576b"
             ],
             [
              0.6666666666666666,
              "#ed7953"
             ],
             [
              0.7777777777777778,
              "#fb9f3a"
             ],
             [
              0.8888888888888888,
              "#fdca26"
             ],
             [
              1,
              "#f0f921"
             ]
            ],
            "type": "surface"
           }
          ],
          "table": [
           {
            "cells": {
             "fill": {
              "color": "#EBF0F8"
             },
             "line": {
              "color": "white"
             }
            },
            "header": {
             "fill": {
              "color": "#C8D4E3"
             },
             "line": {
              "color": "white"
             }
            },
            "type": "table"
           }
          ]
         },
         "layout": {
          "annotationdefaults": {
           "arrowcolor": "#2a3f5f",
           "arrowhead": 0,
           "arrowwidth": 1
          },
          "autotypenumbers": "strict",
          "coloraxis": {
           "colorbar": {
            "outlinewidth": 0,
            "ticks": ""
           }
          },
          "colorscale": {
           "diverging": [
            [
             0,
             "#8e0152"
            ],
            [
             0.1,
             "#c51b7d"
            ],
            [
             0.2,
             "#de77ae"
            ],
            [
             0.3,
             "#f1b6da"
            ],
            [
             0.4,
             "#fde0ef"
            ],
            [
             0.5,
             "#f7f7f7"
            ],
            [
             0.6,
             "#e6f5d0"
            ],
            [
             0.7,
             "#b8e186"
            ],
            [
             0.8,
             "#7fbc41"
            ],
            [
             0.9,
             "#4d9221"
            ],
            [
             1,
             "#276419"
            ]
           ],
           "sequential": [
            [
             0,
             "#0d0887"
            ],
            [
             0.1111111111111111,
             "#46039f"
            ],
            [
             0.2222222222222222,
             "#7201a8"
            ],
            [
             0.3333333333333333,
             "#9c179e"
            ],
            [
             0.4444444444444444,
             "#bd3786"
            ],
            [
             0.5555555555555556,
             "#d8576b"
            ],
            [
             0.6666666666666666,
             "#ed7953"
            ],
            [
             0.7777777777777778,
             "#fb9f3a"
            ],
            [
             0.8888888888888888,
             "#fdca26"
            ],
            [
             1,
             "#f0f921"
            ]
           ],
           "sequentialminus": [
            [
             0,
             "#0d0887"
            ],
            [
             0.1111111111111111,
             "#46039f"
            ],
            [
             0.2222222222222222,
             "#7201a8"
            ],
            [
             0.3333333333333333,
             "#9c179e"
            ],
            [
             0.4444444444444444,
             "#bd3786"
            ],
            [
             0.5555555555555556,
             "#d8576b"
            ],
            [
             0.6666666666666666,
             "#ed7953"
            ],
            [
             0.7777777777777778,
             "#fb9f3a"
            ],
            [
             0.8888888888888888,
             "#fdca26"
            ],
            [
             1,
             "#f0f921"
            ]
           ]
          },
          "colorway": [
           "#636efa",
           "#EF553B",
           "#00cc96",
           "#ab63fa",
           "#FFA15A",
           "#19d3f3",
           "#FF6692",
           "#B6E880",
           "#FF97FF",
           "#FECB52"
          ],
          "font": {
           "color": "#2a3f5f"
          },
          "geo": {
           "bgcolor": "white",
           "lakecolor": "white",
           "landcolor": "#E5ECF6",
           "showlakes": true,
           "showland": true,
           "subunitcolor": "white"
          },
          "hoverlabel": {
           "align": "left"
          },
          "hovermode": "closest",
          "mapbox": {
           "style": "light"
          },
          "paper_bgcolor": "white",
          "plot_bgcolor": "#E5ECF6",
          "polar": {
           "angularaxis": {
            "gridcolor": "white",
            "linecolor": "white",
            "ticks": ""
           },
           "bgcolor": "#E5ECF6",
           "radialaxis": {
            "gridcolor": "white",
            "linecolor": "white",
            "ticks": ""
           }
          },
          "scene": {
           "xaxis": {
            "backgroundcolor": "#E5ECF6",
            "gridcolor": "white",
            "gridwidth": 2,
            "linecolor": "white",
            "showbackground": true,
            "ticks": "",
            "zerolinecolor": "white"
           },
           "yaxis": {
            "backgroundcolor": "#E5ECF6",
            "gridcolor": "white",
            "gridwidth": 2,
            "linecolor": "white",
            "showbackground": true,
            "ticks": "",
            "zerolinecolor": "white"
           },
           "zaxis": {
            "backgroundcolor": "#E5ECF6",
            "gridcolor": "white",
            "gridwidth": 2,
            "linecolor": "white",
            "showbackground": true,
            "ticks": "",
            "zerolinecolor": "white"
           }
          },
          "shapedefaults": {
           "line": {
            "color": "#2a3f5f"
           }
          },
          "ternary": {
           "aaxis": {
            "gridcolor": "white",
            "linecolor": "white",
            "ticks": ""
           },
           "baxis": {
            "gridcolor": "white",
            "linecolor": "white",
            "ticks": ""
           },
           "bgcolor": "#E5ECF6",
           "caxis": {
            "gridcolor": "white",
            "linecolor": "white",
            "ticks": ""
           }
          },
          "title": {
           "x": 0.05
          },
          "xaxis": {
           "automargin": true,
           "gridcolor": "white",
           "linecolor": "white",
           "ticks": "",
           "title": {
            "standoff": 15
           },
           "zerolinecolor": "white",
           "zerolinewidth": 2
          },
          "yaxis": {
           "automargin": true,
           "gridcolor": "white",
           "linecolor": "white",
           "ticks": "",
           "title": {
            "standoff": 15
           },
           "zerolinecolor": "white",
           "zerolinewidth": 2
          }
         }
        },
        "title": {
         "text": "Populations of Counties with High Risk Zip Codes by Race"
        }
       }
      },
      "image/png": "[encoded data removed]",
      "text/html": [
       "<div>                            <div id=\"81401028-0848-4d02-b6de-36deed243abb\" class=\"plotly-graph-div\" style=\"height:525px; width:100%;\"></div>            <script type=\"text/javascript\">                require([\"plotly\"], function(Plotly) {                    window.PLOTLYENV=window.PLOTLYENV || {};                                    if (document.getElementById(\"81401028-0848-4d02-b6de-36deed243abb\")) {                    Plotly.newPlot(                        \"81401028-0848-4d02-b6de-36deed243abb\",                        [{\"domain\":{\"x\":[0.0,0.45],\"y\":[0.84375,1.0]},\"hoverinfo\":\"label+percent+name\",\"labels\":[\"White\",\"Black or African American\",\" American Indian and Alaska Native\",\"Asian\",\" Native Hawaiian and Other Pacific Islander\",\"Hispanic\",\"Two or More Races\"],\"name\":\"Franklin\",\"textinfo\":\"none\",\"values\":[38409,1973,482,2102,200,52240,1670],\"type\":\"pie\"},{\"domain\":{\"x\":[0.55,1.0],\"y\":[0.84375,1.0]},\"hoverinfo\":\"label+percent+name\",\"labels\":[\"White\",\"Black or African American\",\" American Indian and Alaska Native\",\"Asian\",\" Native Hawaiian and Other Pacific Islander\",\"Hispanic\",\"Two or More Races\"],\"name\":\"Grant\",\"textinfo\":\"none\",\"values\":[52080,931,860,950,140,42682,1722],\"type\":\"pie\"},{\"domain\":{\"x\":[0.0,0.45],\"y\":[0.5625,0.71875]},\"hoverinfo\":\"label+percent+name\",\"labels\":[\"White\",\"Black or African American\",\" American Indian and Alaska Native\",\"Asian\",\" Native Hawaiian and Other Pacific Islander\",\"Hispanic\",\"Two or More Races\"],\"name\":\"King\",\"textinfo\":\"none\",\"values\":[1293953,152734,13090,456352,17708,230889,107845],\"type\":\"pie\"},{\"domain\":{\"x\":[0.55,1.0],\"y\":[0.5625,0.71875]},\"hoverinfo\":\"label+percent+name\",\"labels\":[\"White\",\"Black or African American\",\" American Indian and Alaska Native\",\"Asian\",\" Native Hawaiian and Other Pacific Islander\",\"Hispanic\",\"Two or More Races\"],\"name\":\"Mason\",\"textinfo\":\"none\",\"values\":[52239,898,2005,836,313,7179,2558],\"type\":\"pie\"},{\"domain\":{\"x\":[0.0,0.45],\"y\":[0.28125,0.4375]},\"hoverinfo\":\"label+percent+name\",\"labels\":[\"White\",\"Black or African American\",\" American Indian and Alaska Native\",\"Asian\",\" Native Hawaiian and Other Pacific Islander\",\"Hispanic\",\"Two or More Races\"],\"name\":\"Pierce\",\"textinfo\":\"none\",\"values\":[596274,66213,10567,63526,15110,109959,61179],\"type\":\"pie\"},{\"domain\":{\"x\":[0.55,1.0],\"y\":[0.28125,0.4375]},\"hoverinfo\":\"label+percent+name\",\"labels\":[\"White\",\"Black or African American\",\" American Indian and Alaska Native\",\"Asian\",\" Native Hawaiian and Other Pacific Islander\",\"Hispanic\",\"Two or More Races\"],\"name\":\"Snohomish\",\"textinfo\":\"none\",\"values\":[553800,30510,8630,102433,5028,91517,37413],\"type\":\"pie\"},{\"domain\":{\"x\":[0.0,0.45],\"y\":[0.0,0.15625]},\"hoverinfo\":\"label+percent+name\",\"labels\":[\"White\",\"Black or African American\",\" American Indian and Alaska Native\",\"Asian\",\" Native Hawaiian and Other Pacific Islander\",\"Hispanic\",\"Two or More Races\"],\"name\":\"Spokane\",\"textinfo\":\"none\",\"values\":[451633,10205,7576,12610,3225,34603,20848],\"type\":\"pie\"},{\"domain\":{\"x\":[0.55,1.0],\"y\":[0.0,0.15625]},\"hoverinfo\":\"label+percent+name\",\"labels\":[\"White\",\"Black or African American\",\" American Indian and Alaska Native\",\"Asian\",\" Native Hawaiian and Other Pacific Islander\",\"Hispanic\",\"Two or More Races\"],\"name\":\"Yakima\",\"textinfo\":\"none\",\"values\":[106301,2197,9223,2976,211,131130,4495],\"type\":\"pie\"}],                        {\"annotations\":[{\"font\":{\"size\":16},\"showarrow\":false,\"text\":\"Franklin\",\"x\":0.225,\"xanchor\":\"center\",\"xref\":\"paper\",\"y\":1.0,\"yanchor\":\"bottom\",\"yref\":\"paper\"},{\"font\":{\"size\":16},\"showarrow\":false,\"text\":\"Grant\",\"x\":0.775,\"xanchor\":\"center\",\"xref\":\"paper\",\"y\":1.0,\"yanchor\":\"bottom\",\"yref\":\"paper\"},{\"font\":{\"size\":16},\"showarrow\":false,\"text\":\"King\",\"x\":0.225,\"xanchor\":\"center\",\"xref\":\"paper\",\"y\":0.71875,\"yanchor\":\"bottom\",\"yref\":\"paper\"},{\"font\":{\"size\":16},\"showarrow\":false,\"text\":\"Mason\",\"x\":0.775,\"xanchor\":\"center\",\"xref\":\"paper\",\"y\":0.71875,\"yanchor\":\"bottom\",\"yref\":\"paper\"},{\"font\":{\"size\":16},\"showarrow\":false,\"text\":\"Pierce\",\"x\":0.225,\"xanchor\":\"center\",\"xref\":\"paper\",\"y\":0.4375,\"yanchor\":\"bottom\",\"yref\":\"paper\"},{\"font\":{\"size\":16},\"showarrow\":false,\"text\":\"Snohomish\",\"x\":0.775,\"xanchor\":\"center\",\"xref\":\"paper\",\"y\":0.4375,\"yanchor\":\"bottom\",\"yref\":\"paper\"},{\"font\":{\"size\":16},\"showarrow\":false,\"text\":\"Spokane\",\"x\":0.225,\"xanchor\":\"center\",\"xref\":\"paper\",\"y\":0.15625,\"yanchor\":\"bottom\",\"yref\":\"paper\"},{\"font\":{\"size\":16},\"showarrow\":false,\"text\":\"Yakima\",\"x\":0.775,\"xanchor\":\"center\",\"xref\":\"paper\",\"y\":0.15625,\"yanchor\":\"bottom\",\"yref\":\"paper\"}],\"showlegend\":true,\"template\":{\"data\":{\"barpolar\":[{\"marker\":{\"line\":{\"color\":\"#E5ECF6\",\"width\":0.5},\"pattern\":{\"fillmode\":\"overlay\",\"size\":10,\"solidity\":0.2}},\"type\":\"barpolar\"}],\"bar\":[{\"error_x\":{\"color\":\"#2a3f5f\"},\"error_y\":{\"color\":\"#2a3f5f\"},\"marker\":{\"line\":{\"color\":\"#E5ECF6\",\"width\":0.5},\"pattern\":{\"fillmode\":\"overlay\",\"size\":10,\"solidity\":0.2}},\"type\":\"bar\"}],\"carpet\":[{\"aaxis\":{\"endlinecolor\":\"#2a3f5f\",\"gridcolor\":\"white\",\"linecolor\":\"white\",\"minorgridcolor\":\"white\",\"startlinecolor\":\"#2a3f5f\"},\"baxis\":{\"endlinecolor\":\"#2a3f5f\",\"gridcolor\":\"white\",\"linecolor\":\"white\",\"minorgridcolor\":\"white\",\"startlinecolor\":\"#2a3f5f\"},\"type\":\"carpet\"}],\"choropleth\":[{\"colorbar\":{\"outlinewidth\":0,\"ticks\":\"\"},\"type\":\"choropleth\"}],\"contourcarpet\":[{\"colorbar\":{\"outlinewidth\":0,\"ticks\":\"\"},\"type\":\"contourcarpet\"}],\"contour\":[{\"colorbar\":{\"outlinewidth\":0,\"ticks\":\"\"},\"colorscale\":[[0.0,\"#0d0887\"],[0.1111111111111111,\"#46039f\"],[0.2222222222222222,\"#7201a8\"],[0.3333333333333333,\"#9c179e\"],[0.4444444444444444,\"#bd3786\"],[0.5555555555555556,\"#d8576b\"],[0.6666666666666666,\"#ed7953\"],[0.7777777777777778,\"#fb9f3a\"],[0.8888888888888888,\"#fdca26\"],[1.0,\"#f0f921\"]],\"type\":\"contour\"}],\"heatmapgl\":[{\"colorbar\":{\"outlinewidth\":0,\"ticks\":\"\"},\"colorscale\":[[0.0,\"#0d0887\"],[0.1111111111111111,\"#46039f\"],[0.2222222222222222,\"#7201a8\"],[0.3333333333333333,\"#9c179e\"],[0.4444444444444444,\"#bd3786\"],[0.5555555555555556,\"#d8576b\"],[0.6666666666666666,\"#ed7953\"],[0.7777777777777778,\"#fb9f3a\"],[0.8888888888888888,\"#fdca26\"],[1.0,\"#f0f921\"]],\"type\":\"heatmapgl\"}],\"heatmap\":[{\"colorbar\":{\"outlinewidth\":0,\"ticks\":\"\"},\"colorscale\":[[0.0,\"#0d0887\"],[0.1111111111111111,\"#46039f\"],[0.2222222222222222,\"#7201a8\"],[0.3333333333333333,\"#9c179e\"],[0.4444444444444444,\"#bd3786\"],[0.5555555555555556,\"#d8576b\"],[0.6666666666666666,\"#ed7953\"],[0.7777777777777778,\"#fb9f3a\"],[0.8888888888888888,\"#fdca26\"],[1.0,\"#f0f921\"]],\"type\":\"heatmap\"}],\"histogram2dcontour\":[{\"colorbar\":{\"outlinewidth\":0,\"ticks\":\"\"},\"colorscale\":[[0.0,\"#0d0887\"],[0.1111111111111111,\"#46039f\"],[0.2222222222222222,\"#7201a8\"],[0.3333333333333333,\"#9c179e\"],[0.4444444444444444,\"#bd3786\"],[0.5555555555555556,\"#d8576b\"],[0.6666666666666666,\"#ed7953\"],[0.7777777777777778,\"#fb9f3a\"],[0.8888888888888888,\"#fdca26\"],[1.0,\"#f0f921\"]],\"type\":\"histogram2dcontour\"}],\"histogram2d\":[{\"colorbar\":{\"outlinewidth\":0,\"ticks\":\"\"},\"colorscale\":[[0.0,\"#0d0887\"],[0.1111111111111111,\"#46039f\"],[0.2222222222222222,\"#7201a8\"],[0.3333333333333333,\"#9c179e\"],[0.4444444444444444,\"#bd3786\"],[0.5555555555555556,\"#d8576b\"],[0.6666666666666666,\"#ed7953\"],[0.7777777777777778,\"#fb9f3a\"],[0.8888888888888888,\"#fdca26\"],[1.0,\"#f0f921\"]],\"type\":\"histogram2d\"}],\"histogram\":[{\"marker\":{\"pattern\":{\"fillmode\":\"overlay\",\"size\":10,\"solidity\":0.2}},\"type\":\"histogram\"}],\"mesh3d\":[{\"colorbar\":{\"outlinewidth\":0,\"ticks\":\"\"},\"type\":\"mesh3d\"}],\"parcoords\":[{\"line\":{\"colorbar\":{\"outlinewidth\":0,\"ticks\":\"\"}},\"type\":\"parcoords\"}],\"pie\":[{\"automargin\":true,\"type\":\"pie\"}],\"scatter3d\":[{\"line\":{\"colorbar\":{\"outlinewidth\":0,\"ticks\":\"\"}},\"marker\":{\"colorbar\":{\"outlinewidth\":0,\"ticks\":\"\"}},\"type\":\"scatter3d\"}],\"scattercarpet\":[{\"marker\":{\"colorbar\":{\"outlinewidth\":0,\"ticks\":\"\"}},\"type\":\"scattercarpet\"}],\"scattergeo\":[{\"marker\":{\"colorbar\":{\"outlinewidth\":0,\"ticks\":\"\"}},\"type\":\"scattergeo\"}],\"scattergl\":[{\"marker\":{\"colorbar\":{\"outlinewidth\":0,\"ticks\":\"\"}},\"type\":\"scattergl\"}],\"scattermapbox\":[{\"marker\":{\"colorbar\":{\"outlinewidth\":0,\"ticks\":\"\"}},\"type\":\"scattermapbox\"}],\"scatterpolargl\":[{\"marker\":{\"colorbar\":{\"outlinewidth\":0,\"ticks\":\"\"}},\"type\":\"scatterpolargl\"}],\"scatterpolar\":[{\"marker\":{\"colorbar\":{\"outlinewidth\":0,\"ticks\":\"\"}},\"type\":\"scatterpolar\"}],\"scatter\":[{\"fillpattern\":{\"fillmode\":\"overlay\",\"size\":10,\"solidity\":0.2},\"type\":\"scatter\"}],\"scatterternary\":[{\"marker\":{\"colorbar\":{\"outlinewidth\":0,\"ticks\":\"\"}},\"type\":\"scatterternary\"}],\"surface\":[{\"colorbar\":{\"outlinewidth\":0,\"ticks\":\"\"},\"colorscale\":[[0.0,\"#0d0887\"],[0.1111111111111111,\"#46039f\"],[0.2222222222222222,\"#7201a8\"],[0.3333333333333333,\"#9c179e\"],[0.4444444444444444,\"#bd3786\"],[0.5555555555555556,\"#d8576b\"],[0.6666666666666666,\"#ed7953\"],[0.7777777777777778,\"#fb9f3a\"],[0.8888888888888888,\"#fdca26\"],[1.0,\"#f0f921\"]],\"type\":\"surface\"}],\"table\":[{\"cells\":{\"fill\":{\"color\":\"#EBF0F8\"},\"line\":{\"color\":\"white\"}},\"header\":{\"fill\":{\"color\":\"#C8D4E3\"},\"line\":{\"color\":\"white\"}},\"type\":\"table\"}]},\"layout\":{\"annotationdefaults\":{\"arrowcolor\":\"#2a3f5f\",\"arrowhead\":0,\"arrowwidth\":1},\"autotypenumbers\":\"strict\",\"coloraxis\":{\"colorbar\":{\"outlinewidth\":0,\"ticks\":\"\"}},\"colorscale\":{\"diverging\":[[0,\"#8e0152\"],[0.1,\"#c51b7d\"],[0.2,\"#de77ae\"],[0.3,\"#f1b6da\"],[0.4,\"#fde0ef\"],[0.5,\"#f7f7f7\"],[0.6,\"#e6f5d0\"],[0.7,\"#b8e186\"],[0.8,\"#7fbc41\"],[0.9,\"#4d9221\"],[1,\"#276419\"]],\"sequential\":[[0.0,\"#0d0887\"],[0.1111111111111111,\"#46039f\"],[0.2222222222222222,\"#7201a8\"],[0.3333333333333333,\"#9c179e\"],[0.4444444444444444,\"#bd3786\"],[0.5555555555555556,\"#d8576b\"],[0.6666666666666666,\"#ed7953\"],[0.7777777777777778,\"#fb9f3a\"],[0.8888888888888888,\"#fdca26\"],[1.0,\"#f0f921\"]],\"sequentialminus\":[[0.0,\"#0d0887\"],[0.1111111111111111,\"#46039f\"],[0.2222222222222222,\"#7201a8\"],[0.3333333333333333,\"#9c179e\"],[0.4444444444444444,\"#bd3786\"],[0.5555555555555556,\"#d8576b\"],[0.6666666666666666,\"#ed7953\"],[0.7777777777777778,\"#fb9f3a\"],[0.8888888888888888,\"#fdca26\"],[1.0,\"#f0f921\"]]},\"colorway\":[\"#636efa\",\"#EF553B\",\"#00cc96\",\"#ab63fa\",\"#FFA15A\",\"#19d3f3\",\"#FF6692\",\"#B6E880\",\"#FF97FF\",\"#FECB52\"],\"font\":{\"color\":\"#2a3f5f\"},\"geo\":{\"bgcolor\":\"white\",\"lakecolor\":\"white\",\"landcolor\":\"#E5ECF6\",\"showlakes\":true,\"showland\":true,\"subunitcolor\":\"white\"},\"hoverlabel\":{\"align\":\"left\"},\"hovermode\":\"closest\",\"mapbox\":{\"style\":\"light\"},\"paper_bgcolor\":\"white\",\"plot_bgcolor\":\"#E5ECF6\",\"polar\":{\"angularaxis\":{\"gridcolor\":\"white\",\"linecolor\":\"white\",\"ticks\":\"\"},\"bgcolor\":\"#E5ECF6\",\"radialaxis\":{\"gridcolor\":\"white\",\"linecolor\":\"white\",\"ticks\":\"\"}},\"scene\":{\"xaxis\":{\"backgroundcolor\":\"#E5ECF6\",\"gridcolor\":\"white\",\"gridwidth\":2,\"linecolor\":\"white\",\"showbackground\":true,\"ticks\":\"\",\"zerolinecolor\":\"white\"},\"yaxis\":{\"backgroundcolor\":\"#E5ECF6\",\"gridcolor\":\"white\",\"gridwidth\":2,\"linecolor\":\"white\",\"showbackground\":true,\"ticks\":\"\",\"zerolinecolor\":\"white\"},\"zaxis\":{\"backgroundcolor\":\"#E5ECF6\",\"gridcolor\":\"white\",\"gridwidth\":2,\"linecolor\":\"white\",\"showbackground\":true,\"ticks\":\"\",\"zerolinecolor\":\"white\"}},\"shapedefaults\":{\"line\":{\"color\":\"#2a3f5f\"}},\"ternary\":{\"aaxis\":{\"gridcolor\":\"white\",\"linecolor\":\"white\",\"ticks\":\"\"},\"baxis\":{\"gridcolor\":\"white\",\"linecolor\":\"white\",\"ticks\":\"\"},\"bgcolor\":\"#E5ECF6\",\"caxis\":{\"gridcolor\":\"white\",\"linecolor\":\"white\",\"ticks\":\"\"}},\"title\":{\"x\":0.05},\"xaxis\":{\"automargin\":true,\"gridcolor\":\"white\",\"linecolor\":\"white\",\"ticks\":\"\",\"title\":{\"standoff\":15},\"zerolinecolor\":\"white\",\"zerolinewidth\":2},\"yaxis\":{\"automargin\":true,\"gridcolor\":\"white\",\"linecolor\":\"white\",\"ticks\":\"\",\"title\":{\"standoff\":15},\"zerolinecolor\":\"white\",\"zerolinewidth\":2}}},\"title\":{\"text\":\"Populations of Counties with High Risk Zip Codes by Race\"}},                        {\"responsive\": true}                    ).then(function(){\n",
       "                            \n",
       "var gd = document.getElementById('81401028-0848-4d02-b6de-36deed243abb');\n",
       "var x = new MutationObserver(function (mutations, observer) {{\n",
       "        var display = window.getComputedStyle(gd).display;\n",
       "        if (!display || display === 'none') {{\n",
       "            console.log([gd, 'removed!']);\n",
       "            Plotly.purge(gd);\n",
       "            observer.disconnect();\n",
       "        }}\n",
       "}});\n",
       "\n",
       "// Listen for the removal of the full notebook cells\n",
       "var notebookContainer = gd.closest('#notebook-container');\n",
       "if (notebookContainer) {{\n",
       "    x.observe(notebookContainer, {childList: true});\n",
       "}}\n",
       "\n",
       "// Listen for the clearing of the current output cell\n",
       "var outputEl = gd.closest('.output');\n",
       "if (outputEl) {{\n",
       "    x.observe(outputEl, {childList: true});\n",
       "}}\n",
       "\n",
       "                        })                };                });            </script>        </div>"
      ]
     },
     "metadata": {},
     "output_type": "display_data"
    }
   ],
   "source": [
    "pies.add_trace(go.Pie(labels=labels, values=[38409,  1973,   482,  2102,   200, 52240,  1670], name='Franklin'), 1, 1)\n",
    "pies.add_trace(go.Pie(labels=labels, values=[52080,   931,   860,   950,   140, 42682,  1722], name='Grant'), 1, 2)\n",
    "pies.add_trace(go.Pie(labels=labels, values=[1293953,  152734,   13090,  456352,   17708,  230889,  107845], name='King'), 2, 1)\n",
    "pies.add_trace(go.Pie(labels=labels, values=[52239,   898,  2005,   836,   313,  7179,  2558], name='Mason'), 2, 2)\n",
    "\n",
    "pies.add_trace(go.Pie(labels=labels, values=[596274,  66213,  10567,  63526,  15110, 109959,  61179], name='Pierce'), 3, 1)\n",
    "pies.add_trace(go.Pie(labels=labels, values=[553800,  30510,   8630, 102433,   5028,  91517,  37413], name='Snohomish'), 3, 2)\n",
    "pies.add_trace(go.Pie(labels=labels, values=[451633,  10205,   7576,  12610,   3225,  34603,  20848], name='Spokane'), 4, 1)\n",
    "pies.add_trace(go.Pie(labels=labels, values=[106301,   2197,   9223,   2976,    211, 131130,   4495], name='Yakima'), 4, 2)\n",
    "\n",
    "pies.update_traces(hoverinfo='label+percent+name', textinfo='none')\n",
    "pies.update(layout_title_text='Populations of Counties with High Risk Zip Codes by Race',\n",
    "           layout_showlegend=True)\n",
    "\n",
    "pies = go.Figure(pies)\n",
    "pies.show()"
   ]
  },
  {
   "cell_type": "code",
   "execution_count": 797,
   "id": "ee890fd5-fad9-4856-a3b2-5c72b43190f0",
   "metadata": {
    "collapsed": true,
    "jupyter": {
     "outputs_hidden": true
    },
    "tags": []
   },
   "outputs": [
    {
     "data": {
      "application/vnd.plotly.v1+json": {
       "config": {
        "plotlyServerURL": "https://plot.ly"
       },
       "data": [
        {
         "alignmentgroup": "True",
         "hovertemplate": "County=%{x}<br>estinc2020=%{y}<extra></extra>",
         "legendgroup": "",
         "marker": {
          "color": "#636efa",
          "pattern": {
           "shape": ""
          }
         },
         "name": "",
         "offsetgroup": "",
         "orientation": "v",
         "showlegend": false,
         "textposition": "auto",
         "type": "bar",
         "x": [
          "Franklin",
          "Grant",
          "King",
          "Mason",
          "Pierce",
          "Snohomish",
          "Spokane",
          "Yakima"
         ],
         "xaxis": "x",
         "y": [
          73656,
          54753,
          102620,
          63785,
          80236,
          93589,
          60827,
          56353
         ],
         "yaxis": "y"
        }
       ],
       "layout": {
        "autosize": true,
        "barmode": "relative",
        "legend": {
         "tracegroupgap": 0
        },
        "template": {
         "data": {
          "bar": [
           {
            "error_x": {
             "color": "#2a3f5f"
            },
            "error_y": {
             "color": "#2a3f5f"
            },
            "marker": {
             "line": {
              "color": "#E5ECF6",
              "width": 0.5
             },
             "pattern": {
              "fillmode": "overlay",
              "size": 10,
              "solidity": 0.2
             }
            },
            "type": "bar"
           }
          ],
          "barpolar": [
           {
            "marker": {
             "line": {
              "color": "#E5ECF6",
              "width": 0.5
             },
             "pattern": {
              "fillmode": "overlay",
              "size": 10,
              "solidity": 0.2
             }
            },
            "type": "barpolar"
           }
          ],
          "carpet": [
           {
            "aaxis": {
             "endlinecolor": "#2a3f5f",
             "gridcolor": "white",
             "linecolor": "white",
             "minorgridcolor": "white",
             "startlinecolor": "#2a3f5f"
            },
            "baxis": {
             "endlinecolor": "#2a3f5f",
             "gridcolor": "white",
             "linecolor": "white",
             "minorgridcolor": "white",
             "startlinecolor": "#2a3f5f"
            },
            "type": "carpet"
           }
          ],
          "choropleth": [
           {
            "colorbar": {
             "outlinewidth": 0,
             "ticks": ""
            },
            "type": "choropleth"
           }
          ],
          "contour": [
           {
            "colorbar": {
             "outlinewidth": 0,
             "ticks": ""
            },
            "colorscale": [
             [
              0,
              "#0d0887"
             ],
             [
              0.1111111111111111,
              "#46039f"
             ],
             [
              0.2222222222222222,
              "#7201a8"
             ],
             [
              0.3333333333333333,
              "#9c179e"
             ],
             [
              0.4444444444444444,
              "#bd3786"
             ],
             [
              0.5555555555555556,
              "#d8576b"
             ],
             [
              0.6666666666666666,
              "#ed7953"
             ],
             [
              0.7777777777777778,
              "#fb9f3a"
             ],
             [
              0.8888888888888888,
              "#fdca26"
             ],
             [
              1,
              "#f0f921"
             ]
            ],
            "type": "contour"
           }
          ],
          "contourcarpet": [
           {
            "colorbar": {
             "outlinewidth": 0,
             "ticks": ""
            },
            "type": "contourcarpet"
           }
          ],
          "heatmap": [
           {
            "colorbar": {
             "outlinewidth": 0,
             "ticks": ""
            },
            "colorscale": [
             [
              0,
              "#0d0887"
             ],
             [
              0.1111111111111111,
              "#46039f"
             ],
             [
              0.2222222222222222,
              "#7201a8"
             ],
             [
              0.3333333333333333,
              "#9c179e"
             ],
             [
              0.4444444444444444,
              "#bd3786"
             ],
             [
              0.5555555555555556,
              "#d8576b"
             ],
             [
              0.6666666666666666,
              "#ed7953"
             ],
             [
              0.7777777777777778,
              "#fb9f3a"
             ],
             [
              0.8888888888888888,
              "#fdca26"
             ],
             [
              1,
              "#f0f921"
             ]
            ],
            "type": "heatmap"
           }
          ],
          "heatmapgl": [
           {
            "colorbar": {
             "outlinewidth": 0,
             "ticks": ""
            },
            "colorscale": [
             [
              0,
              "#0d0887"
             ],
             [
              0.1111111111111111,
              "#46039f"
             ],
             [
              0.2222222222222222,
              "#7201a8"
             ],
             [
              0.3333333333333333,
              "#9c179e"
             ],
             [
              0.4444444444444444,
              "#bd3786"
             ],
             [
              0.5555555555555556,
              "#d8576b"
             ],
             [
              0.6666666666666666,
              "#ed7953"
             ],
             [
              0.7777777777777778,
              "#fb9f3a"
             ],
             [
              0.8888888888888888,
              "#fdca26"
             ],
             [
              1,
              "#f0f921"
             ]
            ],
            "type": "heatmapgl"
           }
          ],
          "histogram": [
           {
            "marker": {
             "pattern": {
              "fillmode": "overlay",
              "size": 10,
              "solidity": 0.2
             }
            },
            "type": "histogram"
           }
          ],
          "histogram2d": [
           {
            "colorbar": {
             "outlinewidth": 0,
             "ticks": ""
            },
            "colorscale": [
             [
              0,
              "#0d0887"
             ],
             [
              0.1111111111111111,
              "#46039f"
             ],
             [
              0.2222222222222222,
              "#7201a8"
             ],
             [
              0.3333333333333333,
              "#9c179e"
             ],
             [
              0.4444444444444444,
              "#bd3786"
             ],
             [
              0.5555555555555556,
              "#d8576b"
             ],
             [
              0.6666666666666666,
              "#ed7953"
             ],
             [
              0.7777777777777778,
              "#fb9f3a"
             ],
             [
              0.8888888888888888,
              "#fdca26"
             ],
             [
              1,
              "#f0f921"
             ]
            ],
            "type": "histogram2d"
           }
          ],
          "histogram2dcontour": [
           {
            "colorbar": {
             "outlinewidth": 0,
             "ticks": ""
            },
            "colorscale": [
             [
              0,
              "#0d0887"
             ],
             [
              0.1111111111111111,
              "#46039f"
             ],
             [
              0.2222222222222222,
              "#7201a8"
             ],
             [
              0.3333333333333333,
              "#9c179e"
             ],
             [
              0.4444444444444444,
              "#bd3786"
             ],
             [
              0.5555555555555556,
              "#d8576b"
             ],
             [
              0.6666666666666666,
              "#ed7953"
             ],
             [
              0.7777777777777778,
              "#fb9f3a"
             ],
             [
              0.8888888888888888,
              "#fdca26"
             ],
             [
              1,
              "#f0f921"
             ]
            ],
            "type": "histogram2dcontour"
           }
          ],
          "mesh3d": [
           {
            "colorbar": {
             "outlinewidth": 0,
             "ticks": ""
            },
            "type": "mesh3d"
           }
          ],
          "parcoords": [
           {
            "line": {
             "colorbar": {
              "outlinewidth": 0,
              "ticks": ""
             }
            },
            "type": "parcoords"
           }
          ],
          "pie": [
           {
            "automargin": true,
            "type": "pie"
           }
          ],
          "scatter": [
           {
            "fillpattern": {
             "fillmode": "overlay",
             "size": 10,
             "solidity": 0.2
            },
            "type": "scatter"
           }
          ],
          "scatter3d": [
           {
            "line": {
             "colorbar": {
              "outlinewidth": 0,
              "ticks": ""
             }
            },
            "marker": {
             "colorbar": {
              "outlinewidth": 0,
              "ticks": ""
             }
            },
            "type": "scatter3d"
           }
          ],
          "scattercarpet": [
           {
            "marker": {
             "colorbar": {
              "outlinewidth": 0,
              "ticks": ""
             }
            },
            "type": "scattercarpet"
           }
          ],
          "scattergeo": [
           {
            "marker": {
             "colorbar": {
              "outlinewidth": 0,
              "ticks": ""
             }
            },
            "type": "scattergeo"
           }
          ],
          "scattergl": [
           {
            "marker": {
             "colorbar": {
              "outlinewidth": 0,
              "ticks": ""
             }
            },
            "type": "scattergl"
           }
          ],
          "scattermapbox": [
           {
            "marker": {
             "colorbar": {
              "outlinewidth": 0,
              "ticks": ""
             }
            },
            "type": "scattermapbox"
           }
          ],
          "scatterpolar": [
           {
            "marker": {
             "colorbar": {
              "outlinewidth": 0,
              "ticks": ""
             }
            },
            "type": "scatterpolar"
           }
          ],
          "scatterpolargl": [
           {
            "marker": {
             "colorbar": {
              "outlinewidth": 0,
              "ticks": ""
             }
            },
            "type": "scatterpolargl"
           }
          ],
          "scatterternary": [
           {
            "marker": {
             "colorbar": {
              "outlinewidth": 0,
              "ticks": ""
             }
            },
            "type": "scatterternary"
           }
          ],
          "surface": [
           {
            "colorbar": {
             "outlinewidth": 0,
             "ticks": ""
            },
            "colorscale": [
             [
              0,
              "#0d0887"
             ],
             [
              0.1111111111111111,
              "#46039f"
             ],
             [
              0.2222222222222222,
              "#7201a8"
             ],
             [
              0.3333333333333333,
              "#9c179e"
             ],
             [
              0.4444444444444444,
              "#bd3786"
             ],
             [
              0.5555555555555556,
              "#d8576b"
             ],
             [
              0.6666666666666666,
              "#ed7953"
             ],
             [
              0.7777777777777778,
              "#fb9f3a"
             ],
             [
              0.8888888888888888,
              "#fdca26"
             ],
             [
              1,
              "#f0f921"
             ]
            ],
            "type": "surface"
           }
          ],
          "table": [
           {
            "cells": {
             "fill": {
              "color": "#EBF0F8"
             },
             "line": {
              "color": "white"
             }
            },
            "header": {
             "fill": {
              "color": "#C8D4E3"
             },
             "line": {
              "color": "white"
             }
            },
            "type": "table"
           }
          ]
         },
         "layout": {
          "annotationdefaults": {
           "arrowcolor": "#2a3f5f",
           "arrowhead": 0,
           "arrowwidth": 1
          },
          "autotypenumbers": "strict",
          "coloraxis": {
           "colorbar": {
            "outlinewidth": 0,
            "ticks": ""
           }
          },
          "colorscale": {
           "diverging": [
            [
             0,
             "#8e0152"
            ],
            [
             0.1,
             "#c51b7d"
            ],
            [
             0.2,
             "#de77ae"
            ],
            [
             0.3,
             "#f1b6da"
            ],
            [
             0.4,
             "#fde0ef"
            ],
            [
             0.5,
             "#f7f7f7"
            ],
            [
             0.6,
             "#e6f5d0"
            ],
            [
             0.7,
             "#b8e186"
            ],
            [
             0.8,
             "#7fbc41"
            ],
            [
             0.9,
             "#4d9221"
            ],
            [
             1,
             "#276419"
            ]
           ],
           "sequential": [
            [
             0,
             "#0d0887"
            ],
            [
             0.1111111111111111,
             "#46039f"
            ],
            [
             0.2222222222222222,
             "#7201a8"
            ],
            [
             0.3333333333333333,
             "#9c179e"
            ],
            [
             0.4444444444444444,
             "#bd3786"
            ],
            [
             0.5555555555555556,
             "#d8576b"
            ],
            [
             0.6666666666666666,
             "#ed7953"
            ],
            [
             0.7777777777777778,
             "#fb9f3a"
            ],
            [
             0.8888888888888888,
             "#fdca26"
            ],
            [
             1,
             "#f0f921"
            ]
           ],
           "sequentialminus": [
            [
             0,
             "#0d0887"
            ],
            [
             0.1111111111111111,
             "#46039f"
            ],
            [
             0.2222222222222222,
             "#7201a8"
            ],
            [
             0.3333333333333333,
             "#9c179e"
            ],
            [
             0.4444444444444444,
             "#bd3786"
            ],
            [
             0.5555555555555556,
             "#d8576b"
            ],
            [
             0.6666666666666666,
             "#ed7953"
            ],
            [
             0.7777777777777778,
             "#fb9f3a"
            ],
            [
             0.8888888888888888,
             "#fdca26"
            ],
            [
             1,
             "#f0f921"
            ]
           ]
          },
          "colorway": [
           "#636efa",
           "#EF553B",
           "#00cc96",
           "#ab63fa",
           "#FFA15A",
           "#19d3f3",
           "#FF6692",
           "#B6E880",
           "#FF97FF",
           "#FECB52"
          ],
          "font": {
           "color": "#2a3f5f"
          },
          "geo": {
           "bgcolor": "white",
           "lakecolor": "white",
           "landcolor": "#E5ECF6",
           "showlakes": true,
           "showland": true,
           "subunitcolor": "white"
          },
          "hoverlabel": {
           "align": "left"
          },
          "hovermode": "closest",
          "mapbox": {
           "style": "light"
          },
          "paper_bgcolor": "white",
          "plot_bgcolor": "#E5ECF6",
          "polar": {
           "angularaxis": {
            "gridcolor": "white",
            "linecolor": "white",
            "ticks": ""
           },
           "bgcolor": "#E5ECF6",
           "radialaxis": {
            "gridcolor": "white",
            "linecolor": "white",
            "ticks": ""
           }
          },
          "scene": {
           "xaxis": {
            "backgroundcolor": "#E5ECF6",
            "gridcolor": "white",
            "gridwidth": 2,
            "linecolor": "white",
            "showbackground": true,
            "ticks": "",
            "zerolinecolor": "white"
           },
           "yaxis": {
            "backgroundcolor": "#E5ECF6",
            "gridcolor": "white",
            "gridwidth": 2,
            "linecolor": "white",
            "showbackground": true,
            "ticks": "",
            "zerolinecolor": "white"
           },
           "zaxis": {
            "backgroundcolor": "#E5ECF6",
            "gridcolor": "white",
            "gridwidth": 2,
            "linecolor": "white",
            "showbackground": true,
            "ticks": "",
            "zerolinecolor": "white"
           }
          },
          "shapedefaults": {
           "line": {
            "color": "#2a3f5f"
           }
          },
          "ternary": {
           "aaxis": {
            "gridcolor": "white",
            "linecolor": "white",
            "ticks": ""
           },
           "baxis": {
            "gridcolor": "white",
            "linecolor": "white",
            "ticks": ""
           },
           "bgcolor": "#E5ECF6",
           "caxis": {
            "gridcolor": "white",
            "linecolor": "white",
            "ticks": ""
           }
          },
          "title": {
           "x": 0.05
          },
          "xaxis": {
           "automargin": true,
           "gridcolor": "white",
           "linecolor": "white",
           "ticks": "",
           "title": {
            "standoff": 15
           },
           "zerolinecolor": "white",
           "zerolinewidth": 2
          },
          "yaxis": {
           "automargin": true,
           "gridcolor": "white",
           "linecolor": "white",
           "ticks": "",
           "title": {
            "standoff": 15
           },
           "zerolinecolor": "white",
           "zerolinewidth": 2
          }
         }
        },
        "title": {
         "text": "Median Income by County 2020"
        },
        "xaxis": {
         "anchor": "y",
         "autorange": true,
         "domain": [
          0,
          1
         ],
         "range": [
          -0.5,
          7.5
         ],
         "title": {
          "text": "County"
         },
         "type": "category"
        },
        "yaxis": {
         "anchor": "x",
         "autorange": true,
         "domain": [
          0,
          1
         ],
         "range": [
          0,
          108021.05263157895
         ],
         "title": {
          "text": "estinc2020"
         },
         "type": "linear"
        }
       }
      },
      "image/png": "[encoded data removed]",
      "text/html": [
       "<div>                            <div id=\"0193f940-397e-4d9e-b826-dc18688dfea9\" class=\"plotly-graph-div\" style=\"height:525px; width:100%;\"></div>            <script type=\"text/javascript\">                require([\"plotly\"], function(Plotly) {                    window.PLOTLYENV=window.PLOTLYENV || {};                                    if (document.getElementById(\"0193f940-397e-4d9e-b826-dc18688dfea9\")) {                    Plotly.newPlot(                        \"0193f940-397e-4d9e-b826-dc18688dfea9\",                        [{\"alignmentgroup\":\"True\",\"hovertemplate\":\"County=%{x}<br>estinc2020=%{y}<extra></extra>\",\"legendgroup\":\"\",\"marker\":{\"color\":\"#636efa\",\"pattern\":{\"shape\":\"\"}},\"name\":\"\",\"offsetgroup\":\"\",\"orientation\":\"v\",\"showlegend\":false,\"textposition\":\"auto\",\"x\":[\"Franklin\",\"Grant\",\"King\",\"Mason\",\"Pierce\",\"Snohomish\",\"Spokane\",\"Yakima\"],\"xaxis\":\"x\",\"y\":[73656,54753,102620,63785,80236,93589,60827,56353],\"yaxis\":\"y\",\"type\":\"bar\"}],                        {\"template\":{\"data\":{\"histogram2dcontour\":[{\"type\":\"histogram2dcontour\",\"colorbar\":{\"outlinewidth\":0,\"ticks\":\"\"},\"colorscale\":[[0.0,\"#0d0887\"],[0.1111111111111111,\"#46039f\"],[0.2222222222222222,\"#7201a8\"],[0.3333333333333333,\"#9c179e\"],[0.4444444444444444,\"#bd3786\"],[0.5555555555555556,\"#d8576b\"],[0.6666666666666666,\"#ed7953\"],[0.7777777777777778,\"#fb9f3a\"],[0.8888888888888888,\"#fdca26\"],[1.0,\"#f0f921\"]]}],\"choropleth\":[{\"type\":\"choropleth\",\"colorbar\":{\"outlinewidth\":0,\"ticks\":\"\"}}],\"histogram2d\":[{\"type\":\"histogram2d\",\"colorbar\":{\"outlinewidth\":0,\"ticks\":\"\"},\"colorscale\":[[0.0,\"#0d0887\"],[0.1111111111111111,\"#46039f\"],[0.2222222222222222,\"#7201a8\"],[0.3333333333333333,\"#9c179e\"],[0.4444444444444444,\"#bd3786\"],[0.5555555555555556,\"#d8576b\"],[0.6666666666666666,\"#ed7953\"],[0.7777777777777778,\"#fb9f3a\"],[0.8888888888888888,\"#fdca26\"],[1.0,\"#f0f921\"]]}],\"heatmap\":[{\"type\":\"heatmap\",\"colorbar\":{\"outlinewidth\":0,\"ticks\":\"\"},\"colorscale\":[[0.0,\"#0d0887\"],[0.1111111111111111,\"#46039f\"],[0.2222222222222222,\"#7201a8\"],[0.3333333333333333,\"#9c179e\"],[0.4444444444444444,\"#bd3786\"],[0.5555555555555556,\"#d8576b\"],[0.6666666666666666,\"#ed7953\"],[0.7777777777777778,\"#fb9f3a\"],[0.8888888888888888,\"#fdca26\"],[1.0,\"#f0f921\"]]}],\"heatmapgl\":[{\"type\":\"heatmapgl\",\"colorbar\":{\"outlinewidth\":0,\"ticks\":\"\"},\"colorscale\":[[0.0,\"#0d0887\"],[0.1111111111111111,\"#46039f\"],[0.2222222222222222,\"#7201a8\"],[0.3333333333333333,\"#9c179e\"],[0.4444444444444444,\"#bd3786\"],[0.5555555555555556,\"#d8576b\"],[0.6666666666666666,\"#ed7953\"],[0.7777777777777778,\"#fb9f3a\"],[0.8888888888888888,\"#fdca26\"],[1.0,\"#f0f921\"]]}],\"contourcarpet\":[{\"type\":\"contourcarpet\",\"colorbar\":{\"outlinewidth\":0,\"ticks\":\"\"}}],\"contour\":[{\"type\":\"contour\",\"colorbar\":{\"outlinewidth\":0,\"ticks\":\"\"},\"colorscale\":[[0.0,\"#0d0887\"],[0.1111111111111111,\"#46039f\"],[0.2222222222222222,\"#7201a8\"],[0.3333333333333333,\"#9c179e\"],[0.4444444444444444,\"#bd3786\"],[0.5555555555555556,\"#d8576b\"],[0.6666666666666666,\"#ed7953\"],[0.7777777777777778,\"#fb9f3a\"],[0.8888888888888888,\"#fdca26\"],[1.0,\"#f0f921\"]]}],\"surface\":[{\"type\":\"surface\",\"colorbar\":{\"outlinewidth\":0,\"ticks\":\"\"},\"colorscale\":[[0.0,\"#0d0887\"],[0.1111111111111111,\"#46039f\"],[0.2222222222222222,\"#7201a8\"],[0.3333333333333333,\"#9c179e\"],[0.4444444444444444,\"#bd3786\"],[0.5555555555555556,\"#d8576b\"],[0.6666666666666666,\"#ed7953\"],[0.7777777777777778,\"#fb9f3a\"],[0.8888888888888888,\"#fdca26\"],[1.0,\"#f0f921\"]]}],\"mesh3d\":[{\"type\":\"mesh3d\",\"colorbar\":{\"outlinewidth\":0,\"ticks\":\"\"}}],\"scatter\":[{\"fillpattern\":{\"fillmode\":\"overlay\",\"size\":10,\"solidity\":0.2},\"type\":\"scatter\"}],\"parcoords\":[{\"type\":\"parcoords\",\"line\":{\"colorbar\":{\"outlinewidth\":0,\"ticks\":\"\"}}}],\"scatterpolargl\":[{\"type\":\"scatterpolargl\",\"marker\":{\"colorbar\":{\"outlinewidth\":0,\"ticks\":\"\"}}}],\"bar\":[{\"error_x\":{\"color\":\"#2a3f5f\"},\"error_y\":{\"color\":\"#2a3f5f\"},\"marker\":{\"line\":{\"color\":\"#E5ECF6\",\"width\":0.5},\"pattern\":{\"fillmode\":\"overlay\",\"size\":10,\"solidity\":0.2}},\"type\":\"bar\"}],\"scattergeo\":[{\"type\":\"scattergeo\",\"marker\":{\"colorbar\":{\"outlinewidth\":0,\"ticks\":\"\"}}}],\"scatterpolar\":[{\"type\":\"scatterpolar\",\"marker\":{\"colorbar\":{\"outlinewidth\":0,\"ticks\":\"\"}}}],\"histogram\":[{\"marker\":{\"pattern\":{\"fillmode\":\"overlay\",\"size\":10,\"solidity\":0.2}},\"type\":\"histogram\"}],\"scattergl\":[{\"type\":\"scattergl\",\"marker\":{\"colorbar\":{\"outlinewidth\":0,\"ticks\":\"\"}}}],\"scatter3d\":[{\"type\":\"scatter3d\",\"line\":{\"colorbar\":{\"outlinewidth\":0,\"ticks\":\"\"}},\"marker\":{\"colorbar\":{\"outlinewidth\":0,\"ticks\":\"\"}}}],\"scattermapbox\":[{\"type\":\"scattermapbox\",\"marker\":{\"colorbar\":{\"outlinewidth\":0,\"ticks\":\"\"}}}],\"scatterternary\":[{\"type\":\"scatterternary\",\"marker\":{\"colorbar\":{\"outlinewidth\":0,\"ticks\":\"\"}}}],\"scattercarpet\":[{\"type\":\"scattercarpet\",\"marker\":{\"colorbar\":{\"outlinewidth\":0,\"ticks\":\"\"}}}],\"carpet\":[{\"aaxis\":{\"endlinecolor\":\"#2a3f5f\",\"gridcolor\":\"white\",\"linecolor\":\"white\",\"minorgridcolor\":\"white\",\"startlinecolor\":\"#2a3f5f\"},\"baxis\":{\"endlinecolor\":\"#2a3f5f\",\"gridcolor\":\"white\",\"linecolor\":\"white\",\"minorgridcolor\":\"white\",\"startlinecolor\":\"#2a3f5f\"},\"type\":\"carpet\"}],\"table\":[{\"cells\":{\"fill\":{\"color\":\"#EBF0F8\"},\"line\":{\"color\":\"white\"}},\"header\":{\"fill\":{\"color\":\"#C8D4E3\"},\"line\":{\"color\":\"white\"}},\"type\":\"table\"}],\"barpolar\":[{\"marker\":{\"line\":{\"color\":\"#E5ECF6\",\"width\":0.5},\"pattern\":{\"fillmode\":\"overlay\",\"size\":10,\"solidity\":0.2}},\"type\":\"barpolar\"}],\"pie\":[{\"automargin\":true,\"type\":\"pie\"}]},\"layout\":{\"autotypenumbers\":\"strict\",\"colorway\":[\"#636efa\",\"#EF553B\",\"#00cc96\",\"#ab63fa\",\"#FFA15A\",\"#19d3f3\",\"#FF6692\",\"#B6E880\",\"#FF97FF\",\"#FECB52\"],\"font\":{\"color\":\"#2a3f5f\"},\"hovermode\":\"closest\",\"hoverlabel\":{\"align\":\"left\"},\"paper_bgcolor\":\"white\",\"plot_bgcolor\":\"#E5ECF6\",\"polar\":{\"bgcolor\":\"#E5ECF6\",\"angularaxis\":{\"gridcolor\":\"white\",\"linecolor\":\"white\",\"ticks\":\"\"},\"radialaxis\":{\"gridcolor\":\"white\",\"linecolor\":\"white\",\"ticks\":\"\"}},\"ternary\":{\"bgcolor\":\"#E5ECF6\",\"aaxis\":{\"gridcolor\":\"white\",\"linecolor\":\"white\",\"ticks\":\"\"},\"baxis\":{\"gridcolor\":\"white\",\"linecolor\":\"white\",\"ticks\":\"\"},\"caxis\":{\"gridcolor\":\"white\",\"linecolor\":\"white\",\"ticks\":\"\"}},\"coloraxis\":{\"colorbar\":{\"outlinewidth\":0,\"ticks\":\"\"}},\"colorscale\":{\"sequential\":[[0.0,\"#0d0887\"],[0.1111111111111111,\"#46039f\"],[0.2222222222222222,\"#7201a8\"],[0.3333333333333333,\"#9c179e\"],[0.4444444444444444,\"#bd3786\"],[0.5555555555555556,\"#d8576b\"],[0.6666666666666666,\"#ed7953\"],[0.7777777777777778,\"#fb9f3a\"],[0.8888888888888888,\"#fdca26\"],[1.0,\"#f0f921\"]],\"sequentialminus\":[[0.0,\"#0d0887\"],[0.1111111111111111,\"#46039f\"],[0.2222222222222222,\"#7201a8\"],[0.3333333333333333,\"#9c179e\"],[0.4444444444444444,\"#bd3786\"],[0.5555555555555556,\"#d8576b\"],[0.6666666666666666,\"#ed7953\"],[0.7777777777777778,\"#fb9f3a\"],[0.8888888888888888,\"#fdca26\"],[1.0,\"#f0f921\"]],\"diverging\":[[0,\"#8e0152\"],[0.1,\"#c51b7d\"],[0.2,\"#de77ae\"],[0.3,\"#f1b6da\"],[0.4,\"#fde0ef\"],[0.5,\"#f7f7f7\"],[0.6,\"#e6f5d0\"],[0.7,\"#b8e186\"],[0.8,\"#7fbc41\"],[0.9,\"#4d9221\"],[1,\"#276419\"]]},\"xaxis\":{\"gridcolor\":\"white\",\"linecolor\":\"white\",\"ticks\":\"\",\"title\":{\"standoff\":15},\"zerolinecolor\":\"white\",\"automargin\":true,\"zerolinewidth\":2},\"yaxis\":{\"gridcolor\":\"white\",\"linecolor\":\"white\",\"ticks\":\"\",\"title\":{\"standoff\":15},\"zerolinecolor\":\"white\",\"automargin\":true,\"zerolinewidth\":2},\"scene\":{\"xaxis\":{\"backgroundcolor\":\"#E5ECF6\",\"gridcolor\":\"white\",\"linecolor\":\"white\",\"showbackground\":true,\"ticks\":\"\",\"zerolinecolor\":\"white\",\"gridwidth\":2},\"yaxis\":{\"backgroundcolor\":\"#E5ECF6\",\"gridcolor\":\"white\",\"linecolor\":\"white\",\"showbackground\":true,\"ticks\":\"\",\"zerolinecolor\":\"white\",\"gridwidth\":2},\"zaxis\":{\"backgroundcolor\":\"#E5ECF6\",\"gridcolor\":\"white\",\"linecolor\":\"white\",\"showbackground\":true,\"ticks\":\"\",\"zerolinecolor\":\"white\",\"gridwidth\":2}},\"shapedefaults\":{\"line\":{\"color\":\"#2a3f5f\"}},\"annotationdefaults\":{\"arrowcolor\":\"#2a3f5f\",\"arrowhead\":0,\"arrowwidth\":1},\"geo\":{\"bgcolor\":\"white\",\"landcolor\":\"#E5ECF6\",\"subunitcolor\":\"white\",\"showland\":true,\"showlakes\":true,\"lakecolor\":\"white\"},\"title\":{\"x\":0.05},\"mapbox\":{\"style\":\"light\"}}},\"xaxis\":{\"anchor\":\"y\",\"domain\":[0.0,1.0],\"title\":{\"text\":\"County\"}},\"yaxis\":{\"anchor\":\"x\",\"domain\":[0.0,1.0],\"title\":{\"text\":\"estinc2020\"}},\"legend\":{\"tracegroupgap\":0},\"title\":{\"text\":\"Median Income by County 2020\"},\"barmode\":\"relative\"},                        {\"responsive\": true}                    ).then(function(){\n",
       "                            \n",
       "var gd = document.getElementById('0193f940-397e-4d9e-b826-dc18688dfea9');\n",
       "var x = new MutationObserver(function (mutations, observer) {{\n",
       "        var display = window.getComputedStyle(gd).display;\n",
       "        if (!display || display === 'none') {{\n",
       "            console.log([gd, 'removed!']);\n",
       "            Plotly.purge(gd);\n",
       "            observer.disconnect();\n",
       "        }}\n",
       "}});\n",
       "\n",
       "// Listen for the removal of the full notebook cells\n",
       "var notebookContainer = gd.closest('#notebook-container');\n",
       "if (notebookContainer) {{\n",
       "    x.observe(notebookContainer, {childList: true});\n",
       "}}\n",
       "\n",
       "// Listen for the clearing of the current output cell\n",
       "var outputEl = gd.closest('.output');\n",
       "if (outputEl) {{\n",
       "    x.observe(outputEl, {childList: true});\n",
       "}}\n",
       "\n",
       "                        })                };                });            </script>        </div>"
      ]
     },
     "metadata": {},
     "output_type": "display_data"
    }
   ],
   "source": [
    "fig = px.bar(income, x=\"County\", y=\"estinc2020\", title=\"Median Income by County 2020\")\n",
    "fig.show()"
   ]
  },
  {
   "cell_type": "code",
   "execution_count": 1051,
   "id": "2a972bec-9fe7-41e7-b7ae-ec93adf97c84",
   "metadata": {
    "tags": []
   },
   "outputs": [
    {
     "data": {
      "text/html": [
       "<div>\n",
       "<style scoped>\n",
       "    .dataframe tbody tr th:only-of-type {\n",
       "        vertical-align: middle;\n",
       "    }\n",
       "\n",
       "    .dataframe tbody tr th {\n",
       "        vertical-align: top;\n",
       "    }\n",
       "\n",
       "    .dataframe thead th {\n",
       "        text-align: right;\n",
       "    }\n",
       "</style>\n",
       "<table border=\"1\" class=\"dataframe\">\n",
       "  <thead>\n",
       "    <tr style=\"text-align: right;\">\n",
       "      <th></th>\n",
       "      <th>lat</th>\n",
       "      <th>lon</th>\n",
       "    </tr>\n",
       "  </thead>\n",
       "  <tbody>\n",
       "    <tr>\n",
       "      <th>13</th>\n",
       "      <td>47.311206</td>\n",
       "      <td>-122.917983</td>\n",
       "    </tr>\n",
       "    <tr>\n",
       "      <th>24</th>\n",
       "      <td>48.990550</td>\n",
       "      <td>-122.734947</td>\n",
       "    </tr>\n",
       "    <tr>\n",
       "      <th>25</th>\n",
       "      <td>48.990550</td>\n",
       "      <td>-122.734947</td>\n",
       "    </tr>\n",
       "    <tr>\n",
       "      <th>40</th>\n",
       "      <td>46.728128</td>\n",
       "      <td>-119.044797</td>\n",
       "    </tr>\n",
       "    <tr>\n",
       "      <th>41</th>\n",
       "      <td>46.728128</td>\n",
       "      <td>-119.044797</td>\n",
       "    </tr>\n",
       "    <tr>\n",
       "      <th>...</th>\n",
       "      <td>...</td>\n",
       "      <td>...</td>\n",
       "    </tr>\n",
       "    <tr>\n",
       "      <th>4000</th>\n",
       "      <td>47.183506</td>\n",
       "      <td>-122.016372</td>\n",
       "    </tr>\n",
       "    <tr>\n",
       "      <th>4018</th>\n",
       "      <td>46.342742</td>\n",
       "      <td>-120.173478</td>\n",
       "    </tr>\n",
       "    <tr>\n",
       "      <th>4020</th>\n",
       "      <td>46.342742</td>\n",
       "      <td>-120.173478</td>\n",
       "    </tr>\n",
       "    <tr>\n",
       "      <th>4022</th>\n",
       "      <td>46.342742</td>\n",
       "      <td>-120.173478</td>\n",
       "    </tr>\n",
       "    <tr>\n",
       "      <th>4024</th>\n",
       "      <td>47.222044</td>\n",
       "      <td>-122.557925</td>\n",
       "    </tr>\n",
       "  </tbody>\n",
       "</table>\n",
       "<p>548 rows × 2 columns</p>\n",
       "</div>"
      ],
      "text/plain": [
       "            lat         lon\n",
       "13    47.311206 -122.917983\n",
       "24    48.990550 -122.734947\n",
       "25    48.990550 -122.734947\n",
       "40    46.728128 -119.044797\n",
       "41    46.728128 -119.044797\n",
       "...         ...         ...\n",
       "4000  47.183506 -122.016372\n",
       "4018  46.342742 -120.173478\n",
       "4020  46.342742 -120.173478\n",
       "4022  46.342742 -120.173478\n",
       "4024  47.222044 -122.557925\n",
       "\n",
       "[548 rows x 2 columns]"
      ]
     },
     "execution_count": 1051,
     "metadata": {},
     "output_type": "execute_result"
    }
   ],
   "source": [
    "newdata[['lat','lon']]"
   ]
  },
  {
   "cell_type": "code",
   "execution_count": 1220,
   "id": "5b4b3bbd-b410-4484-a53e-94ff3abf3ff8",
   "metadata": {
    "tags": []
   },
   "outputs": [
    {
     "data": {
      "text/plain": [
       "Seattle        316\n",
       "Tacoma         197\n",
       "Spokane        191\n",
       "Vancouver      123\n",
       "Kent           111\n",
       "              ... \n",
       "Fairfield        1\n",
       "Toutle           1\n",
       "South Bend       1\n",
       "Amanda Park      1\n",
       "Glenwood         1\n",
       "Name: crashcity, Length: 304, dtype: int64"
      ]
     },
     "execution_count": 1220,
     "metadata": {},
     "output_type": "execute_result"
    }
   ],
   "source": [
    "data['crashcity'].value_counts()"
   ]
  },
  {
   "cell_type": "code",
   "execution_count": 1223,
   "id": "99fcaf08-40cf-471c-8e04-dbbddf4c14e9",
   "metadata": {
    "tags": []
   },
   "outputs": [
    {
     "data": {
      "text/plain": [
       "Seattle        26\n",
       "Tacoma         16\n",
       "Everett        14\n",
       "Puyallup       13\n",
       "Kent           12\n",
       "               ..\n",
       "Marblemount     1\n",
       "Ravensdale      1\n",
       "Tonasket        1\n",
       "Ephrata         1\n",
       "Greenacres      1\n",
       "Name: crashcity, Length: 123, dtype: int64"
      ]
     },
     "execution_count": 1223,
     "metadata": {},
     "output_type": "execute_result"
    }
   ],
   "source": [
    "trac = newdata.loc[newdata['d_cty']=='visitor']\n",
    "\n",
    "trac['crashcity'].value_counts()"
   ]
  },
  {
   "cell_type": "code",
   "execution_count": 1130,
   "id": "2862bd66-0aa7-49bf-801c-4037ccfe7cd8",
   "metadata": {
    "tags": []
   },
   "outputs": [
    {
     "data": {
      "text/plain": [
       "d_cty     crashcity \n",
       "resident  Spokane       132\n",
       "          Seattle        66\n",
       "          Tacoma         46\n",
       "          Kent           38\n",
       "          Everett        28\n",
       "                       ... \n",
       "visitor   Valley          1\n",
       "          Vashon          1\n",
       "          Waitsburg       1\n",
       "          Waterville      1\n",
       "          Wauconda        1\n",
       "Name: crashcity, Length: 536, dtype: int64"
      ]
     },
     "execution_count": 1130,
     "metadata": {},
     "output_type": "execute_result"
    }
   ],
   "source": [
    "data.groupby('d_cty')['crashcity'].value_counts()"
   ]
  },
  {
   "cell_type": "markdown",
   "id": "c6231f35-bdb9-4fe1-8c4f-dee7677389fb",
   "metadata": {},
   "source": [
    "## Observations\n",
    "\n",
    "\n",
    "- 0.02 (17) of zip codes make up 13.5% of the fatal crashes... why?\n",
    "- MEDIAN INCOME + ECONOMIC factors should be very important here because people need to have enough $$ to own vehicles in order to get into an accident in the first place right?"
   ]
  },
  {
   "cell_type": "code",
   "execution_count": 1029,
   "id": "01425df3-57a3-4f1d-89a1-f7fc7c0d4ca1",
   "metadata": {
    "tags": []
   },
   "outputs": [
    {
     "data": {
      "text/plain": [
       "count    4031.000000\n",
       "mean       43.337881\n",
       "std        23.594138\n",
       "min        14.000000\n",
       "25%        27.000000\n",
       "50%        41.000000\n",
       "75%        57.000000\n",
       "max       999.000000\n",
       "Name: age, dtype: float64"
      ]
     },
     "execution_count": 1029,
     "metadata": {},
     "output_type": "execute_result"
    }
   ],
   "source": [
    "data['age'].describe()"
   ]
  },
  {
   "cell_type": "code",
   "execution_count": 1028,
   "id": "ea102914-e321-4fda-825f-1a7d1394cbb4",
   "metadata": {
    "tags": []
   },
   "outputs": [
    {
     "data": {
      "text/plain": [
       "count    548.000000\n",
       "mean      41.912409\n",
       "std       17.539081\n",
       "min       15.000000\n",
       "25%       27.750000\n",
       "50%       38.000000\n",
       "75%       55.000000\n",
       "max       89.000000\n",
       "Name: age, dtype: float64"
      ]
     },
     "execution_count": 1028,
     "metadata": {},
     "output_type": "execute_result"
    }
   ],
   "source": [
    "newdata['age'].describe()"
   ]
  }
 ],
 "metadata": {
  "kernelspec": {
   "display_name": "Python 3 (ipykernel)",
   "language": "python",
   "name": "python3"
  },
  "language_info": {
   "codemirror_mode": {
    "name": "ipython",
    "version": 3
   },
   "file_extension": ".py",
   "mimetype": "text/x-python",
   "name": "python",
   "nbconvert_exporter": "python",
   "pygments_lexer": "ipython3",
   "version": "3.9.15"
  }
 },
 "nbformat": 4,
 "nbformat_minor": 5
}
